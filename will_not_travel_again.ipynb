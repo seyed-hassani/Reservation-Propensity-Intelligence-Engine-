{
  "cells": [
    {
      "cell_type": "markdown",
      "id": "20280abf-5599-4c89-be54-e9474622b2f6",
      "metadata": {
        "id": "20280abf-5599-4c89-be54-e9474622b2f6"
      },
      "source": [
        "<h1 dir=rtl align=center style=\"line-height:200%;font-family:vazir;color:#0099cc\">\n",
        "<font face=\"vazir\" color=\"#0099cc\">\n",
        "سفر نمی‌روم دگر!\n",
        "</font>\n",
        "</h1>\n",
        "\n",
        "\n",
        "<p dir=rtl style=\"direction: rtl; text-align: justify; line-height:200%; font-family:vazir; font-size:medium\">\n",
        "<font face=\"vazir\" size=3>\n",
        "    احتمالاً هنگامی‌که بخواهید برای تعطیلات نوروز به یک شهر مانند ارومیه سفر کنید، از طریق موبایل و یا لپ‌تاپ‌ و از مسیر جست‌وجوی گوگل، پیامک تبلیغاتی و یا به‌صورت مستقیم، وارد یک سایت رزرو هتل می‌شوید و بعد از ساخت حساب کاربری، اقدام به جست‌وجو کرده و مقصد و تاریخ ورود/خروج خود را وارد می‌کنید. در نتیجه لیستی از هتل‌ها برای شما، نشان داده‌ می‌شود و در نهایت، شما با کلیک بر روی هتل‌های مختلف، اقدام به مقایسه ی آن‌ها کرده و شاید (🙃) در نهایت یکی از آن‌ها را رزرو کنید.\n",
        "<br>\n",
        "در این پروژه شما پس از پیش‌پردازش داده‌ها و حل چالش‌های مربوط به آن، مدلی را آموزش می‌دهید که بر اساس اطلاعات جست‌وجوی کاربران و سایر ویژگی‌های مرتبط با آن، بتواند پیش‌بینی کند که آیا یک کاربر، هتل مشاهده‌شده را رزرو خواهد کرد یا خیر. بدین ترتیب، می‌توان در لحظه برای هر کاربر، متناسب با پیش‌بینی رزرو، تصمیم متناسبی همانند ارائه‌ی تخفیف و یا پیشنهاد سایر هتل‌ها اتخاذ کرد.\n",
        "</font>\n",
        "</p>"
      ]
    },
    {
      "cell_type": "markdown",
      "id": "aad47031-e73c-4f74-85ca-27fed60fa8b5",
      "metadata": {
        "id": "aad47031-e73c-4f74-85ca-27fed60fa8b5"
      },
      "source": [
        "<h2 align=right style=\"line-height:200%;font-family:vazir;color:#0099cc\">\n",
        "<font face=\"vazir\" color=\"#0099cc\">\n",
        "وارد کردن کتابخانه‌های مورد نیاز\n",
        "</font>\n",
        "</h2>\n",
        "\n",
        "<p dir=rtl style=\"direction: rtl; text-align: justify; line-height:200%; font-family:vazir; font-size:medium\">\n",
        "<font face=\"vazir\" size=3>\n",
        "    ابتدا کتابخانه‌های مورد نیاز را وارد کنید. در صورتی‌که نیاز به کتابخانه‌های دیگری دارید نیز می‌توانید آن‌ها را فراخوانی کنید.\n",
        "</font>\n",
        "</p>"
      ]
    },
    {
      "cell_type": "code",
      "execution_count": 1,
      "id": "f0a3e032-9c3c-49ae-be43-bc56fb0f1bdd",
      "metadata": {
        "id": "f0a3e032-9c3c-49ae-be43-bc56fb0f1bdd"
      },
      "outputs": [],
      "source": [
        "import numpy as np\n",
        "import pandas as pd"
      ]
    },
    {
      "cell_type": "code",
      "execution_count": 2,
      "id": "b46c2c70",
      "metadata": {
        "id": "b46c2c70"
      },
      "outputs": [],
      "source": [
        "# !pip install keras --upgrade\n",
        "# Uncomment the above line if you don't have keras 3 installed"
      ]
    },
    {
      "cell_type": "code",
      "execution_count": 3,
      "id": "ebd8caa9",
      "metadata": {
        "id": "ebd8caa9"
      },
      "outputs": [],
      "source": [
        "import os\n",
        "os.environ[\"KERAS_BACKEND\"] = \"tensorflow\""
      ]
    },
    {
      "cell_type": "code",
      "execution_count": 4,
      "id": "ea032cd4",
      "metadata": {
        "colab": {
          "base_uri": "https://localhost:8080/"
        },
        "id": "ea032cd4",
        "outputId": "9cce1731-1a02-4386-ea4c-6f4497c2c6ca"
      },
      "outputs": [
        {
          "output_type": "stream",
          "name": "stdout",
          "text": [
            "3.4.1\n"
          ]
        }
      ],
      "source": [
        "import keras\n",
        "print(keras.__version__)"
      ]
    },
    {
      "cell_type": "markdown",
      "id": "60c78b08-d918-4544-ad76-2d1dff9714f1",
      "metadata": {
        "id": "60c78b08-d918-4544-ad76-2d1dff9714f1"
      },
      "source": [
        "<h2 dir=rtl align=right style=\"line-height:200%;font-family:vazir;color:#0099cc\">\n",
        "<font face=\"vazir\" color=\"#0099cc\">\n",
        "مجموعه‌داده\n",
        "</font>\n",
        "</h2>\n",
        "\n",
        "\n",
        "\n",
        "<p dir=rtl style=\"direction: rtl; text-align: justify; line-height:200%; font-family:vazir; font-size:medium\">\n",
        "<font face=\"vazir\" size=3>\n",
        "به‌دلیل حجم بالای مجموعه‌داده نیاز است آن را جداگانه از <a href=\"https://drive.google.com/file/d/1jIl8uXsrdRz3ZBxljjQNo0ssDT8LbJBx/view?usp=sharing\" target=\"_blank\">این لینک</a> دانلود کرده و فایل‌های داخل آن را استخراج کنید.  توجه داشته باشید که اندازه‌ی مجموعه‌داده حدود ۱۸۰ مگابایت است و اگر قصد دانلود این حجم از داده را ندارید پیشنهاد می‌کنیم از محیط گوگل کولب استفاده کرده و به‌صورت مستقیم با دستور زیر این فایل را روی کولب خود بارگیری کنید.\n",
        "</font>\n",
        "</p>\n",
        "\n",
        "`!gdown 1jIl8uXsrdRz3ZBxljjQNo0ssDT8LbJBx`\n",
        "\n",
        "<details dir=\"rtl\" style=\"direction: rtl;text-align: justify;line-height:200%;font-family:vazir;font-size:medium\">\n",
        "<summary dir=\"rtl\" style=\"color:orange\"><b>رفع مشکل عدم امکان دانلود فایل با <code>gdown</code></b></summary>\n",
        "\n",
        "اگر در هنگام دانلود فایل به‌کمک <code>gdown</code> با خطای عدم اجازه‌ی دسترسی مواجه شدید، کافیست کد زیر را اجرا کرده و دوباره امتحان کنید.\n",
        "\n",
        "<span dir=ltr style=\"direction:ltr;\">\n",
        "\n",
        "`!pip install --upgrade --no-cache-dir gdown`\n",
        "\n",
        "</span>\n",
        "</details>\n",
        "\n",
        "<p dir=rtl style=\"direction: rtl; text-align: justify; line-height:200%; font-family:vazir; font-size:medium\">\n",
        "<font face=\"vazir\">\n",
        "در این سوال، شما به داده‌های جست‌وجوی کاربران دسترسی دارید. فایل آموزش (<code>train.csv</code>)، نتایج جست‌وجوی کاربران را در یک بازه‌ی حدوداً دو ساله شامل می‌شود و حدود ۷ میلیون سطر دارد. فایل آزمون (<code>test.csv</code>) دارای ۳۰۰ هزار سطر از اطلاعات جست‌وجوی کاربران در بازه‌ی حدود ۱ ماه پس از آخرین جست‌وجوی موجود در فایل آموزش است (این سطرها، به‌صورت تصادفی از بین چند میلیون سطر آن ماه، انتخاب شده‌اند).\n",
        "جدول زیر، ستون‌های موجود در فایل آموزش را توضیح می‌دهد. توجه داشته‌ باشید که هر ردیف این مجموعه‌داده، نشان‌دهنده‌ی جست‌وجوی یک کاربر جهت رزرو هتل است.\n",
        "     همچنین در مجموعه‌داده‌ی آزمون، ستون <code>is_booking</code> وجود ندارد، زیرا در ادامه از این ستون برای ساخت متغیر هدف مسئله استفاده خواهیم کرد.\n",
        "    <br> نحوه‌ی روبه‌رو شدن شما با مجموعه‌داده‌ای با این حجم، جزو یکی از چالش‌ها و اهداف طراحی این تمرین بوده‌است.\n",
        "\n",
        "</font>\n",
        "</p>\n",
        "\n",
        "\n",
        "<center>\n",
        "<div dir=rtl style=\"direction: rtl;line-height:200%;font-family:vazir;font-size:medium\">\n",
        "<font face=\"vazir\" size=3>\n",
        "\n",
        "| نام ستون | توضیحات ستون |\n",
        "|:----------:|:------------------:|\n",
        "| <code>user</code> | شناسه کاربر |\n",
        "| <code>user_location_country</code> | شناسه‌ی کشور کاربر |\n",
        "| <code>user_location_region</code> | شناسه‌ی منطقه‌ی کاربر |\n",
        "| <code>user_location_city</code> | شناسه‌ی شهر کاربر |\n",
        "| <code>destination_distance</code> | فاصله‌ی فیزیکی بین کاربر و هتل در زمان جست‌وجو‌ (مقدار <code>null</code> به معنی عدم توانایی محاسبه فاصله است) |\n",
        "| <code>search_date</code> | زمان انجام جست‌وجو |\n",
        "| <code>is_mobile</code> | آیا کاربر با دستگاه موبایل جست‌وجو انجام داده است؟ |\n",
        "| <code>is_package</code> | آیا کاربر در حال جست‌وجوی هتل به‌همراه بلیط حمل‌و‌نقل (اتوبوس، هواپیما یا قطار) است؟|\n",
        "| <code>channel</code> | کاربر از چه کانالی وارد سایت شده‌است؟ (تبلیغات پیامکی، تبلیغات شبکه‌ی اجتماعی، ورود مستقیم و ...)  |\n",
        "| <code>Search_count</code> |تعداد جست‌وجو‌های مشابه در لحظه‌ی کاربر (در همان نشست یا ‌<i>session</i>)|\n",
        "| <code>checkIn_date</code> | تاریخ ورود به هتل |\n",
        "| <code>checkOut_date</code> | تاریخ خروج از هتل |\n",
        "| <code>n_adults</code> | تعداد افراد بالغ اعلام‌شده جهت رزرو هتل |\n",
        "| <code>n_children</code> | تعداد کودکان اعلام‌شده جهت رزرو هتل |\n",
        "| <code>n_rooms</code> | تعداد اتاق مورد نظر برای رزرو |\n",
        "| <code>destination</code> | شناسه‌ی محل هتل مورد نظر کاربر (با هم‌پوشانی همچون نیویورک، نیویورک سیتی، سنترال پارک و غیره) |\n",
        "| <code>destination_type</code> | کد نوع هتل مورد نظر کار‌بر |\n",
        "| <code>hotel_continent</code> | شناسه‌ی قاره‌ی هتل مورد نظر کاربر |\n",
        "| <code>hotel_country</code> | شناسه‌ی کشور هتل مورد نظر کاربر |\n",
        "| <code>hotel_market</code> | ناحیه‌ای که هتل مورد نظر کاربر در آن قرار گرفته‌است (بدون هم‌پوشانی همچون نیویورک، بوستون و غیره)|\n",
        "| <code>hotel_category</code> | گرو‌ه‌بندی هتلی که جزییاتش را مشاهده می‌کنند. این گروه‌بندی می‌تواند بر اساس مواردی مانند چندستاره بودن و یا نوع هتل باشد. |\n",
        "| <code>is_booking<code> | آیا کاربر در نهایت، هتل مشاهده‌شده را رزرو کرده یا خیر؟ |\n",
        "\n",
        "\n",
        "</font>\n",
        "</div>\n",
        "</center>"
      ]
    },
    {
      "cell_type": "code",
      "execution_count": 5,
      "id": "238e2183",
      "metadata": {
        "colab": {
          "base_uri": "https://localhost:8080/"
        },
        "id": "238e2183",
        "outputId": "4f68789f-42c1-47ef-fbe3-95eb0540f9ef"
      },
      "outputs": [
        {
          "output_type": "stream",
          "name": "stdout",
          "text": [
            "Requirement already satisfied: gdown in /usr/local/lib/python3.10/dist-packages (5.1.0)\n",
            "Collecting gdown\n",
            "  Downloading gdown-5.2.0-py3-none-any.whl.metadata (5.8 kB)\n",
            "Requirement already satisfied: beautifulsoup4 in /usr/local/lib/python3.10/dist-packages (from gdown) (4.12.3)\n",
            "Requirement already satisfied: filelock in /usr/local/lib/python3.10/dist-packages (from gdown) (3.15.4)\n",
            "Requirement already satisfied: requests[socks] in /usr/local/lib/python3.10/dist-packages (from gdown) (2.32.3)\n",
            "Requirement already satisfied: tqdm in /usr/local/lib/python3.10/dist-packages (from gdown) (4.66.5)\n",
            "Requirement already satisfied: soupsieve>1.2 in /usr/local/lib/python3.10/dist-packages (from beautifulsoup4->gdown) (2.6)\n",
            "Requirement already satisfied: charset-normalizer<4,>=2 in /usr/local/lib/python3.10/dist-packages (from requests[socks]->gdown) (3.3.2)\n",
            "Requirement already satisfied: idna<4,>=2.5 in /usr/local/lib/python3.10/dist-packages (from requests[socks]->gdown) (3.8)\n",
            "Requirement already satisfied: urllib3<3,>=1.21.1 in /usr/local/lib/python3.10/dist-packages (from requests[socks]->gdown) (2.0.7)\n",
            "Requirement already satisfied: certifi>=2017.4.17 in /usr/local/lib/python3.10/dist-packages (from requests[socks]->gdown) (2024.7.4)\n",
            "Requirement already satisfied: PySocks!=1.5.7,>=1.5.6 in /usr/local/lib/python3.10/dist-packages (from requests[socks]->gdown) (1.7.1)\n",
            "Downloading gdown-5.2.0-py3-none-any.whl (18 kB)\n",
            "Installing collected packages: gdown\n",
            "  Attempting uninstall: gdown\n",
            "    Found existing installation: gdown 5.1.0\n",
            "    Uninstalling gdown-5.1.0:\n",
            "      Successfully uninstalled gdown-5.1.0\n",
            "Successfully installed gdown-5.2.0\n",
            "Downloading...\n",
            "From (original): https://drive.google.com/uc?id=1jIl8uXsrdRz3ZBxljjQNo0ssDT8LbJBx\n",
            "From (redirected): https://drive.google.com/uc?id=1jIl8uXsrdRz3ZBxljjQNo0ssDT8LbJBx&confirm=t&uuid=64bb1437-6713-4d8a-ae8c-1df109ee477c\n",
            "To: /content/will_not_travel_again_data.zip\n",
            "100% 188M/188M [00:01<00:00, 106MB/s] \n"
          ]
        }
      ],
      "source": [
        "!pip3 install --upgrade --no-cache-dir gdown\n",
        "!gdown 1jIl8uXsrdRz3ZBxljjQNo0ssDT8LbJBx"
      ]
    },
    {
      "cell_type": "code",
      "source": [
        "!unzip will_not_travel_again_data.zip"
      ],
      "metadata": {
        "colab": {
          "base_uri": "https://localhost:8080/"
        },
        "id": "meVjFA3JOna8",
        "outputId": "538e9172-e35f-4b9e-b168-8cecb4a9d3fc"
      },
      "id": "meVjFA3JOna8",
      "execution_count": 6,
      "outputs": [
        {
          "output_type": "stream",
          "name": "stdout",
          "text": [
            "Archive:  will_not_travel_again_data.zip\n",
            "   creating: data/\n",
            "  inflating: data/test.csv           \n",
            "  inflating: data/train.csv          \n"
          ]
        }
      ]
    },
    {
      "cell_type": "markdown",
      "id": "820bf0d7-de5a-4d03-bfed-c74ea313411a",
      "metadata": {
        "id": "820bf0d7-de5a-4d03-bfed-c74ea313411a"
      },
      "source": [
        "<h2 align=right style=\"line-height:200%;font-family:vazir;color:#0099cc\">\n",
        "<font face=\"vazir\" color=\"#0099cc\">\n",
        "خوانش مجموعه‌داده\n",
        "</font>\n",
        "</h2>\n",
        "\n",
        "<p dir=rtl style=\"direction: rtl; text-align: justify; line-height:200%; font-family:vazir; font-size:medium\">\n",
        "<font face=\"vazir\" size=3>\n",
        "   در ابتدا نیاز است فایل‌ مجموعه‌داده را بخوانید. داده‌‌های آموزش را می‌توانید از فایل <code>train.csv</code> موجود در پوشه‌ی <code>data</code> بخوانید و از نمونه‌های موجود در آن برای آموزش مدل استفاده کنید.\n",
        " عملکرد مدل شما روی داده‌ی <code>test.csv</code> برسی می‌شود.\n",
        "</font>\n",
        "</p>"
      ]
    },
    {
      "cell_type": "code",
      "execution_count": 7,
      "id": "abb84b7f-b40c-4691-92bc-fab04cca62e6",
      "metadata": {
        "colab": {
          "base_uri": "https://localhost:8080/",
          "height": 342
        },
        "id": "abb84b7f-b40c-4691-92bc-fab04cca62e6",
        "outputId": "6842194f-913b-4cf7-822a-e6955f9717c3"
      },
      "outputs": [
        {
          "output_type": "execute_result",
          "data": {
            "text/plain": [
              "      user  user_location_country  user_location_region  user_location_city  \\\n",
              "0   461899                      3                    50                5703   \n",
              "1    13796                     66                   174               21177   \n",
              "2  1128575                    205                   155               14703   \n",
              "3  1080476                     69                   761               41949   \n",
              "4  1080476                     69                   761               41949   \n",
              "\n",
              "   destination_distance         search_date  is_mobile  is_package  channel  \\\n",
              "0                   NaN 2013-01-07 00:00:02          0           0        9   \n",
              "1             5713.6206 2013-01-07 00:00:06          0           0        9   \n",
              "2              795.7298 2013-01-07 00:00:06          0           0        9   \n",
              "3                   NaN 2013-01-07 00:00:17          0           1        9   \n",
              "4                   NaN 2013-01-07 00:00:23          0           1        9   \n",
              "\n",
              "   search_count  ... n_adults n_children  n_rooms  destination  \\\n",
              "0             1  ...        2          1        1          669   \n",
              "1             3  ...        1          0        1         8821   \n",
              "2             1  ...        1          0        1        25064   \n",
              "3             1  ...        2          0        1         7635   \n",
              "4             1  ...        2          0        1         7635   \n",
              "\n",
              "   destination_type  hotel_continent  hotel_country  hotel_market  \\\n",
              "0                 3                2             50           212   \n",
              "1                 1                6             17            30   \n",
              "2                 6                2             50          1230   \n",
              "3                 3                2             50           675   \n",
              "4                 3                2             50           675   \n",
              "\n",
              "   hotel_category  is_booking  \n",
              "0              41           0  \n",
              "1              58           0  \n",
              "2              91           0  \n",
              "3              10           0  \n",
              "4              10           0  \n",
              "\n",
              "[5 rows x 22 columns]"
            ],
            "text/html": [
              "\n",
              "  <div id=\"df-14b5e6d1-19be-47a1-9db6-1be1ad42f1d7\" class=\"colab-df-container\">\n",
              "    <div>\n",
              "<style scoped>\n",
              "    .dataframe tbody tr th:only-of-type {\n",
              "        vertical-align: middle;\n",
              "    }\n",
              "\n",
              "    .dataframe tbody tr th {\n",
              "        vertical-align: top;\n",
              "    }\n",
              "\n",
              "    .dataframe thead th {\n",
              "        text-align: right;\n",
              "    }\n",
              "</style>\n",
              "<table border=\"1\" class=\"dataframe\">\n",
              "  <thead>\n",
              "    <tr style=\"text-align: right;\">\n",
              "      <th></th>\n",
              "      <th>user</th>\n",
              "      <th>user_location_country</th>\n",
              "      <th>user_location_region</th>\n",
              "      <th>user_location_city</th>\n",
              "      <th>destination_distance</th>\n",
              "      <th>search_date</th>\n",
              "      <th>is_mobile</th>\n",
              "      <th>is_package</th>\n",
              "      <th>channel</th>\n",
              "      <th>search_count</th>\n",
              "      <th>...</th>\n",
              "      <th>n_adults</th>\n",
              "      <th>n_children</th>\n",
              "      <th>n_rooms</th>\n",
              "      <th>destination</th>\n",
              "      <th>destination_type</th>\n",
              "      <th>hotel_continent</th>\n",
              "      <th>hotel_country</th>\n",
              "      <th>hotel_market</th>\n",
              "      <th>hotel_category</th>\n",
              "      <th>is_booking</th>\n",
              "    </tr>\n",
              "  </thead>\n",
              "  <tbody>\n",
              "    <tr>\n",
              "      <th>0</th>\n",
              "      <td>461899</td>\n",
              "      <td>3</td>\n",
              "      <td>50</td>\n",
              "      <td>5703</td>\n",
              "      <td>NaN</td>\n",
              "      <td>2013-01-07 00:00:02</td>\n",
              "      <td>0</td>\n",
              "      <td>0</td>\n",
              "      <td>9</td>\n",
              "      <td>1</td>\n",
              "      <td>...</td>\n",
              "      <td>2</td>\n",
              "      <td>1</td>\n",
              "      <td>1</td>\n",
              "      <td>669</td>\n",
              "      <td>3</td>\n",
              "      <td>2</td>\n",
              "      <td>50</td>\n",
              "      <td>212</td>\n",
              "      <td>41</td>\n",
              "      <td>0</td>\n",
              "    </tr>\n",
              "    <tr>\n",
              "      <th>1</th>\n",
              "      <td>13796</td>\n",
              "      <td>66</td>\n",
              "      <td>174</td>\n",
              "      <td>21177</td>\n",
              "      <td>5713.6206</td>\n",
              "      <td>2013-01-07 00:00:06</td>\n",
              "      <td>0</td>\n",
              "      <td>0</td>\n",
              "      <td>9</td>\n",
              "      <td>3</td>\n",
              "      <td>...</td>\n",
              "      <td>1</td>\n",
              "      <td>0</td>\n",
              "      <td>1</td>\n",
              "      <td>8821</td>\n",
              "      <td>1</td>\n",
              "      <td>6</td>\n",
              "      <td>17</td>\n",
              "      <td>30</td>\n",
              "      <td>58</td>\n",
              "      <td>0</td>\n",
              "    </tr>\n",
              "    <tr>\n",
              "      <th>2</th>\n",
              "      <td>1128575</td>\n",
              "      <td>205</td>\n",
              "      <td>155</td>\n",
              "      <td>14703</td>\n",
              "      <td>795.7298</td>\n",
              "      <td>2013-01-07 00:00:06</td>\n",
              "      <td>0</td>\n",
              "      <td>0</td>\n",
              "      <td>9</td>\n",
              "      <td>1</td>\n",
              "      <td>...</td>\n",
              "      <td>1</td>\n",
              "      <td>0</td>\n",
              "      <td>1</td>\n",
              "      <td>25064</td>\n",
              "      <td>6</td>\n",
              "      <td>2</td>\n",
              "      <td>50</td>\n",
              "      <td>1230</td>\n",
              "      <td>91</td>\n",
              "      <td>0</td>\n",
              "    </tr>\n",
              "    <tr>\n",
              "      <th>3</th>\n",
              "      <td>1080476</td>\n",
              "      <td>69</td>\n",
              "      <td>761</td>\n",
              "      <td>41949</td>\n",
              "      <td>NaN</td>\n",
              "      <td>2013-01-07 00:00:17</td>\n",
              "      <td>0</td>\n",
              "      <td>1</td>\n",
              "      <td>9</td>\n",
              "      <td>1</td>\n",
              "      <td>...</td>\n",
              "      <td>2</td>\n",
              "      <td>0</td>\n",
              "      <td>1</td>\n",
              "      <td>7635</td>\n",
              "      <td>3</td>\n",
              "      <td>2</td>\n",
              "      <td>50</td>\n",
              "      <td>675</td>\n",
              "      <td>10</td>\n",
              "      <td>0</td>\n",
              "    </tr>\n",
              "    <tr>\n",
              "      <th>4</th>\n",
              "      <td>1080476</td>\n",
              "      <td>69</td>\n",
              "      <td>761</td>\n",
              "      <td>41949</td>\n",
              "      <td>NaN</td>\n",
              "      <td>2013-01-07 00:00:23</td>\n",
              "      <td>0</td>\n",
              "      <td>1</td>\n",
              "      <td>9</td>\n",
              "      <td>1</td>\n",
              "      <td>...</td>\n",
              "      <td>2</td>\n",
              "      <td>0</td>\n",
              "      <td>1</td>\n",
              "      <td>7635</td>\n",
              "      <td>3</td>\n",
              "      <td>2</td>\n",
              "      <td>50</td>\n",
              "      <td>675</td>\n",
              "      <td>10</td>\n",
              "      <td>0</td>\n",
              "    </tr>\n",
              "  </tbody>\n",
              "</table>\n",
              "<p>5 rows × 22 columns</p>\n",
              "</div>\n",
              "    <div class=\"colab-df-buttons\">\n",
              "\n",
              "  <div class=\"colab-df-container\">\n",
              "    <button class=\"colab-df-convert\" onclick=\"convertToInteractive('df-14b5e6d1-19be-47a1-9db6-1be1ad42f1d7')\"\n",
              "            title=\"Convert this dataframe to an interactive table.\"\n",
              "            style=\"display:none;\">\n",
              "\n",
              "  <svg xmlns=\"http://www.w3.org/2000/svg\" height=\"24px\" viewBox=\"0 -960 960 960\">\n",
              "    <path d=\"M120-120v-720h720v720H120Zm60-500h600v-160H180v160Zm220 220h160v-160H400v160Zm0 220h160v-160H400v160ZM180-400h160v-160H180v160Zm440 0h160v-160H620v160ZM180-180h160v-160H180v160Zm440 0h160v-160H620v160Z\"/>\n",
              "  </svg>\n",
              "    </button>\n",
              "\n",
              "  <style>\n",
              "    .colab-df-container {\n",
              "      display:flex;\n",
              "      gap: 12px;\n",
              "    }\n",
              "\n",
              "    .colab-df-convert {\n",
              "      background-color: #E8F0FE;\n",
              "      border: none;\n",
              "      border-radius: 50%;\n",
              "      cursor: pointer;\n",
              "      display: none;\n",
              "      fill: #1967D2;\n",
              "      height: 32px;\n",
              "      padding: 0 0 0 0;\n",
              "      width: 32px;\n",
              "    }\n",
              "\n",
              "    .colab-df-convert:hover {\n",
              "      background-color: #E2EBFA;\n",
              "      box-shadow: 0px 1px 2px rgba(60, 64, 67, 0.3), 0px 1px 3px 1px rgba(60, 64, 67, 0.15);\n",
              "      fill: #174EA6;\n",
              "    }\n",
              "\n",
              "    .colab-df-buttons div {\n",
              "      margin-bottom: 4px;\n",
              "    }\n",
              "\n",
              "    [theme=dark] .colab-df-convert {\n",
              "      background-color: #3B4455;\n",
              "      fill: #D2E3FC;\n",
              "    }\n",
              "\n",
              "    [theme=dark] .colab-df-convert:hover {\n",
              "      background-color: #434B5C;\n",
              "      box-shadow: 0px 1px 3px 1px rgba(0, 0, 0, 0.15);\n",
              "      filter: drop-shadow(0px 1px 2px rgba(0, 0, 0, 0.3));\n",
              "      fill: #FFFFFF;\n",
              "    }\n",
              "  </style>\n",
              "\n",
              "    <script>\n",
              "      const buttonEl =\n",
              "        document.querySelector('#df-14b5e6d1-19be-47a1-9db6-1be1ad42f1d7 button.colab-df-convert');\n",
              "      buttonEl.style.display =\n",
              "        google.colab.kernel.accessAllowed ? 'block' : 'none';\n",
              "\n",
              "      async function convertToInteractive(key) {\n",
              "        const element = document.querySelector('#df-14b5e6d1-19be-47a1-9db6-1be1ad42f1d7');\n",
              "        const dataTable =\n",
              "          await google.colab.kernel.invokeFunction('convertToInteractive',\n",
              "                                                    [key], {});\n",
              "        if (!dataTable) return;\n",
              "\n",
              "        const docLinkHtml = 'Like what you see? Visit the ' +\n",
              "          '<a target=\"_blank\" href=https://colab.research.google.com/notebooks/data_table.ipynb>data table notebook</a>'\n",
              "          + ' to learn more about interactive tables.';\n",
              "        element.innerHTML = '';\n",
              "        dataTable['output_type'] = 'display_data';\n",
              "        await google.colab.output.renderOutput(dataTable, element);\n",
              "        const docLink = document.createElement('div');\n",
              "        docLink.innerHTML = docLinkHtml;\n",
              "        element.appendChild(docLink);\n",
              "      }\n",
              "    </script>\n",
              "  </div>\n",
              "\n",
              "\n",
              "<div id=\"df-cf063a1d-a5b2-4394-8b9c-756d9759833e\">\n",
              "  <button class=\"colab-df-quickchart\" onclick=\"quickchart('df-cf063a1d-a5b2-4394-8b9c-756d9759833e')\"\n",
              "            title=\"Suggest charts\"\n",
              "            style=\"display:none;\">\n",
              "\n",
              "<svg xmlns=\"http://www.w3.org/2000/svg\" height=\"24px\"viewBox=\"0 0 24 24\"\n",
              "     width=\"24px\">\n",
              "    <g>\n",
              "        <path d=\"M19 3H5c-1.1 0-2 .9-2 2v14c0 1.1.9 2 2 2h14c1.1 0 2-.9 2-2V5c0-1.1-.9-2-2-2zM9 17H7v-7h2v7zm4 0h-2V7h2v10zm4 0h-2v-4h2v4z\"/>\n",
              "    </g>\n",
              "</svg>\n",
              "  </button>\n",
              "\n",
              "<style>\n",
              "  .colab-df-quickchart {\n",
              "      --bg-color: #E8F0FE;\n",
              "      --fill-color: #1967D2;\n",
              "      --hover-bg-color: #E2EBFA;\n",
              "      --hover-fill-color: #174EA6;\n",
              "      --disabled-fill-color: #AAA;\n",
              "      --disabled-bg-color: #DDD;\n",
              "  }\n",
              "\n",
              "  [theme=dark] .colab-df-quickchart {\n",
              "      --bg-color: #3B4455;\n",
              "      --fill-color: #D2E3FC;\n",
              "      --hover-bg-color: #434B5C;\n",
              "      --hover-fill-color: #FFFFFF;\n",
              "      --disabled-bg-color: #3B4455;\n",
              "      --disabled-fill-color: #666;\n",
              "  }\n",
              "\n",
              "  .colab-df-quickchart {\n",
              "    background-color: var(--bg-color);\n",
              "    border: none;\n",
              "    border-radius: 50%;\n",
              "    cursor: pointer;\n",
              "    display: none;\n",
              "    fill: var(--fill-color);\n",
              "    height: 32px;\n",
              "    padding: 0;\n",
              "    width: 32px;\n",
              "  }\n",
              "\n",
              "  .colab-df-quickchart:hover {\n",
              "    background-color: var(--hover-bg-color);\n",
              "    box-shadow: 0 1px 2px rgba(60, 64, 67, 0.3), 0 1px 3px 1px rgba(60, 64, 67, 0.15);\n",
              "    fill: var(--button-hover-fill-color);\n",
              "  }\n",
              "\n",
              "  .colab-df-quickchart-complete:disabled,\n",
              "  .colab-df-quickchart-complete:disabled:hover {\n",
              "    background-color: var(--disabled-bg-color);\n",
              "    fill: var(--disabled-fill-color);\n",
              "    box-shadow: none;\n",
              "  }\n",
              "\n",
              "  .colab-df-spinner {\n",
              "    border: 2px solid var(--fill-color);\n",
              "    border-color: transparent;\n",
              "    border-bottom-color: var(--fill-color);\n",
              "    animation:\n",
              "      spin 1s steps(1) infinite;\n",
              "  }\n",
              "\n",
              "  @keyframes spin {\n",
              "    0% {\n",
              "      border-color: transparent;\n",
              "      border-bottom-color: var(--fill-color);\n",
              "      border-left-color: var(--fill-color);\n",
              "    }\n",
              "    20% {\n",
              "      border-color: transparent;\n",
              "      border-left-color: var(--fill-color);\n",
              "      border-top-color: var(--fill-color);\n",
              "    }\n",
              "    30% {\n",
              "      border-color: transparent;\n",
              "      border-left-color: var(--fill-color);\n",
              "      border-top-color: var(--fill-color);\n",
              "      border-right-color: var(--fill-color);\n",
              "    }\n",
              "    40% {\n",
              "      border-color: transparent;\n",
              "      border-right-color: var(--fill-color);\n",
              "      border-top-color: var(--fill-color);\n",
              "    }\n",
              "    60% {\n",
              "      border-color: transparent;\n",
              "      border-right-color: var(--fill-color);\n",
              "    }\n",
              "    80% {\n",
              "      border-color: transparent;\n",
              "      border-right-color: var(--fill-color);\n",
              "      border-bottom-color: var(--fill-color);\n",
              "    }\n",
              "    90% {\n",
              "      border-color: transparent;\n",
              "      border-bottom-color: var(--fill-color);\n",
              "    }\n",
              "  }\n",
              "</style>\n",
              "\n",
              "  <script>\n",
              "    async function quickchart(key) {\n",
              "      const quickchartButtonEl =\n",
              "        document.querySelector('#' + key + ' button');\n",
              "      quickchartButtonEl.disabled = true;  // To prevent multiple clicks.\n",
              "      quickchartButtonEl.classList.add('colab-df-spinner');\n",
              "      try {\n",
              "        const charts = await google.colab.kernel.invokeFunction(\n",
              "            'suggestCharts', [key], {});\n",
              "      } catch (error) {\n",
              "        console.error('Error during call to suggestCharts:', error);\n",
              "      }\n",
              "      quickchartButtonEl.classList.remove('colab-df-spinner');\n",
              "      quickchartButtonEl.classList.add('colab-df-quickchart-complete');\n",
              "    }\n",
              "    (() => {\n",
              "      let quickchartButtonEl =\n",
              "        document.querySelector('#df-cf063a1d-a5b2-4394-8b9c-756d9759833e button');\n",
              "      quickchartButtonEl.style.display =\n",
              "        google.colab.kernel.accessAllowed ? 'block' : 'none';\n",
              "    })();\n",
              "  </script>\n",
              "</div>\n",
              "\n",
              "    </div>\n",
              "  </div>\n"
            ],
            "application/vnd.google.colaboratory.intrinsic+json": {
              "type": "dataframe",
              "variable_name": "train"
            }
          },
          "metadata": {},
          "execution_count": 7
        }
      ],
      "source": [
        "train = pd.read_csv('./data/train.csv', engine = 'pyarrow')\n",
        "test = pd.read_csv('./data/test.csv', engine = 'pyarrow')\n",
        "\n",
        "train.head()"
      ]
    },
    {
      "cell_type": "code",
      "source": [
        "train.info()"
      ],
      "metadata": {
        "colab": {
          "base_uri": "https://localhost:8080/"
        },
        "id": "XBwARzBGO8Sf",
        "outputId": "322e70d1-8160-410e-a246-5794de2bb3c7"
      },
      "id": "XBwARzBGO8Sf",
      "execution_count": 8,
      "outputs": [
        {
          "output_type": "stream",
          "name": "stdout",
          "text": [
            "<class 'pandas.core.frame.DataFrame'>\n",
            "RangeIndex: 7623000 entries, 0 to 7622999\n",
            "Data columns (total 22 columns):\n",
            " #   Column                 Dtype        \n",
            "---  ------                 -----        \n",
            " 0   user                   int64        \n",
            " 1   user_location_country  int64        \n",
            " 2   user_location_region   int64        \n",
            " 3   user_location_city     int64        \n",
            " 4   destination_distance   float64      \n",
            " 5   search_date            datetime64[s]\n",
            " 6   is_mobile              int64        \n",
            " 7   is_package             int64        \n",
            " 8   channel                int64        \n",
            " 9   search_count           int64        \n",
            " 10  checkIn_date           object       \n",
            " 11  checkOut_date          object       \n",
            " 12  n_adults               int64        \n",
            " 13  n_children             int64        \n",
            " 14  n_rooms                int64        \n",
            " 15  destination            int64        \n",
            " 16  destination_type       int64        \n",
            " 17  hotel_continent        int64        \n",
            " 18  hotel_country          int64        \n",
            " 19  hotel_market           int64        \n",
            " 20  hotel_category         int64        \n",
            " 21  is_booking             int64        \n",
            "dtypes: datetime64[s](1), float64(1), int64(18), object(2)\n",
            "memory usage: 1.2+ GB\n"
          ]
        }
      ]
    },
    {
      "cell_type": "markdown",
      "id": "21c8f01d-e4e1-4c47-abdc-9b87f355e1bb",
      "metadata": {
        "id": "21c8f01d-e4e1-4c47-abdc-9b87f355e1bb"
      },
      "source": [
        "<h2 align=right style=\"line-height:200%;font-family:vazir;color:#0099cc\">\n",
        "<font face=\"vazir\" color=\"#0099cc\">\n",
        "اکتشاف داده‌ها و مهندسی ویژکی\n",
        "</font>\n",
        "</h2>\n",
        "\n",
        "<p dir=rtl style=\"direction: rtl; text-align: justify; line-height:200%; font-family:vazir; font-size:medium\">\n",
        "<font face=\"vazir\" size=3>\n",
        "در مرحله اول به بررسی و اکتشاف داده‌ها و مهندسی ویژگی می‌پردازیم. در ابتدا با حذف ستون  <code>user</code> سعی در کم‌کردن حجم داده‌ها می‌کنیم، این عمل با توجه به یکتایی این مقادیر تاثیری در عملکرد مدل نخواهد داشت.\n",
        "</font>\n",
        "</p>"
      ]
    },
    {
      "cell_type": "code",
      "execution_count": 9,
      "id": "b3bc71b5-b4ee-4bd9-a74b-de7a16fcb9d7",
      "metadata": {
        "id": "b3bc71b5-b4ee-4bd9-a74b-de7a16fcb9d7"
      },
      "outputs": [],
      "source": [
        "# TODO : Drop columns = ['user'] for both train and test sets\n",
        "train.drop(columns = ['user'], inplace = True)\n",
        "test.drop(columns = ['user'], inplace = True)"
      ]
    },
    {
      "cell_type": "code",
      "source": [
        "train.info()"
      ],
      "metadata": {
        "colab": {
          "base_uri": "https://localhost:8080/"
        },
        "id": "ZuQm8O-iPA0P",
        "outputId": "05677e11-34b6-484e-adf5-15e510749215"
      },
      "id": "ZuQm8O-iPA0P",
      "execution_count": 10,
      "outputs": [
        {
          "output_type": "stream",
          "name": "stdout",
          "text": [
            "<class 'pandas.core.frame.DataFrame'>\n",
            "RangeIndex: 7623000 entries, 0 to 7622999\n",
            "Data columns (total 21 columns):\n",
            " #   Column                 Dtype        \n",
            "---  ------                 -----        \n",
            " 0   user_location_country  int64        \n",
            " 1   user_location_region   int64        \n",
            " 2   user_location_city     int64        \n",
            " 3   destination_distance   float64      \n",
            " 4   search_date            datetime64[s]\n",
            " 5   is_mobile              int64        \n",
            " 6   is_package             int64        \n",
            " 7   channel                int64        \n",
            " 8   search_count           int64        \n",
            " 9   checkIn_date           object       \n",
            " 10  checkOut_date          object       \n",
            " 11  n_adults               int64        \n",
            " 12  n_children             int64        \n",
            " 13  n_rooms                int64        \n",
            " 14  destination            int64        \n",
            " 15  destination_type       int64        \n",
            " 16  hotel_continent        int64        \n",
            " 17  hotel_country          int64        \n",
            " 18  hotel_market           int64        \n",
            " 19  hotel_category         int64        \n",
            " 20  is_booking             int64        \n",
            "dtypes: datetime64[s](1), float64(1), int64(17), object(2)\n",
            "memory usage: 1.2+ GB\n"
          ]
        }
      ]
    },
    {
      "cell_type": "markdown",
      "id": "eb53e676-fdf5-42ae-bf6f-ad9c8e8ad893",
      "metadata": {
        "id": "eb53e676-fdf5-42ae-bf6f-ad9c8e8ad893"
      },
      "source": [
        "<h3 align=right style=\"line-height:200%;font-family:vazir;color:#0099cc\">\n",
        "<font face=\"vazir\" color=\"#0099cc\">\n",
        "حذف مقادیر گم‌شده\n",
        "</font>\n",
        "</h3>\n",
        "\n",
        "\n",
        "<p dir=rtl style=\"direction: rtl; text-align: justify; line-height:200%; font-family:vazir; font-size:medium\">\n",
        "<font face=\"vazir\" size=3>\n",
        "   ابتدا با بررسی مقادیر گم‌شده در ستون‌های <code>checkIn_date</code> و <code>checkOut_date</code> این مقادیر را مدیریت کنید. در صورتی‌که حداقل ۹۹ درصد نمونه‌های شامل مقادیر گم‌شده در هر ستون دارای <b style=\"color:#0099cc\">متغیر هدف</b> با مقدار <code>0</code> باشند، آن‌ها را حذف کنید، در غیر این‌صورت از روشی دیگری جهت مدیریت آن‌ها بهره ببرید.\n",
        "</font>\n",
        "</p>"
      ]
    },
    {
      "cell_type": "code",
      "source": [
        "train[train['checkIn_date'].isna()]['is_booking'].value_counts(normalize=True)"
      ],
      "metadata": {
        "colab": {
          "base_uri": "https://localhost:8080/",
          "height": 147
        },
        "id": "wTBHNE2yTDi_",
        "outputId": "2583d1d1-4b4b-4d3b-fd13-ae921d670028"
      },
      "id": "wTBHNE2yTDi_",
      "execution_count": 14,
      "outputs": [
        {
          "output_type": "execute_result",
          "data": {
            "text/plain": [
              "is_booking\n",
              "0    1.0\n",
              "Name: proportion, dtype: float64"
            ],
            "text/html": [
              "<div>\n",
              "<style scoped>\n",
              "    .dataframe tbody tr th:only-of-type {\n",
              "        vertical-align: middle;\n",
              "    }\n",
              "\n",
              "    .dataframe tbody tr th {\n",
              "        vertical-align: top;\n",
              "    }\n",
              "\n",
              "    .dataframe thead th {\n",
              "        text-align: right;\n",
              "    }\n",
              "</style>\n",
              "<table border=\"1\" class=\"dataframe\">\n",
              "  <thead>\n",
              "    <tr style=\"text-align: right;\">\n",
              "      <th></th>\n",
              "      <th>proportion</th>\n",
              "    </tr>\n",
              "    <tr>\n",
              "      <th>is_booking</th>\n",
              "      <th></th>\n",
              "    </tr>\n",
              "  </thead>\n",
              "  <tbody>\n",
              "    <tr>\n",
              "      <th>0</th>\n",
              "      <td>1.0</td>\n",
              "    </tr>\n",
              "  </tbody>\n",
              "</table>\n",
              "</div><br><label><b>dtype:</b> float64</label>"
            ]
          },
          "metadata": {},
          "execution_count": 14
        }
      ]
    },
    {
      "cell_type": "code",
      "source": [
        "train[train['checkOut_date'].isna()]['is_booking'].value_counts(normalize=True)"
      ],
      "metadata": {
        "colab": {
          "base_uri": "https://localhost:8080/",
          "height": 147
        },
        "id": "FwkHu9v9PJ6u",
        "outputId": "d7693d88-69bc-4944-a28f-9aaea60f6c07"
      },
      "id": "FwkHu9v9PJ6u",
      "execution_count": 15,
      "outputs": [
        {
          "output_type": "execute_result",
          "data": {
            "text/plain": [
              "is_booking\n",
              "0    1.0\n",
              "Name: proportion, dtype: float64"
            ],
            "text/html": [
              "<div>\n",
              "<style scoped>\n",
              "    .dataframe tbody tr th:only-of-type {\n",
              "        vertical-align: middle;\n",
              "    }\n",
              "\n",
              "    .dataframe tbody tr th {\n",
              "        vertical-align: top;\n",
              "    }\n",
              "\n",
              "    .dataframe thead th {\n",
              "        text-align: right;\n",
              "    }\n",
              "</style>\n",
              "<table border=\"1\" class=\"dataframe\">\n",
              "  <thead>\n",
              "    <tr style=\"text-align: right;\">\n",
              "      <th></th>\n",
              "      <th>proportion</th>\n",
              "    </tr>\n",
              "    <tr>\n",
              "      <th>is_booking</th>\n",
              "      <th></th>\n",
              "    </tr>\n",
              "  </thead>\n",
              "  <tbody>\n",
              "    <tr>\n",
              "      <th>0</th>\n",
              "      <td>1.0</td>\n",
              "    </tr>\n",
              "  </tbody>\n",
              "</table>\n",
              "</div><br><label><b>dtype:</b> float64</label>"
            ]
          },
          "metadata": {},
          "execution_count": 15
        }
      ]
    },
    {
      "cell_type": "code",
      "execution_count": 16,
      "id": "1e39b74b-d746-4231-a398-ad325acc5a0e",
      "metadata": {
        "id": "1e39b74b-d746-4231-a398-ad325acc5a0e"
      },
      "outputs": [],
      "source": [
        "train.dropna(subset = ['checkIn_date'], inplace = True)\n",
        "train.dropna(subset = ['checkOut_date'], inplace = True)"
      ]
    },
    {
      "cell_type": "code",
      "source": [
        "train.info()"
      ],
      "metadata": {
        "colab": {
          "base_uri": "https://localhost:8080/"
        },
        "id": "jgDW6QxGPJOC",
        "outputId": "298a0fa2-1aec-4141-e453-e3535e5a49f6"
      },
      "id": "jgDW6QxGPJOC",
      "execution_count": 17,
      "outputs": [
        {
          "output_type": "stream",
          "name": "stdout",
          "text": [
            "<class 'pandas.core.frame.DataFrame'>\n",
            "Index: 7608708 entries, 0 to 7622999\n",
            "Data columns (total 21 columns):\n",
            " #   Column                 Dtype        \n",
            "---  ------                 -----        \n",
            " 0   user_location_country  int64        \n",
            " 1   user_location_region   int64        \n",
            " 2   user_location_city     int64        \n",
            " 3   destination_distance   float64      \n",
            " 4   search_date            datetime64[s]\n",
            " 5   is_mobile              int64        \n",
            " 6   is_package             int64        \n",
            " 7   channel                int64        \n",
            " 8   search_count           int64        \n",
            " 9   checkIn_date           object       \n",
            " 10  checkOut_date          object       \n",
            " 11  n_adults               int64        \n",
            " 12  n_children             int64        \n",
            " 13  n_rooms                int64        \n",
            " 14  destination            int64        \n",
            " 15  destination_type       int64        \n",
            " 16  hotel_continent        int64        \n",
            " 17  hotel_country          int64        \n",
            " 18  hotel_market           int64        \n",
            " 19  hotel_category         int64        \n",
            " 20  is_booking             int64        \n",
            "dtypes: datetime64[s](1), float64(1), int64(17), object(2)\n",
            "memory usage: 1.2+ GB\n"
          ]
        }
      ]
    },
    {
      "cell_type": "markdown",
      "id": "6d02efbb-de3b-408c-b70f-86cbc34839b1",
      "metadata": {
        "id": "6d02efbb-de3b-408c-b70f-86cbc34839b1"
      },
      "source": [
        "\n",
        "<p dir=rtl style=\"direction: rtl; text-align: justify; line-height:200%; font-family:vazir; font-size:medium\">\n",
        "<font face=\"vazir\" size=3>\n",
        "همان‌طور که در توضیحات ستون‌های مسئله دیدیم ستون <code>destination_distance</code> فاصله‌ی فیزیکی بین کاربر و هتل در زمان جست‌وجو‌ را نشان می‌دهد. از آنجایی که می‌توانیم بگوییم فاصله‌ی محاسبه‌شده دو شهر با یکدیگر همواره ثابت یا در یک محدوده است، برای پر کردن مقادیر گم‌شده‌ای که این فاصله را نشان می‌دهد، می‌توانیم از <code>user_location_city</code> و <code>destination</code> که بیانگر شناسه‌ی شهر کاربر و هتل جست‌وجو شده هستند، استفاده کنیم به‌طوری‌که نمونه‌‌های که ستون‌ <code>destination_distance</code> در آن گم‌شده است، با را با میانگین مقدار  <code>destination_distance</code> در ستون‌هایی که <code>user_location_city</code> و <code>destination</code> مشابه دارند پر کنیم.\n",
        "</font>\n",
        "</p>\n"
      ]
    },
    {
      "cell_type": "code",
      "execution_count": 18,
      "id": "70407dff-9cf0-4986-8ff3-e12cec162d45",
      "metadata": {
        "colab": {
          "base_uri": "https://localhost:8080/"
        },
        "id": "70407dff-9cf0-4986-8ff3-e12cec162d45",
        "outputId": "df0feb83-eaa0-499f-add7-50a075ebb35e"
      },
      "outputs": [
        {
          "output_type": "execute_result",
          "data": {
            "text/plain": [
              "0.35762694533684297"
            ]
          },
          "metadata": {},
          "execution_count": 18
        }
      ],
      "source": [
        "train.isna().mean()['destination_distance']"
      ]
    },
    {
      "cell_type": "code",
      "execution_count": 21,
      "id": "535e3d80-6bb9-4f4e-9324-431a70a6f624",
      "metadata": {
        "id": "535e3d80-6bb9-4f4e-9324-431a70a6f624"
      },
      "outputs": [],
      "source": [
        "mean = train.groupby(['user_location_city','destination'])['destination_distance'].transform('mean')\n",
        "\n",
        "train['destination_distance'].fillna(mean, inplace = True)\n",
        "test['destination_distance'].fillna(mean, inplace = True)"
      ]
    },
    {
      "cell_type": "code",
      "source": [
        "train.info()"
      ],
      "metadata": {
        "colab": {
          "base_uri": "https://localhost:8080/"
        },
        "id": "G2xbbLbzTY82",
        "outputId": "1880a1d1-ff03-4a55-baa0-8c79ec78131a"
      },
      "id": "G2xbbLbzTY82",
      "execution_count": 22,
      "outputs": [
        {
          "output_type": "stream",
          "name": "stdout",
          "text": [
            "<class 'pandas.core.frame.DataFrame'>\n",
            "Index: 7608708 entries, 0 to 7622999\n",
            "Data columns (total 21 columns):\n",
            " #   Column                 Dtype        \n",
            "---  ------                 -----        \n",
            " 0   user_location_country  int64        \n",
            " 1   user_location_region   int64        \n",
            " 2   user_location_city     int64        \n",
            " 3   destination_distance   float64      \n",
            " 4   search_date            datetime64[s]\n",
            " 5   is_mobile              int64        \n",
            " 6   is_package             int64        \n",
            " 7   channel                int64        \n",
            " 8   search_count           int64        \n",
            " 9   checkIn_date           object       \n",
            " 10  checkOut_date          object       \n",
            " 11  n_adults               int64        \n",
            " 12  n_children             int64        \n",
            " 13  n_rooms                int64        \n",
            " 14  destination            int64        \n",
            " 15  destination_type       int64        \n",
            " 16  hotel_continent        int64        \n",
            " 17  hotel_country          int64        \n",
            " 18  hotel_market           int64        \n",
            " 19  hotel_category         int64        \n",
            " 20  is_booking             int64        \n",
            "dtypes: datetime64[s](1), float64(1), int64(17), object(2)\n",
            "memory usage: 1.5+ GB\n"
          ]
        }
      ]
    },
    {
      "cell_type": "code",
      "source": [
        "test.info()"
      ],
      "metadata": {
        "colab": {
          "base_uri": "https://localhost:8080/"
        },
        "id": "7hKC-7IGThco",
        "outputId": "abea30d9-1853-447a-a83b-ffdcfcb0e4ab"
      },
      "id": "7hKC-7IGThco",
      "execution_count": 23,
      "outputs": [
        {
          "output_type": "stream",
          "name": "stdout",
          "text": [
            "<class 'pandas.core.frame.DataFrame'>\n",
            "RangeIndex: 325821 entries, 0 to 325820\n",
            "Data columns (total 21 columns):\n",
            " #   Column                 Non-Null Count   Dtype        \n",
            "---  ------                 --------------   -----        \n",
            " 0                          325821 non-null  int64        \n",
            " 1   user_location_country  325821 non-null  int64        \n",
            " 2   user_location_region   325821 non-null  int64        \n",
            " 3   user_location_city     325821 non-null  int64        \n",
            " 4   destination_distance   292544 non-null  float64      \n",
            " 5   search_date            325821 non-null  datetime64[s]\n",
            " 6   is_mobile              325821 non-null  int64        \n",
            " 7   is_package             325821 non-null  int64        \n",
            " 8   channel                325821 non-null  int64        \n",
            " 9   search_count           325821 non-null  int64        \n",
            " 10  checkIn_date           325821 non-null  object       \n",
            " 11  checkOut_date          325821 non-null  object       \n",
            " 12  n_adults               325821 non-null  int64        \n",
            " 13  n_children             325821 non-null  int64        \n",
            " 14  n_rooms                325821 non-null  int64        \n",
            " 15  destination            325821 non-null  int64        \n",
            " 16  destination_type       325821 non-null  int64        \n",
            " 17  hotel_continent        325821 non-null  int64        \n",
            " 18  hotel_country          325821 non-null  int64        \n",
            " 19  hotel_market           325821 non-null  int64        \n",
            " 20  hotel_category         325821 non-null  int64        \n",
            "dtypes: datetime64[s](1), float64(1), int64(17), object(2)\n",
            "memory usage: 52.2+ MB\n"
          ]
        }
      ]
    },
    {
      "cell_type": "markdown",
      "id": "dd209317-8d16-46b6-92b6-a51924fd42b6",
      "metadata": {
        "id": "dd209317-8d16-46b6-92b6-a51924fd42b6"
      },
      "source": [
        "\n",
        "<p dir=rtl style=\"direction: rtl; text-align: justify; line-height:200%; font-family:vazir; font-size:medium\">\n",
        "<font face=\"vazir\" size=3>\n",
        "حال برای سایر موارد گم‌شده از عددی مانند <code>0</code> که در این ستون استفاده نشده است، استفاده می‌کنیم.\n",
        "</font>\n",
        "</p>\n"
      ]
    },
    {
      "cell_type": "code",
      "execution_count": 24,
      "id": "191b4cf6-8bed-4e0a-9fcf-6be2583b93bd",
      "metadata": {
        "colab": {
          "base_uri": "https://localhost:8080/",
          "height": 99
        },
        "id": "191b4cf6-8bed-4e0a-9fcf-6be2583b93bd",
        "outputId": "c496ece0-5846-4f4b-8a15-3ecb5d000b8f"
      },
      "outputs": [
        {
          "output_type": "execute_result",
          "data": {
            "text/plain": [
              "Empty DataFrame\n",
              "Columns: [user_location_country, user_location_region, user_location_city, destination_distance, search_date, is_mobile, is_package, channel, search_count, checkIn_date, checkOut_date, n_adults, n_children, n_rooms, destination, destination_type, hotel_continent, hotel_country, hotel_market, hotel_category, is_booking]\n",
              "Index: []\n",
              "\n",
              "[0 rows x 21 columns]"
            ],
            "text/html": [
              "\n",
              "  <div id=\"df-d12cff8a-5118-4413-a228-595c6ac77c80\" class=\"colab-df-container\">\n",
              "    <div>\n",
              "<style scoped>\n",
              "    .dataframe tbody tr th:only-of-type {\n",
              "        vertical-align: middle;\n",
              "    }\n",
              "\n",
              "    .dataframe tbody tr th {\n",
              "        vertical-align: top;\n",
              "    }\n",
              "\n",
              "    .dataframe thead th {\n",
              "        text-align: right;\n",
              "    }\n",
              "</style>\n",
              "<table border=\"1\" class=\"dataframe\">\n",
              "  <thead>\n",
              "    <tr style=\"text-align: right;\">\n",
              "      <th></th>\n",
              "      <th>user_location_country</th>\n",
              "      <th>user_location_region</th>\n",
              "      <th>user_location_city</th>\n",
              "      <th>destination_distance</th>\n",
              "      <th>search_date</th>\n",
              "      <th>is_mobile</th>\n",
              "      <th>is_package</th>\n",
              "      <th>channel</th>\n",
              "      <th>search_count</th>\n",
              "      <th>checkIn_date</th>\n",
              "      <th>...</th>\n",
              "      <th>n_adults</th>\n",
              "      <th>n_children</th>\n",
              "      <th>n_rooms</th>\n",
              "      <th>destination</th>\n",
              "      <th>destination_type</th>\n",
              "      <th>hotel_continent</th>\n",
              "      <th>hotel_country</th>\n",
              "      <th>hotel_market</th>\n",
              "      <th>hotel_category</th>\n",
              "      <th>is_booking</th>\n",
              "    </tr>\n",
              "  </thead>\n",
              "  <tbody>\n",
              "  </tbody>\n",
              "</table>\n",
              "<p>0 rows × 21 columns</p>\n",
              "</div>\n",
              "    <div class=\"colab-df-buttons\">\n",
              "\n",
              "  <div class=\"colab-df-container\">\n",
              "    <button class=\"colab-df-convert\" onclick=\"convertToInteractive('df-d12cff8a-5118-4413-a228-595c6ac77c80')\"\n",
              "            title=\"Convert this dataframe to an interactive table.\"\n",
              "            style=\"display:none;\">\n",
              "\n",
              "  <svg xmlns=\"http://www.w3.org/2000/svg\" height=\"24px\" viewBox=\"0 -960 960 960\">\n",
              "    <path d=\"M120-120v-720h720v720H120Zm60-500h600v-160H180v160Zm220 220h160v-160H400v160Zm0 220h160v-160H400v160ZM180-400h160v-160H180v160Zm440 0h160v-160H620v160ZM180-180h160v-160H180v160Zm440 0h160v-160H620v160Z\"/>\n",
              "  </svg>\n",
              "    </button>\n",
              "\n",
              "  <style>\n",
              "    .colab-df-container {\n",
              "      display:flex;\n",
              "      gap: 12px;\n",
              "    }\n",
              "\n",
              "    .colab-df-convert {\n",
              "      background-color: #E8F0FE;\n",
              "      border: none;\n",
              "      border-radius: 50%;\n",
              "      cursor: pointer;\n",
              "      display: none;\n",
              "      fill: #1967D2;\n",
              "      height: 32px;\n",
              "      padding: 0 0 0 0;\n",
              "      width: 32px;\n",
              "    }\n",
              "\n",
              "    .colab-df-convert:hover {\n",
              "      background-color: #E2EBFA;\n",
              "      box-shadow: 0px 1px 2px rgba(60, 64, 67, 0.3), 0px 1px 3px 1px rgba(60, 64, 67, 0.15);\n",
              "      fill: #174EA6;\n",
              "    }\n",
              "\n",
              "    .colab-df-buttons div {\n",
              "      margin-bottom: 4px;\n",
              "    }\n",
              "\n",
              "    [theme=dark] .colab-df-convert {\n",
              "      background-color: #3B4455;\n",
              "      fill: #D2E3FC;\n",
              "    }\n",
              "\n",
              "    [theme=dark] .colab-df-convert:hover {\n",
              "      background-color: #434B5C;\n",
              "      box-shadow: 0px 1px 3px 1px rgba(0, 0, 0, 0.15);\n",
              "      filter: drop-shadow(0px 1px 2px rgba(0, 0, 0, 0.3));\n",
              "      fill: #FFFFFF;\n",
              "    }\n",
              "  </style>\n",
              "\n",
              "    <script>\n",
              "      const buttonEl =\n",
              "        document.querySelector('#df-d12cff8a-5118-4413-a228-595c6ac77c80 button.colab-df-convert');\n",
              "      buttonEl.style.display =\n",
              "        google.colab.kernel.accessAllowed ? 'block' : 'none';\n",
              "\n",
              "      async function convertToInteractive(key) {\n",
              "        const element = document.querySelector('#df-d12cff8a-5118-4413-a228-595c6ac77c80');\n",
              "        const dataTable =\n",
              "          await google.colab.kernel.invokeFunction('convertToInteractive',\n",
              "                                                    [key], {});\n",
              "        if (!dataTable) return;\n",
              "\n",
              "        const docLinkHtml = 'Like what you see? Visit the ' +\n",
              "          '<a target=\"_blank\" href=https://colab.research.google.com/notebooks/data_table.ipynb>data table notebook</a>'\n",
              "          + ' to learn more about interactive tables.';\n",
              "        element.innerHTML = '';\n",
              "        dataTable['output_type'] = 'display_data';\n",
              "        await google.colab.output.renderOutput(dataTable, element);\n",
              "        const docLink = document.createElement('div');\n",
              "        docLink.innerHTML = docLinkHtml;\n",
              "        element.appendChild(docLink);\n",
              "      }\n",
              "    </script>\n",
              "  </div>\n",
              "\n",
              "\n",
              "    </div>\n",
              "  </div>\n"
            ],
            "application/vnd.google.colaboratory.intrinsic+json": {
              "type": "dataframe"
            }
          },
          "metadata": {},
          "execution_count": 24
        }
      ],
      "source": [
        "train[train['destination_distance'] == 0]"
      ]
    },
    {
      "cell_type": "code",
      "execution_count": 25,
      "id": "f7c327ef-c44f-47c5-bdc7-a0d120858a8d",
      "metadata": {
        "id": "f7c327ef-c44f-47c5-bdc7-a0d120858a8d"
      },
      "outputs": [],
      "source": [
        "train['destination_distance'].fillna(0, inplace = True)\n",
        "test['destination_distance'].fillna(0, inplace = True)"
      ]
    },
    {
      "cell_type": "code",
      "execution_count": 26,
      "id": "d4dd1c71-000c-4962-a3d6-4c77764d2537",
      "metadata": {
        "colab": {
          "base_uri": "https://localhost:8080/",
          "height": 743
        },
        "id": "d4dd1c71-000c-4962-a3d6-4c77764d2537",
        "outputId": "360e9b62-3271-4aea-8303-437a99ed57d2"
      },
      "outputs": [
        {
          "output_type": "execute_result",
          "data": {
            "text/plain": [
              "user_location_country    0\n",
              "user_location_region     0\n",
              "user_location_city       0\n",
              "destination_distance     0\n",
              "search_date              0\n",
              "is_mobile                0\n",
              "is_package               0\n",
              "channel                  0\n",
              "search_count             0\n",
              "checkIn_date             0\n",
              "checkOut_date            0\n",
              "n_adults                 0\n",
              "n_children               0\n",
              "n_rooms                  0\n",
              "destination              0\n",
              "destination_type         0\n",
              "hotel_continent          0\n",
              "hotel_country            0\n",
              "hotel_market             0\n",
              "hotel_category           0\n",
              "is_booking               0\n",
              "dtype: int64"
            ],
            "text/html": [
              "<div>\n",
              "<style scoped>\n",
              "    .dataframe tbody tr th:only-of-type {\n",
              "        vertical-align: middle;\n",
              "    }\n",
              "\n",
              "    .dataframe tbody tr th {\n",
              "        vertical-align: top;\n",
              "    }\n",
              "\n",
              "    .dataframe thead th {\n",
              "        text-align: right;\n",
              "    }\n",
              "</style>\n",
              "<table border=\"1\" class=\"dataframe\">\n",
              "  <thead>\n",
              "    <tr style=\"text-align: right;\">\n",
              "      <th></th>\n",
              "      <th>0</th>\n",
              "    </tr>\n",
              "  </thead>\n",
              "  <tbody>\n",
              "    <tr>\n",
              "      <th>user_location_country</th>\n",
              "      <td>0</td>\n",
              "    </tr>\n",
              "    <tr>\n",
              "      <th>user_location_region</th>\n",
              "      <td>0</td>\n",
              "    </tr>\n",
              "    <tr>\n",
              "      <th>user_location_city</th>\n",
              "      <td>0</td>\n",
              "    </tr>\n",
              "    <tr>\n",
              "      <th>destination_distance</th>\n",
              "      <td>0</td>\n",
              "    </tr>\n",
              "    <tr>\n",
              "      <th>search_date</th>\n",
              "      <td>0</td>\n",
              "    </tr>\n",
              "    <tr>\n",
              "      <th>is_mobile</th>\n",
              "      <td>0</td>\n",
              "    </tr>\n",
              "    <tr>\n",
              "      <th>is_package</th>\n",
              "      <td>0</td>\n",
              "    </tr>\n",
              "    <tr>\n",
              "      <th>channel</th>\n",
              "      <td>0</td>\n",
              "    </tr>\n",
              "    <tr>\n",
              "      <th>search_count</th>\n",
              "      <td>0</td>\n",
              "    </tr>\n",
              "    <tr>\n",
              "      <th>checkIn_date</th>\n",
              "      <td>0</td>\n",
              "    </tr>\n",
              "    <tr>\n",
              "      <th>checkOut_date</th>\n",
              "      <td>0</td>\n",
              "    </tr>\n",
              "    <tr>\n",
              "      <th>n_adults</th>\n",
              "      <td>0</td>\n",
              "    </tr>\n",
              "    <tr>\n",
              "      <th>n_children</th>\n",
              "      <td>0</td>\n",
              "    </tr>\n",
              "    <tr>\n",
              "      <th>n_rooms</th>\n",
              "      <td>0</td>\n",
              "    </tr>\n",
              "    <tr>\n",
              "      <th>destination</th>\n",
              "      <td>0</td>\n",
              "    </tr>\n",
              "    <tr>\n",
              "      <th>destination_type</th>\n",
              "      <td>0</td>\n",
              "    </tr>\n",
              "    <tr>\n",
              "      <th>hotel_continent</th>\n",
              "      <td>0</td>\n",
              "    </tr>\n",
              "    <tr>\n",
              "      <th>hotel_country</th>\n",
              "      <td>0</td>\n",
              "    </tr>\n",
              "    <tr>\n",
              "      <th>hotel_market</th>\n",
              "      <td>0</td>\n",
              "    </tr>\n",
              "    <tr>\n",
              "      <th>hotel_category</th>\n",
              "      <td>0</td>\n",
              "    </tr>\n",
              "    <tr>\n",
              "      <th>is_booking</th>\n",
              "      <td>0</td>\n",
              "    </tr>\n",
              "  </tbody>\n",
              "</table>\n",
              "</div><br><label><b>dtype:</b> int64</label>"
            ]
          },
          "metadata": {},
          "execution_count": 26
        }
      ],
      "source": [
        "train.isna().sum()"
      ]
    },
    {
      "cell_type": "code",
      "source": [
        "train.info()"
      ],
      "metadata": {
        "colab": {
          "base_uri": "https://localhost:8080/"
        },
        "id": "JuIFzEA9TqrK",
        "outputId": "c86b56d9-2f0d-429c-e39d-3fd7ba59b1d4"
      },
      "id": "JuIFzEA9TqrK",
      "execution_count": 27,
      "outputs": [
        {
          "output_type": "stream",
          "name": "stdout",
          "text": [
            "<class 'pandas.core.frame.DataFrame'>\n",
            "Index: 7608708 entries, 0 to 7622999\n",
            "Data columns (total 21 columns):\n",
            " #   Column                 Dtype        \n",
            "---  ------                 -----        \n",
            " 0   user_location_country  int64        \n",
            " 1   user_location_region   int64        \n",
            " 2   user_location_city     int64        \n",
            " 3   destination_distance   float64      \n",
            " 4   search_date            datetime64[s]\n",
            " 5   is_mobile              int64        \n",
            " 6   is_package             int64        \n",
            " 7   channel                int64        \n",
            " 8   search_count           int64        \n",
            " 9   checkIn_date           object       \n",
            " 10  checkOut_date          object       \n",
            " 11  n_adults               int64        \n",
            " 12  n_children             int64        \n",
            " 13  n_rooms                int64        \n",
            " 14  destination            int64        \n",
            " 15  destination_type       int64        \n",
            " 16  hotel_continent        int64        \n",
            " 17  hotel_country          int64        \n",
            " 18  hotel_market           int64        \n",
            " 19  hotel_category         int64        \n",
            " 20  is_booking             int64        \n",
            "dtypes: datetime64[s](1), float64(1), int64(17), object(2)\n",
            "memory usage: 1.5+ GB\n"
          ]
        }
      ]
    },
    {
      "cell_type": "markdown",
      "id": "369a75cd-4530-4918-ba85-3bb774213297",
      "metadata": {
        "id": "369a75cd-4530-4918-ba85-3bb774213297"
      },
      "source": [
        "<h3 align=right style=\"line-height:200%;font-family:vazir;color:#0099cc\">\n",
        "<font face=\"vazir\" color=\"#0099cc\">\n",
        "ویژگی‌های زمانی\n",
        "</font>\n",
        "</h3>\n",
        "\n",
        "<p dir=rtl style=\"direction: rtl; text-align: justify; line-height:200%; font-family:vazir; font-size:medium\">\n",
        "<font face=\"vazir\" size=3>\n",
        "با بررسی ستون‌های مجموعه‌داده مشاهده می‌کنیم که سه ستون <code>checkOut_date</code>، <code>checkOut_date</code> و <code>search_date</code> بیانگر زمان هستند و می‌توان با تبدیل این مقادیر به <code>datetime64[ns]</code>  از آن‌ها اطلاعات و حتی ویژگی‌های جدید و مناسبی استخراج کرد. برای این‌کار از دستور زیر استفاده کنید. البته اکیداً توصیه می‌شود مستندات مربوط به کار با این نوع داده‌ها را بررسی کنید.\n",
        "</font>\n",
        "    \n",
        "```python\n",
        "df[‘time_type’] = pd.to_datetime(df[‘time_string’])\n",
        "```\n",
        "</p>"
      ]
    },
    {
      "cell_type": "code",
      "execution_count": 28,
      "id": "3db53ef8-80e4-4763-8a77-d56d6d25cca3",
      "metadata": {
        "id": "3db53ef8-80e4-4763-8a77-d56d6d25cca3"
      },
      "outputs": [],
      "source": [
        "# TODO : change type of columns in time_columns into datetime64[ns]\n",
        "\n",
        "time_columns = ['search_date', 'checkIn_date', 'checkOut_date']\n",
        "for column in time_columns:\n",
        "    train[column] = pd.to_datetime(train[column])\n",
        "    test[column] = pd.to_datetime(test[column])\n"
      ]
    },
    {
      "cell_type": "code",
      "source": [
        "train.info()"
      ],
      "metadata": {
        "colab": {
          "base_uri": "https://localhost:8080/"
        },
        "id": "ogIOU-v7TvWL",
        "outputId": "41b0c5d3-675b-4f8e-9885-a597529eac9c"
      },
      "id": "ogIOU-v7TvWL",
      "execution_count": 29,
      "outputs": [
        {
          "output_type": "stream",
          "name": "stdout",
          "text": [
            "<class 'pandas.core.frame.DataFrame'>\n",
            "Index: 7608708 entries, 0 to 7622999\n",
            "Data columns (total 21 columns):\n",
            " #   Column                 Dtype         \n",
            "---  ------                 -----         \n",
            " 0   user_location_country  int64         \n",
            " 1   user_location_region   int64         \n",
            " 2   user_location_city     int64         \n",
            " 3   destination_distance   float64       \n",
            " 4   search_date            datetime64[s] \n",
            " 5   is_mobile              int64         \n",
            " 6   is_package             int64         \n",
            " 7   channel                int64         \n",
            " 8   search_count           int64         \n",
            " 9   checkIn_date           datetime64[ns]\n",
            " 10  checkOut_date          datetime64[ns]\n",
            " 11  n_adults               int64         \n",
            " 12  n_children             int64         \n",
            " 13  n_rooms                int64         \n",
            " 14  destination            int64         \n",
            " 15  destination_type       int64         \n",
            " 16  hotel_continent        int64         \n",
            " 17  hotel_country          int64         \n",
            " 18  hotel_market           int64         \n",
            " 19  hotel_category         int64         \n",
            " 20  is_booking             int64         \n",
            "dtypes: datetime64[ns](2), datetime64[s](1), float64(1), int64(17)\n",
            "memory usage: 1.5 GB\n"
          ]
        }
      ]
    },
    {
      "cell_type": "markdown",
      "id": "3c07758f-2412-4e28-9491-d970a2fe3f63",
      "metadata": {
        "id": "3c07758f-2412-4e28-9491-d970a2fe3f63"
      },
      "source": [
        "\n",
        "<p dir=rtl style=\"direction: rtl; text-align: justify; line-height:200%; font-family:vazir; font-size:medium\">\n",
        "<font face=\"vazir\" size=3>\n",
        "در ابتدا شاید این سه ستون زمانی اطلاعات خوبی به مدل ندهند اما با بررسی دقیق‌تر می‌توانیم دو ویژگی جدید که تعیین‌کننده‌ی  <b>تعداد روز‌های بین زمان جست‌وجو و زمان تعیین‌شده برای ورود</b> و همچنین <b>تعداد روز‌های اقامت تعیین‌شده در جست‌وجو</b> هستند را به مجموعه داده اضافه کنیم.\n",
        "</font>\n",
        "</p>"
      ]
    },
    {
      "cell_type": "code",
      "execution_count": 30,
      "id": "4a0893a4-b555-4bfc-b521-b1e535edb7c5",
      "metadata": {
        "id": "4a0893a4-b555-4bfc-b521-b1e535edb7c5"
      },
      "outputs": [],
      "source": [
        "# TODO : Add Days of Stay\n",
        "\n",
        "duration = train['checkOut_date'] - train['checkIn_date'] #TODO\n",
        "train['duration'] = duration.dt.days.astype(int) #TODO\n",
        "duration = test['checkOut_date'] - test['checkIn_date'] #TODO\n",
        "test['duration'] = duration.dt.days.astype(int) #TODO\n",
        "\n",
        "# TODO : Add Days between search_date and checkIn_date\n",
        "\n",
        "days_between = train['checkIn_date'] - train['search_date'] #TODO\n",
        "train['days_between'] = days_between.dt.days.astype(int) #TODO\n",
        "days_between = test['checkIn_date'] - test['search_date'] #TODO\n",
        "test['days_between'] = days_between.dt.days.astype(int) #TODO"
      ]
    },
    {
      "cell_type": "code",
      "source": [
        "train.info()"
      ],
      "metadata": {
        "colab": {
          "base_uri": "https://localhost:8080/"
        },
        "id": "By2u0bKYTy9_",
        "outputId": "1d534e25-6cdc-4d7d-e680-e85d4e0b6282"
      },
      "id": "By2u0bKYTy9_",
      "execution_count": 31,
      "outputs": [
        {
          "output_type": "stream",
          "name": "stdout",
          "text": [
            "<class 'pandas.core.frame.DataFrame'>\n",
            "Index: 7608708 entries, 0 to 7622999\n",
            "Data columns (total 23 columns):\n",
            " #   Column                 Dtype         \n",
            "---  ------                 -----         \n",
            " 0   user_location_country  int64         \n",
            " 1   user_location_region   int64         \n",
            " 2   user_location_city     int64         \n",
            " 3   destination_distance   float64       \n",
            " 4   search_date            datetime64[s] \n",
            " 5   is_mobile              int64         \n",
            " 6   is_package             int64         \n",
            " 7   channel                int64         \n",
            " 8   search_count           int64         \n",
            " 9   checkIn_date           datetime64[ns]\n",
            " 10  checkOut_date          datetime64[ns]\n",
            " 11  n_adults               int64         \n",
            " 12  n_children             int64         \n",
            " 13  n_rooms                int64         \n",
            " 14  destination            int64         \n",
            " 15  destination_type       int64         \n",
            " 16  hotel_continent        int64         \n",
            " 17  hotel_country          int64         \n",
            " 18  hotel_market           int64         \n",
            " 19  hotel_category         int64         \n",
            " 20  is_booking             int64         \n",
            " 21  duration               int64         \n",
            " 22  days_between           int64         \n",
            "dtypes: datetime64[ns](2), datetime64[s](1), float64(1), int64(19)\n",
            "memory usage: 1.6 GB\n"
          ]
        }
      ]
    },
    {
      "cell_type": "code",
      "execution_count": 32,
      "id": "36456780",
      "metadata": {
        "id": "36456780"
      },
      "outputs": [],
      "source": [
        "del days_between, duration, mean"
      ]
    },
    {
      "cell_type": "markdown",
      "id": "1a8ae6ff-3d3f-4a87-81f9-8063ebf70669",
      "metadata": {
        "id": "1a8ae6ff-3d3f-4a87-81f9-8063ebf70669"
      },
      "source": [
        "<p dir=rtl style=\"direction: rtl; text-align: justify; line-height:200%; font-family:vazir; font-size:medium\">\n",
        "<font face=\"vazir\">\n",
        "همچنین می‌توانیم با بررسی ساعت، شماره روز‌ هفته و ماه زمان جست‌وجو و ورود به هتل، ارتباط آن‌ها را با رزرو هتل بررسی کنیم. بنابراین ستونی‌های جدول زیر را به مجموعه‌داده اضافه کنید.\n",
        "</font>\n",
        "</p>\n",
        "\n",
        "<center>\n",
        "<div dir=rtl style=\"direction: rtl;line-height:200%;font-family:vazir;font-size:medium\">\n",
        "<font face=\"vazir\" size=3>\n",
        "\n",
        "| نام ستون | توضیحات ستون |\n",
        "|:-:|:-:|\n",
        "|<code>search_date_hour</code>|ساعت جست‌وجو |\n",
        "|<code>search_date_dayofweek</code>|روز جست‌وجو در هفته|\n",
        "|<code>checkIn_date_dayofweek</code>|روز ورود در هفته|\n",
        "|<code>search_date_month</code>|ماه جست‌وجو|\n",
        "|<code>checkIn_date_month</code>|ماه ورود|\n",
        "\n",
        "</font>\n",
        "</div>\n",
        "</center>\n"
      ]
    },
    {
      "cell_type": "code",
      "execution_count": 33,
      "id": "c1d89ef1-2f82-42f4-b6c6-909751763012",
      "metadata": {
        "id": "c1d89ef1-2f82-42f4-b6c6-909751763012"
      },
      "outputs": [],
      "source": [
        "train['search_date_hour'] = train['search_date'].dt.hour\n",
        "train['search_date_dayofweek'] = train['search_date'].dt.dayofweek\n",
        "train['checkIn_date_dayofweek'] = train['checkIn_date'].dt.dayofweek\n",
        "train['search_date_month'] = train['search_date'].dt.month\n",
        "train['checkIn_date_month'] = train['checkIn_date'].dt.month\n",
        "\n",
        "test['search_date_hour'] = test['search_date'].dt.hour\n",
        "test['search_date_dayofweek'] = test['search_date'].dt.dayofweek\n",
        "test['checkIn_date_dayofweek'] = test['checkIn_date'].dt.dayofweek\n",
        "test['search_date_month'] = test['search_date'].dt.month\n",
        "test['checkIn_date_month'] = test['checkIn_date'].dt.month"
      ]
    },
    {
      "cell_type": "markdown",
      "id": "a7a89f7c-8cf3-4a5b-8f3b-537a6ef98395",
      "metadata": {
        "id": "a7a89f7c-8cf3-4a5b-8f3b-537a6ef98395"
      },
      "source": [
        "<p dir=rtl style=\"direction: rtl; text-align: justify; line-height:200%; font-family:vazir; font-size:medium\">\n",
        "<font face=\"vazir\">\n",
        " حال برای ‌بررسی رابطه‌ی بین ویژگی‌هایی که در مرحله قبل به‌دست آوردیم با متغیر هدف (این‌که جست‌وجو به رزرو هتل منجر شده‌است یا خیر) دو دیتافرم <code>is_booked</code> و <code>not_booked</code> را براساس مجموعه‌داده‌ی آموزش ایجاد کنید، به‌طوری‌که دیتافرم اول فقط نمونه‌هایی که به رزرو ختم شده‌اند و دیتافریم دوم فقط نمونه‌هایی که به رزرو ختم نشده‌اند را شامل شود.\n",
        "</font>\n",
        "</p>\n"
      ]
    },
    {
      "cell_type": "code",
      "execution_count": 34,
      "id": "514c0435-7033-4605-ac4b-8eaeed026ecb",
      "metadata": {
        "id": "514c0435-7033-4605-ac4b-8eaeed026ecb"
      },
      "outputs": [],
      "source": [
        "# You can only add the columns you need to is_booked and not_booked column (Due to RAM problem)\n",
        "is_booked = train[train['is_booking'] == True]\n",
        "not_booked = train[train['is_booking'] == False]"
      ]
    },
    {
      "cell_type": "markdown",
      "id": "af7db6f0-73e6-41f8-9f22-0f347d35030a",
      "metadata": {
        "id": "af7db6f0-73e6-41f8-9f22-0f347d35030a"
      },
      "source": [
        "<h3 align=right style=\"line-height:200%;font-family:vazir;color:#0099cc\">\n",
        "<font face=\"vazir\" color=\"#0099cc\">\n",
        "مصورسازی ۱\n",
        "</font>\n",
        "</h3>\n",
        "\n",
        "<p dir=rtl style=\"direction: rtl; text-align: justify; line-height:200%; font-family:vazir; font-size:medium\">\n",
        "<font face=\"vazir\">\n",
        "اکنون بیاید با استفاده از مصورسازی، بینش‌های بیشتری را از دل این داده‌ها استخراج کنیم.\n",
        "در این مرحله نیاز است یک نمودار میله‌ای رسم کنید تا رابطه‌ی بین درصد جست‌وجو‌هایی که به رزرو هتل ختم شده‌اند و نشده‌اند‌ (هر کدام نسبت به دسته‌ی خودشان) در ساعات مختلف را نشان دهد.\n",
        "</font>\n",
        "</p>\n",
        "\n",
        "<p dir=rtl style=\"direction: rtl; text-align: justify; line-height:200%; font-family:vazir; font-size:medium\">\n",
        "<font face=\"vazir\">\n",
        "خروجی نمودار شما باید شبیه به تصویر زیر باشد.\n",
        "</font>\n",
        "</p>\n",
        "\n",
        "<center>\n",
        "<img src = 'https://quera.org/qbox/view/6TWauQwG58/search_hour.png'>\n",
        "</center>"
      ]
    },
    {
      "cell_type": "code",
      "execution_count": 35,
      "id": "b7daecb1-658f-49c3-8d68-c769988ebb76",
      "metadata": {
        "colab": {
          "base_uri": "https://localhost:8080/",
          "height": 542
        },
        "id": "b7daecb1-658f-49c3-8d68-c769988ebb76",
        "outputId": "4df5455b-4b36-4927-8149-a85d2c85918f"
      },
      "outputs": [
        {
          "output_type": "display_data",
          "data": {
            "text/html": [
              "<html>\n",
              "<head><meta charset=\"utf-8\" /></head>\n",
              "<body>\n",
              "    <div>            <script src=\"https://cdnjs.cloudflare.com/ajax/libs/mathjax/2.7.5/MathJax.js?config=TeX-AMS-MML_SVG\"></script><script type=\"text/javascript\">if (window.MathJax && window.MathJax.Hub && window.MathJax.Hub.Config) {window.MathJax.Hub.Config({SVG: {font: \"STIX-Web\"}});}</script>                <script type=\"text/javascript\">window.PlotlyConfig = {MathJaxConfig: 'local'};</script>\n",
              "        <script charset=\"utf-8\" src=\"https://cdn.plot.ly/plotly-2.24.1.min.js\"></script>                <div id=\"e9b0f194-ec9a-4a88-af98-240da379bec0\" class=\"plotly-graph-div\" style=\"height:525px; width:100%;\"></div>            <script type=\"text/javascript\">                                    window.PLOTLYENV=window.PLOTLYENV || {};                                    if (document.getElementById(\"e9b0f194-ec9a-4a88-af98-240da379bec0\")) {                    Plotly.newPlot(                        \"e9b0f194-ec9a-4a88-af98-240da379bec0\",                        [{\"name\":\"Booked\",\"y\":[0.0172285368510592,0.012442076731427915,0.009802573628840839,0.009264701216407526,0.011952552401011078,0.018588326657772634,0.029247567864842935,0.0406214541592193,0.04955225143420053,0.05630738501844026,0.06209706783991346,0.06542704198879835,0.06372428297528053,0.06249442863898638,0.06108024724000441,0.057887762949353876,0.05645394014205271,0.056065644608357876,0.054937019068785724,0.05345333730190507,0.04909747728773303,0.04198577659862178,0.03462629198917607,0.025662255407808518],\"type\":\"bar\"},{\"name\":\"Not Booked\",\"y\":[0.02098723722048626,0.013849316545462894,0.010303532209820263,0.009772211570698106,0.01217877305670304,0.018181501491109413,0.027303201555930242,0.03675555551077101,0.04437268680829171,0.05054470082156767,0.056007327647199644,0.0589381562065405,0.05858850087399438,0.05785305867803797,0.05669137957814206,0.05538531830511163,0.056713979778722445,0.0588215564455844,0.060192539313912614,0.05950762368103718,0.055852293150224684,0.04964515525833973,0.04105808669005092,0.03049630760226123],\"type\":\"bar\"}],                        {\"xaxis\":{\"automargin\":true,\"tickangle\":45,\"title\":{\"text\":\"Search Hour\"}},\"yaxis\":{\"title\":{\"text\":\"Frequency\"}},\"template\":{\"data\":{\"histogram2dcontour\":[{\"type\":\"histogram2dcontour\",\"colorbar\":{\"outlinewidth\":0,\"ticks\":\"\"},\"colorscale\":[[0.0,\"#0d0887\"],[0.1111111111111111,\"#46039f\"],[0.2222222222222222,\"#7201a8\"],[0.3333333333333333,\"#9c179e\"],[0.4444444444444444,\"#bd3786\"],[0.5555555555555556,\"#d8576b\"],[0.6666666666666666,\"#ed7953\"],[0.7777777777777778,\"#fb9f3a\"],[0.8888888888888888,\"#fdca26\"],[1.0,\"#f0f921\"]]}],\"choropleth\":[{\"type\":\"choropleth\",\"colorbar\":{\"outlinewidth\":0,\"ticks\":\"\"}}],\"histogram2d\":[{\"type\":\"histogram2d\",\"colorbar\":{\"outlinewidth\":0,\"ticks\":\"\"},\"colorscale\":[[0.0,\"#0d0887\"],[0.1111111111111111,\"#46039f\"],[0.2222222222222222,\"#7201a8\"],[0.3333333333333333,\"#9c179e\"],[0.4444444444444444,\"#bd3786\"],[0.5555555555555556,\"#d8576b\"],[0.6666666666666666,\"#ed7953\"],[0.7777777777777778,\"#fb9f3a\"],[0.8888888888888888,\"#fdca26\"],[1.0,\"#f0f921\"]]}],\"heatmap\":[{\"type\":\"heatmap\",\"colorbar\":{\"outlinewidth\":0,\"ticks\":\"\"},\"colorscale\":[[0.0,\"#0d0887\"],[0.1111111111111111,\"#46039f\"],[0.2222222222222222,\"#7201a8\"],[0.3333333333333333,\"#9c179e\"],[0.4444444444444444,\"#bd3786\"],[0.5555555555555556,\"#d8576b\"],[0.6666666666666666,\"#ed7953\"],[0.7777777777777778,\"#fb9f3a\"],[0.8888888888888888,\"#fdca26\"],[1.0,\"#f0f921\"]]}],\"heatmapgl\":[{\"type\":\"heatmapgl\",\"colorbar\":{\"outlinewidth\":0,\"ticks\":\"\"},\"colorscale\":[[0.0,\"#0d0887\"],[0.1111111111111111,\"#46039f\"],[0.2222222222222222,\"#7201a8\"],[0.3333333333333333,\"#9c179e\"],[0.4444444444444444,\"#bd3786\"],[0.5555555555555556,\"#d8576b\"],[0.6666666666666666,\"#ed7953\"],[0.7777777777777778,\"#fb9f3a\"],[0.8888888888888888,\"#fdca26\"],[1.0,\"#f0f921\"]]}],\"contourcarpet\":[{\"type\":\"contourcarpet\",\"colorbar\":{\"outlinewidth\":0,\"ticks\":\"\"}}],\"contour\":[{\"type\":\"contour\",\"colorbar\":{\"outlinewidth\":0,\"ticks\":\"\"},\"colorscale\":[[0.0,\"#0d0887\"],[0.1111111111111111,\"#46039f\"],[0.2222222222222222,\"#7201a8\"],[0.3333333333333333,\"#9c179e\"],[0.4444444444444444,\"#bd3786\"],[0.5555555555555556,\"#d8576b\"],[0.6666666666666666,\"#ed7953\"],[0.7777777777777778,\"#fb9f3a\"],[0.8888888888888888,\"#fdca26\"],[1.0,\"#f0f921\"]]}],\"surface\":[{\"type\":\"surface\",\"colorbar\":{\"outlinewidth\":0,\"ticks\":\"\"},\"colorscale\":[[0.0,\"#0d0887\"],[0.1111111111111111,\"#46039f\"],[0.2222222222222222,\"#7201a8\"],[0.3333333333333333,\"#9c179e\"],[0.4444444444444444,\"#bd3786\"],[0.5555555555555556,\"#d8576b\"],[0.6666666666666666,\"#ed7953\"],[0.7777777777777778,\"#fb9f3a\"],[0.8888888888888888,\"#fdca26\"],[1.0,\"#f0f921\"]]}],\"mesh3d\":[{\"type\":\"mesh3d\",\"colorbar\":{\"outlinewidth\":0,\"ticks\":\"\"}}],\"scatter\":[{\"fillpattern\":{\"fillmode\":\"overlay\",\"size\":10,\"solidity\":0.2},\"type\":\"scatter\"}],\"parcoords\":[{\"type\":\"parcoords\",\"line\":{\"colorbar\":{\"outlinewidth\":0,\"ticks\":\"\"}}}],\"scatterpolargl\":[{\"type\":\"scatterpolargl\",\"marker\":{\"colorbar\":{\"outlinewidth\":0,\"ticks\":\"\"}}}],\"bar\":[{\"error_x\":{\"color\":\"#2a3f5f\"},\"error_y\":{\"color\":\"#2a3f5f\"},\"marker\":{\"line\":{\"color\":\"#E5ECF6\",\"width\":0.5},\"pattern\":{\"fillmode\":\"overlay\",\"size\":10,\"solidity\":0.2}},\"type\":\"bar\"}],\"scattergeo\":[{\"type\":\"scattergeo\",\"marker\":{\"colorbar\":{\"outlinewidth\":0,\"ticks\":\"\"}}}],\"scatterpolar\":[{\"type\":\"scatterpolar\",\"marker\":{\"colorbar\":{\"outlinewidth\":0,\"ticks\":\"\"}}}],\"histogram\":[{\"marker\":{\"pattern\":{\"fillmode\":\"overlay\",\"size\":10,\"solidity\":0.2}},\"type\":\"histogram\"}],\"scattergl\":[{\"type\":\"scattergl\",\"marker\":{\"colorbar\":{\"outlinewidth\":0,\"ticks\":\"\"}}}],\"scatter3d\":[{\"type\":\"scatter3d\",\"line\":{\"colorbar\":{\"outlinewidth\":0,\"ticks\":\"\"}},\"marker\":{\"colorbar\":{\"outlinewidth\":0,\"ticks\":\"\"}}}],\"scattermapbox\":[{\"type\":\"scattermapbox\",\"marker\":{\"colorbar\":{\"outlinewidth\":0,\"ticks\":\"\"}}}],\"scatterternary\":[{\"type\":\"scatterternary\",\"marker\":{\"colorbar\":{\"outlinewidth\":0,\"ticks\":\"\"}}}],\"scattercarpet\":[{\"type\":\"scattercarpet\",\"marker\":{\"colorbar\":{\"outlinewidth\":0,\"ticks\":\"\"}}}],\"carpet\":[{\"aaxis\":{\"endlinecolor\":\"#2a3f5f\",\"gridcolor\":\"white\",\"linecolor\":\"white\",\"minorgridcolor\":\"white\",\"startlinecolor\":\"#2a3f5f\"},\"baxis\":{\"endlinecolor\":\"#2a3f5f\",\"gridcolor\":\"white\",\"linecolor\":\"white\",\"minorgridcolor\":\"white\",\"startlinecolor\":\"#2a3f5f\"},\"type\":\"carpet\"}],\"table\":[{\"cells\":{\"fill\":{\"color\":\"#EBF0F8\"},\"line\":{\"color\":\"white\"}},\"header\":{\"fill\":{\"color\":\"#C8D4E3\"},\"line\":{\"color\":\"white\"}},\"type\":\"table\"}],\"barpolar\":[{\"marker\":{\"line\":{\"color\":\"#E5ECF6\",\"width\":0.5},\"pattern\":{\"fillmode\":\"overlay\",\"size\":10,\"solidity\":0.2}},\"type\":\"barpolar\"}],\"pie\":[{\"automargin\":true,\"type\":\"pie\"}]},\"layout\":{\"autotypenumbers\":\"strict\",\"colorway\":[\"#636efa\",\"#EF553B\",\"#00cc96\",\"#ab63fa\",\"#FFA15A\",\"#19d3f3\",\"#FF6692\",\"#B6E880\",\"#FF97FF\",\"#FECB52\"],\"font\":{\"color\":\"#2a3f5f\"},\"hovermode\":\"closest\",\"hoverlabel\":{\"align\":\"left\"},\"paper_bgcolor\":\"white\",\"plot_bgcolor\":\"#E5ECF6\",\"polar\":{\"bgcolor\":\"#E5ECF6\",\"angularaxis\":{\"gridcolor\":\"white\",\"linecolor\":\"white\",\"ticks\":\"\"},\"radialaxis\":{\"gridcolor\":\"white\",\"linecolor\":\"white\",\"ticks\":\"\"}},\"ternary\":{\"bgcolor\":\"#E5ECF6\",\"aaxis\":{\"gridcolor\":\"white\",\"linecolor\":\"white\",\"ticks\":\"\"},\"baxis\":{\"gridcolor\":\"white\",\"linecolor\":\"white\",\"ticks\":\"\"},\"caxis\":{\"gridcolor\":\"white\",\"linecolor\":\"white\",\"ticks\":\"\"}},\"coloraxis\":{\"colorbar\":{\"outlinewidth\":0,\"ticks\":\"\"}},\"colorscale\":{\"sequential\":[[0.0,\"#0d0887\"],[0.1111111111111111,\"#46039f\"],[0.2222222222222222,\"#7201a8\"],[0.3333333333333333,\"#9c179e\"],[0.4444444444444444,\"#bd3786\"],[0.5555555555555556,\"#d8576b\"],[0.6666666666666666,\"#ed7953\"],[0.7777777777777778,\"#fb9f3a\"],[0.8888888888888888,\"#fdca26\"],[1.0,\"#f0f921\"]],\"sequentialminus\":[[0.0,\"#0d0887\"],[0.1111111111111111,\"#46039f\"],[0.2222222222222222,\"#7201a8\"],[0.3333333333333333,\"#9c179e\"],[0.4444444444444444,\"#bd3786\"],[0.5555555555555556,\"#d8576b\"],[0.6666666666666666,\"#ed7953\"],[0.7777777777777778,\"#fb9f3a\"],[0.8888888888888888,\"#fdca26\"],[1.0,\"#f0f921\"]],\"diverging\":[[0,\"#8e0152\"],[0.1,\"#c51b7d\"],[0.2,\"#de77ae\"],[0.3,\"#f1b6da\"],[0.4,\"#fde0ef\"],[0.5,\"#f7f7f7\"],[0.6,\"#e6f5d0\"],[0.7,\"#b8e186\"],[0.8,\"#7fbc41\"],[0.9,\"#4d9221\"],[1,\"#276419\"]]},\"xaxis\":{\"gridcolor\":\"white\",\"linecolor\":\"white\",\"ticks\":\"\",\"title\":{\"standoff\":15},\"zerolinecolor\":\"white\",\"automargin\":true,\"zerolinewidth\":2},\"yaxis\":{\"gridcolor\":\"white\",\"linecolor\":\"white\",\"ticks\":\"\",\"title\":{\"standoff\":15},\"zerolinecolor\":\"white\",\"automargin\":true,\"zerolinewidth\":2},\"scene\":{\"xaxis\":{\"backgroundcolor\":\"#E5ECF6\",\"gridcolor\":\"white\",\"linecolor\":\"white\",\"showbackground\":true,\"ticks\":\"\",\"zerolinecolor\":\"white\",\"gridwidth\":2},\"yaxis\":{\"backgroundcolor\":\"#E5ECF6\",\"gridcolor\":\"white\",\"linecolor\":\"white\",\"showbackground\":true,\"ticks\":\"\",\"zerolinecolor\":\"white\",\"gridwidth\":2},\"zaxis\":{\"backgroundcolor\":\"#E5ECF6\",\"gridcolor\":\"white\",\"linecolor\":\"white\",\"showbackground\":true,\"ticks\":\"\",\"zerolinecolor\":\"white\",\"gridwidth\":2}},\"shapedefaults\":{\"line\":{\"color\":\"#2a3f5f\"}},\"annotationdefaults\":{\"arrowcolor\":\"#2a3f5f\",\"arrowhead\":0,\"arrowwidth\":1},\"geo\":{\"bgcolor\":\"white\",\"landcolor\":\"#E5ECF6\",\"subunitcolor\":\"white\",\"showland\":true,\"showlakes\":true,\"lakecolor\":\"white\"},\"title\":{\"x\":0.05},\"mapbox\":{\"style\":\"light\"}}}},                        {\"responsive\": true}                    ).then(function(){\n",
              "                            \n",
              "var gd = document.getElementById('e9b0f194-ec9a-4a88-af98-240da379bec0');\n",
              "var x = new MutationObserver(function (mutations, observer) {{\n",
              "        var display = window.getComputedStyle(gd).display;\n",
              "        if (!display || display === 'none') {{\n",
              "            console.log([gd, 'removed!']);\n",
              "            Plotly.purge(gd);\n",
              "            observer.disconnect();\n",
              "        }}\n",
              "}});\n",
              "\n",
              "// Listen for the removal of the full notebook cells\n",
              "var notebookContainer = gd.closest('#notebook-container');\n",
              "if (notebookContainer) {{\n",
              "    x.observe(notebookContainer, {childList: true});\n",
              "}}\n",
              "\n",
              "// Listen for the clearing of the current output cell\n",
              "var outputEl = gd.closest('.output');\n",
              "if (outputEl) {{\n",
              "    x.observe(outputEl, {childList: true});\n",
              "}}\n",
              "\n",
              "                        })                };                            </script>        </div>\n",
              "</body>\n",
              "</html>"
            ]
          },
          "metadata": {}
        }
      ],
      "source": [
        "import plotly.graph_objects as go\n",
        "\n",
        "trace_not_booked = go.Bar(y = not_booked['search_date_hour'].value_counts().sort_index()/len(not_booked) , name='Not Booked') #TODO\n",
        "trace_is_booked = go.Bar(y = is_booked['search_date_hour'].value_counts().sort_index()/len(is_booked) , name='Booked') #TODO\n",
        "\n",
        "# در ادامه‌ی این قسمت از کد تغییری ایجاد نکنید زیرا نمودار شما توسط سیستم داوری بررسی می‌شود و تغییر در این قسمت ممکن است باعث عدم داوری صحیح شود\n",
        "\n",
        "data = [trace_is_booked, trace_not_booked]\n",
        "\n",
        "layout = go.Layout(\n",
        "    xaxis=dict(title='Search Hour', tickangle=45, automargin=True),\n",
        "    yaxis=dict(title='Frequency')\n",
        ")\n",
        "\n",
        "fig = go.Figure(data=data, layout=layout)\n",
        "fig.show()\n",
        "fig.write_json('./search_hour.json')"
      ]
    },
    {
      "cell_type": "markdown",
      "id": "baeba698-b02f-4b0e-85da-2602e4231b8f",
      "metadata": {
        "id": "baeba698-b02f-4b0e-85da-2602e4231b8f"
      },
      "source": [
        "\n",
        "<p dir=rtl style=\"direction: rtl; text-align: justify; line-height:200%; font-family:vazir; font-size:medium\">\n",
        "<font face=\"vazir\">\n",
        "در این مرحله می‌توانید با توجه به زمان‌های مختلفی که جست‌وجو در آن انجام شده و رابطه‌ی بین آن با رزرو هتل، مقادیر این ستون را به دسته‌های کوچک‌تری افراز کنید (binning).\n",
        "          به‌طور مثال به نمونه‌هایی که در آن‌ها جست‌وجو بین ساعت ۵ تا ۱۵ انجام شده‌است، مقدار <code>1</code>\n",
        "          </font> دهید و به بقیه نمونه‌ها مقدار  <code>0</code> دهید. این عمل یک نوع مهندسی ویژگی به شمار می‌آید. توجه کنید این دسته‌بندی اختیاری بوده است و به‌طور مستقیم داوری نمی‌شود، اما ممکن است در عملکرد مدل شما تاثیر (مثبت یا منفی!) بگذارد، همچنین برای سایر ستون‌ها و ویژگی‌ها نیز با خلاقیت خودتان می‌توانید ویژگی‌های جدیدی خلق کنید.\n",
        "</p>\n",
        "\n"
      ]
    },
    {
      "cell_type": "code",
      "execution_count": 36,
      "id": "40206e40-ba5c-4cc6-9f5b-deb9fea5e299",
      "metadata": {
        "id": "40206e40-ba5c-4cc6-9f5b-deb9fea5e299"
      },
      "outputs": [],
      "source": [
        "# TODO: Make Bins for search_date_hour (Optional)\n",
        "train['search_time_of_day'] = np.where((train['search_date_hour'] >= 5) & (train['search_date_hour'] <= 15), 'morning', 'night') #TODO\n",
        "test['search_time_of_day'] = np.where((test['search_date_hour'] >= 5) & (test['search_date_hour'] <= 15), 'morning', 'night') #TODO"
      ]
    },
    {
      "cell_type": "markdown",
      "id": "e98bb936-d368-4029-94ef-c95a7228d6d6",
      "metadata": {
        "id": "e98bb936-d368-4029-94ef-c95a7228d6d6"
      },
      "source": [
        "<h3 align=right style=\"line-height:200%;font-family:vazir;color:#0099cc\">\n",
        "<font face=\"vazir\" color=\"#0099cc\">\n",
        "مصورسازی ۲\n",
        "</font>\n",
        "</h3>\n",
        "\n",
        "<p dir=rtl style=\"direction: rtl; text-align: justify; line-height:200%; font-family:vazir; font-size:medium\">\n",
        "<font face=\"vazir\">\n",
        "همانند نمودار قبل برای روز ورود به هتل  نیز نمودار را رسم کنید. دقت داشته باشید روز‌های هفته به‌صورت، دوشنبه، سه‌شنبه تا شنبه و به همین ترتیب باشد. به رعایت نیم‌فاصله در اسامی روزها توجه داشته باشید. کلمه‌ی سه‌شنبه و پنج‌شنبه دارای نیم‌فاصله است.\n",
        "</font>\n",
        "</p>\n",
        "\n",
        "<p dir=rtl style=\"direction: rtl; text-align: justify; line-height:200%; font-family:vazir; font-size:medium\">\n",
        "<font face=\"vazir\">\n",
        "خروجی نمودار شما باید به‌صورت زیر باشد.\n",
        "</font>\n",
        "</p>\n",
        "\n",
        "<center>\n",
        "<img src = 'https://quera.org/qbox/view/jqISJX07yD/checkIn_day.png'>\n",
        "</center>\n"
      ]
    },
    {
      "cell_type": "code",
      "execution_count": 37,
      "id": "31c0e5d7-5c45-4263-8e46-ddb04ddef3ce",
      "metadata": {
        "colab": {
          "base_uri": "https://localhost:8080/",
          "height": 542
        },
        "id": "31c0e5d7-5c45-4263-8e46-ddb04ddef3ce",
        "outputId": "3b62ff52-84a5-4991-f4d6-c24f2796d003"
      },
      "outputs": [
        {
          "output_type": "display_data",
          "data": {
            "text/html": [
              "<html>\n",
              "<head><meta charset=\"utf-8\" /></head>\n",
              "<body>\n",
              "    <div>            <script src=\"https://cdnjs.cloudflare.com/ajax/libs/mathjax/2.7.5/MathJax.js?config=TeX-AMS-MML_SVG\"></script><script type=\"text/javascript\">if (window.MathJax && window.MathJax.Hub && window.MathJax.Hub.Config) {window.MathJax.Hub.Config({SVG: {font: \"STIX-Web\"}});}</script>                <script type=\"text/javascript\">window.PlotlyConfig = {MathJaxConfig: 'local'};</script>\n",
              "        <script charset=\"utf-8\" src=\"https://cdn.plot.ly/plotly-2.24.1.min.js\"></script>                <div id=\"664d976d-e955-4038-99cc-17caa318e185\" class=\"plotly-graph-div\" style=\"height:525px; width:100%;\"></div>            <script type=\"text/javascript\">                                    window.PLOTLYENV=window.PLOTLYENV || {};                                    if (document.getElementById(\"664d976d-e955-4038-99cc-17caa318e185\")) {                    Plotly.newPlot(                        \"664d976d-e955-4038-99cc-17caa318e185\",                        [{\"name\":\"Booked\",\"y\":[0.13295118203506143,0.12222546221521846,0.12909844424937336,0.14494754988539993,0.18271646720564705,0.1585605567281644,0.12950033768113534],\"type\":\"bar\"},{\"name\":\"Not Booked\",\"y\":[0.1183309075304876,0.10949912341451316,0.1275431523479521,0.15283392839997345,0.1973995086399703,0.1699268775548483,0.12446650211225506],\"type\":\"bar\"}],                        {\"xaxis\":{\"automargin\":true,\"tickangle\":45,\"ticktext\":[\"\\u062f\\u0648\\u0634\\u0646\\u0628\\u0647\",\"\\u0633\\u0647\\u200c\\u0634\\u0646\\u0628\\u0647\",\"\\u0686\\u0647\\u0627\\u0631\\u0634\\u0646\\u0628\\u0647\",\"\\u067e\\u0646\\u062c\\u200c\\u0634\\u0646\\u0628\\u0647\",\"\\u062c\\u0645\\u0639\\u0647\",\"\\u0634\\u0646\\u0628\\u0647\",\"\\u06cc\\u06a9\\u0634\\u0646\\u0628\\u0647\"],\"tickvals\":[0,1,2,3,4,5,6],\"title\":{\"text\":\"Day of Week\"}},\"yaxis\":{\"title\":{\"text\":\"Frequency\"}},\"template\":{\"data\":{\"histogram2dcontour\":[{\"type\":\"histogram2dcontour\",\"colorbar\":{\"outlinewidth\":0,\"ticks\":\"\"},\"colorscale\":[[0.0,\"#0d0887\"],[0.1111111111111111,\"#46039f\"],[0.2222222222222222,\"#7201a8\"],[0.3333333333333333,\"#9c179e\"],[0.4444444444444444,\"#bd3786\"],[0.5555555555555556,\"#d8576b\"],[0.6666666666666666,\"#ed7953\"],[0.7777777777777778,\"#fb9f3a\"],[0.8888888888888888,\"#fdca26\"],[1.0,\"#f0f921\"]]}],\"choropleth\":[{\"type\":\"choropleth\",\"colorbar\":{\"outlinewidth\":0,\"ticks\":\"\"}}],\"histogram2d\":[{\"type\":\"histogram2d\",\"colorbar\":{\"outlinewidth\":0,\"ticks\":\"\"},\"colorscale\":[[0.0,\"#0d0887\"],[0.1111111111111111,\"#46039f\"],[0.2222222222222222,\"#7201a8\"],[0.3333333333333333,\"#9c179e\"],[0.4444444444444444,\"#bd3786\"],[0.5555555555555556,\"#d8576b\"],[0.6666666666666666,\"#ed7953\"],[0.7777777777777778,\"#fb9f3a\"],[0.8888888888888888,\"#fdca26\"],[1.0,\"#f0f921\"]]}],\"heatmap\":[{\"type\":\"heatmap\",\"colorbar\":{\"outlinewidth\":0,\"ticks\":\"\"},\"colorscale\":[[0.0,\"#0d0887\"],[0.1111111111111111,\"#46039f\"],[0.2222222222222222,\"#7201a8\"],[0.3333333333333333,\"#9c179e\"],[0.4444444444444444,\"#bd3786\"],[0.5555555555555556,\"#d8576b\"],[0.6666666666666666,\"#ed7953\"],[0.7777777777777778,\"#fb9f3a\"],[0.8888888888888888,\"#fdca26\"],[1.0,\"#f0f921\"]]}],\"heatmapgl\":[{\"type\":\"heatmapgl\",\"colorbar\":{\"outlinewidth\":0,\"ticks\":\"\"},\"colorscale\":[[0.0,\"#0d0887\"],[0.1111111111111111,\"#46039f\"],[0.2222222222222222,\"#7201a8\"],[0.3333333333333333,\"#9c179e\"],[0.4444444444444444,\"#bd3786\"],[0.5555555555555556,\"#d8576b\"],[0.6666666666666666,\"#ed7953\"],[0.7777777777777778,\"#fb9f3a\"],[0.8888888888888888,\"#fdca26\"],[1.0,\"#f0f921\"]]}],\"contourcarpet\":[{\"type\":\"contourcarpet\",\"colorbar\":{\"outlinewidth\":0,\"ticks\":\"\"}}],\"contour\":[{\"type\":\"contour\",\"colorbar\":{\"outlinewidth\":0,\"ticks\":\"\"},\"colorscale\":[[0.0,\"#0d0887\"],[0.1111111111111111,\"#46039f\"],[0.2222222222222222,\"#7201a8\"],[0.3333333333333333,\"#9c179e\"],[0.4444444444444444,\"#bd3786\"],[0.5555555555555556,\"#d8576b\"],[0.6666666666666666,\"#ed7953\"],[0.7777777777777778,\"#fb9f3a\"],[0.8888888888888888,\"#fdca26\"],[1.0,\"#f0f921\"]]}],\"surface\":[{\"type\":\"surface\",\"colorbar\":{\"outlinewidth\":0,\"ticks\":\"\"},\"colorscale\":[[0.0,\"#0d0887\"],[0.1111111111111111,\"#46039f\"],[0.2222222222222222,\"#7201a8\"],[0.3333333333333333,\"#9c179e\"],[0.4444444444444444,\"#bd3786\"],[0.5555555555555556,\"#d8576b\"],[0.6666666666666666,\"#ed7953\"],[0.7777777777777778,\"#fb9f3a\"],[0.8888888888888888,\"#fdca26\"],[1.0,\"#f0f921\"]]}],\"mesh3d\":[{\"type\":\"mesh3d\",\"colorbar\":{\"outlinewidth\":0,\"ticks\":\"\"}}],\"scatter\":[{\"fillpattern\":{\"fillmode\":\"overlay\",\"size\":10,\"solidity\":0.2},\"type\":\"scatter\"}],\"parcoords\":[{\"type\":\"parcoords\",\"line\":{\"colorbar\":{\"outlinewidth\":0,\"ticks\":\"\"}}}],\"scatterpolargl\":[{\"type\":\"scatterpolargl\",\"marker\":{\"colorbar\":{\"outlinewidth\":0,\"ticks\":\"\"}}}],\"bar\":[{\"error_x\":{\"color\":\"#2a3f5f\"},\"error_y\":{\"color\":\"#2a3f5f\"},\"marker\":{\"line\":{\"color\":\"#E5ECF6\",\"width\":0.5},\"pattern\":{\"fillmode\":\"overlay\",\"size\":10,\"solidity\":0.2}},\"type\":\"bar\"}],\"scattergeo\":[{\"type\":\"scattergeo\",\"marker\":{\"colorbar\":{\"outlinewidth\":0,\"ticks\":\"\"}}}],\"scatterpolar\":[{\"type\":\"scatterpolar\",\"marker\":{\"colorbar\":{\"outlinewidth\":0,\"ticks\":\"\"}}}],\"histogram\":[{\"marker\":{\"pattern\":{\"fillmode\":\"overlay\",\"size\":10,\"solidity\":0.2}},\"type\":\"histogram\"}],\"scattergl\":[{\"type\":\"scattergl\",\"marker\":{\"colorbar\":{\"outlinewidth\":0,\"ticks\":\"\"}}}],\"scatter3d\":[{\"type\":\"scatter3d\",\"line\":{\"colorbar\":{\"outlinewidth\":0,\"ticks\":\"\"}},\"marker\":{\"colorbar\":{\"outlinewidth\":0,\"ticks\":\"\"}}}],\"scattermapbox\":[{\"type\":\"scattermapbox\",\"marker\":{\"colorbar\":{\"outlinewidth\":0,\"ticks\":\"\"}}}],\"scatterternary\":[{\"type\":\"scatterternary\",\"marker\":{\"colorbar\":{\"outlinewidth\":0,\"ticks\":\"\"}}}],\"scattercarpet\":[{\"type\":\"scattercarpet\",\"marker\":{\"colorbar\":{\"outlinewidth\":0,\"ticks\":\"\"}}}],\"carpet\":[{\"aaxis\":{\"endlinecolor\":\"#2a3f5f\",\"gridcolor\":\"white\",\"linecolor\":\"white\",\"minorgridcolor\":\"white\",\"startlinecolor\":\"#2a3f5f\"},\"baxis\":{\"endlinecolor\":\"#2a3f5f\",\"gridcolor\":\"white\",\"linecolor\":\"white\",\"minorgridcolor\":\"white\",\"startlinecolor\":\"#2a3f5f\"},\"type\":\"carpet\"}],\"table\":[{\"cells\":{\"fill\":{\"color\":\"#EBF0F8\"},\"line\":{\"color\":\"white\"}},\"header\":{\"fill\":{\"color\":\"#C8D4E3\"},\"line\":{\"color\":\"white\"}},\"type\":\"table\"}],\"barpolar\":[{\"marker\":{\"line\":{\"color\":\"#E5ECF6\",\"width\":0.5},\"pattern\":{\"fillmode\":\"overlay\",\"size\":10,\"solidity\":0.2}},\"type\":\"barpolar\"}],\"pie\":[{\"automargin\":true,\"type\":\"pie\"}]},\"layout\":{\"autotypenumbers\":\"strict\",\"colorway\":[\"#636efa\",\"#EF553B\",\"#00cc96\",\"#ab63fa\",\"#FFA15A\",\"#19d3f3\",\"#FF6692\",\"#B6E880\",\"#FF97FF\",\"#FECB52\"],\"font\":{\"color\":\"#2a3f5f\"},\"hovermode\":\"closest\",\"hoverlabel\":{\"align\":\"left\"},\"paper_bgcolor\":\"white\",\"plot_bgcolor\":\"#E5ECF6\",\"polar\":{\"bgcolor\":\"#E5ECF6\",\"angularaxis\":{\"gridcolor\":\"white\",\"linecolor\":\"white\",\"ticks\":\"\"},\"radialaxis\":{\"gridcolor\":\"white\",\"linecolor\":\"white\",\"ticks\":\"\"}},\"ternary\":{\"bgcolor\":\"#E5ECF6\",\"aaxis\":{\"gridcolor\":\"white\",\"linecolor\":\"white\",\"ticks\":\"\"},\"baxis\":{\"gridcolor\":\"white\",\"linecolor\":\"white\",\"ticks\":\"\"},\"caxis\":{\"gridcolor\":\"white\",\"linecolor\":\"white\",\"ticks\":\"\"}},\"coloraxis\":{\"colorbar\":{\"outlinewidth\":0,\"ticks\":\"\"}},\"colorscale\":{\"sequential\":[[0.0,\"#0d0887\"],[0.1111111111111111,\"#46039f\"],[0.2222222222222222,\"#7201a8\"],[0.3333333333333333,\"#9c179e\"],[0.4444444444444444,\"#bd3786\"],[0.5555555555555556,\"#d8576b\"],[0.6666666666666666,\"#ed7953\"],[0.7777777777777778,\"#fb9f3a\"],[0.8888888888888888,\"#fdca26\"],[1.0,\"#f0f921\"]],\"sequentialminus\":[[0.0,\"#0d0887\"],[0.1111111111111111,\"#46039f\"],[0.2222222222222222,\"#7201a8\"],[0.3333333333333333,\"#9c179e\"],[0.4444444444444444,\"#bd3786\"],[0.5555555555555556,\"#d8576b\"],[0.6666666666666666,\"#ed7953\"],[0.7777777777777778,\"#fb9f3a\"],[0.8888888888888888,\"#fdca26\"],[1.0,\"#f0f921\"]],\"diverging\":[[0,\"#8e0152\"],[0.1,\"#c51b7d\"],[0.2,\"#de77ae\"],[0.3,\"#f1b6da\"],[0.4,\"#fde0ef\"],[0.5,\"#f7f7f7\"],[0.6,\"#e6f5d0\"],[0.7,\"#b8e186\"],[0.8,\"#7fbc41\"],[0.9,\"#4d9221\"],[1,\"#276419\"]]},\"xaxis\":{\"gridcolor\":\"white\",\"linecolor\":\"white\",\"ticks\":\"\",\"title\":{\"standoff\":15},\"zerolinecolor\":\"white\",\"automargin\":true,\"zerolinewidth\":2},\"yaxis\":{\"gridcolor\":\"white\",\"linecolor\":\"white\",\"ticks\":\"\",\"title\":{\"standoff\":15},\"zerolinecolor\":\"white\",\"automargin\":true,\"zerolinewidth\":2},\"scene\":{\"xaxis\":{\"backgroundcolor\":\"#E5ECF6\",\"gridcolor\":\"white\",\"linecolor\":\"white\",\"showbackground\":true,\"ticks\":\"\",\"zerolinecolor\":\"white\",\"gridwidth\":2},\"yaxis\":{\"backgroundcolor\":\"#E5ECF6\",\"gridcolor\":\"white\",\"linecolor\":\"white\",\"showbackground\":true,\"ticks\":\"\",\"zerolinecolor\":\"white\",\"gridwidth\":2},\"zaxis\":{\"backgroundcolor\":\"#E5ECF6\",\"gridcolor\":\"white\",\"linecolor\":\"white\",\"showbackground\":true,\"ticks\":\"\",\"zerolinecolor\":\"white\",\"gridwidth\":2}},\"shapedefaults\":{\"line\":{\"color\":\"#2a3f5f\"}},\"annotationdefaults\":{\"arrowcolor\":\"#2a3f5f\",\"arrowhead\":0,\"arrowwidth\":1},\"geo\":{\"bgcolor\":\"white\",\"landcolor\":\"#E5ECF6\",\"subunitcolor\":\"white\",\"showland\":true,\"showlakes\":true,\"lakecolor\":\"white\"},\"title\":{\"x\":0.05},\"mapbox\":{\"style\":\"light\"}}}},                        {\"responsive\": true}                    ).then(function(){\n",
              "                            \n",
              "var gd = document.getElementById('664d976d-e955-4038-99cc-17caa318e185');\n",
              "var x = new MutationObserver(function (mutations, observer) {{\n",
              "        var display = window.getComputedStyle(gd).display;\n",
              "        if (!display || display === 'none') {{\n",
              "            console.log([gd, 'removed!']);\n",
              "            Plotly.purge(gd);\n",
              "            observer.disconnect();\n",
              "        }}\n",
              "}});\n",
              "\n",
              "// Listen for the removal of the full notebook cells\n",
              "var notebookContainer = gd.closest('#notebook-container');\n",
              "if (notebookContainer) {{\n",
              "    x.observe(notebookContainer, {childList: true});\n",
              "}}\n",
              "\n",
              "// Listen for the clearing of the current output cell\n",
              "var outputEl = gd.closest('.output');\n",
              "if (outputEl) {{\n",
              "    x.observe(outputEl, {childList: true});\n",
              "}}\n",
              "\n",
              "                        })                };                            </script>        </div>\n",
              "</body>\n",
              "</html>"
            ]
          },
          "metadata": {}
        }
      ],
      "source": [
        "trace_not_booked = go.Bar(y = not_booked['checkIn_date_dayofweek'].value_counts().sort_index()/len(not_booked) ,\n",
        "                          name='Not Booked') #TODO\n",
        "trace_is_booked = go.Bar(y = is_booked['checkIn_date_dayofweek'].value_counts().sort_index()/len(is_booked) ,\n",
        "                         name='Booked') #TODO\n",
        "\n",
        "ticktext = ['دوشنبه', 'سه‌شنبه', 'چهارشنبه', 'پنج‌شنبه', 'جمعه', 'شنبه', 'یکشنبه'] #TODO\n",
        "\n",
        "# در ادامه‌ی این قسمت از کد تغییری ایجاد نکنید زیرا نمودار شما توسط سیستم داوری بررسی می‌شود و تغییر در این قسمت ممکن است باعث عدم داوری صحیح شود\n",
        "\n",
        "data = [trace_is_booked, trace_not_booked]\n",
        "\n",
        "layout = go.Layout(\n",
        "    xaxis=dict(title='Day of Week', tickangle=45, automargin=True,\n",
        "               tickvals = [0,1,2,3,4,5,6], ticktext= ticktext\n",
        " ),\n",
        "    yaxis=dict(title='Frequency'),\n",
        ")\n",
        "\n",
        "fig = go.Figure(data=data, layout=layout)\n",
        "fig.show()\n",
        "fig.write_json('./checkIn_day.json')"
      ]
    },
    {
      "cell_type": "markdown",
      "id": "0414f88d",
      "metadata": {
        "id": "0414f88d"
      },
      "source": [
        "<h3 align=right style=\"line-height:200%;font-family:vazir;color:#0099cc\">\n",
        "<font face=\"vazir\" color=\"#0099cc\">\n",
        "مصورسازی ۳\n",
        "</font>\n",
        "</h3>\n",
        "\n",
        "<p dir=rtl style=\"direction: rtl; text-align: justify; line-height:200%; font-family:vazir; font-size:medium\">\n",
        "<font face=\"vazir\">\n",
        "همانند نمودار قبل برای ماه ورود نیز نمودار را رسم کنید.\n",
        "</font>\n",
        "</p>\n",
        "\n",
        "<p dir=rtl style=\"direction: rtl; text-align: justify; line-height:200%; font-family:vazir; font-size:medium\">\n",
        "<font face=\"vazir\">\n",
        "خروجی نمودار شما باید مشابه با تصویر زیر باشد.\n",
        "</font>\n",
        "</p>\n",
        "\n",
        "<center>\n",
        "<img src = 'https://quera.org/qbox/view/vdWwvplc3K/checkIn_date_month.png'>\n",
        "</center>"
      ]
    },
    {
      "cell_type": "code",
      "execution_count": 38,
      "id": "16e298c2-adcc-495c-9385-2beb32e46211",
      "metadata": {
        "colab": {
          "base_uri": "https://localhost:8080/",
          "height": 542
        },
        "id": "16e298c2-adcc-495c-9385-2beb32e46211",
        "outputId": "d6b8573c-7b2c-4ccb-8110-85f93cdb65b6"
      },
      "outputs": [
        {
          "output_type": "display_data",
          "data": {
            "text/html": [
              "<html>\n",
              "<head><meta charset=\"utf-8\" /></head>\n",
              "<body>\n",
              "    <div>            <script src=\"https://cdnjs.cloudflare.com/ajax/libs/mathjax/2.7.5/MathJax.js?config=TeX-AMS-MML_SVG\"></script><script type=\"text/javascript\">if (window.MathJax && window.MathJax.Hub && window.MathJax.Hub.Config) {window.MathJax.Hub.Config({SVG: {font: \"STIX-Web\"}});}</script>                <script type=\"text/javascript\">window.PlotlyConfig = {MathJaxConfig: 'local'};</script>\n",
              "        <script charset=\"utf-8\" src=\"https://cdn.plot.ly/plotly-2.24.1.min.js\"></script>                <div id=\"67bfe2f4-c979-41d4-9f9b-f03abbf3f36f\" class=\"plotly-graph-div\" style=\"height:525px; width:100%;\"></div>            <script type=\"text/javascript\">                                    window.PLOTLYENV=window.PLOTLYENV || {};                                    if (document.getElementById(\"67bfe2f4-c979-41d4-9f9b-f03abbf3f36f\")) {                    Plotly.newPlot(                        \"67bfe2f4-c979-41d4-9f9b-f03abbf3f36f\",                        [{\"name\":\"Booked\",\"y\":[0.05186540498317638,0.06473808182006355,0.07849613290887747,0.07822115319240874,0.08894234037956267,0.08699028656814738,0.09178581195315676,0.09913320954209834,0.08621822813344675,0.09571862624968461,0.09688653460589514,0.08100418966348225],\"type\":\"bar\"},{\"name\":\"Not Booked\",\"y\":[0.042386316312695224,0.05306599071434052,0.07440993683315913,0.0748646759008879,0.08423670557595891,0.08708303529618715,0.10055275484209297,0.11134355889245198,0.08491874220239098,0.09371122788041356,0.09401683441437626,0.09941022113504541],\"type\":\"bar\"}],                        {\"xaxis\":{\"automargin\":true,\"tickangle\":45,\"ticktext\":[\"Jan\",\"Feb\",\"Mar\",\"Apr\",\"May\",\"Jun\",\"Jul\",\"Aug\",\"Sep\",\"Oct\",\"Nov\",\"Dec\"],\"tickvals\":[0,1,2,3,4,5,6,7,8,9,10,11],\"title\":{\"text\":\"Month\"}},\"yaxis\":{\"title\":{\"text\":\"Frequency\"}},\"template\":{\"data\":{\"histogram2dcontour\":[{\"type\":\"histogram2dcontour\",\"colorbar\":{\"outlinewidth\":0,\"ticks\":\"\"},\"colorscale\":[[0.0,\"#0d0887\"],[0.1111111111111111,\"#46039f\"],[0.2222222222222222,\"#7201a8\"],[0.3333333333333333,\"#9c179e\"],[0.4444444444444444,\"#bd3786\"],[0.5555555555555556,\"#d8576b\"],[0.6666666666666666,\"#ed7953\"],[0.7777777777777778,\"#fb9f3a\"],[0.8888888888888888,\"#fdca26\"],[1.0,\"#f0f921\"]]}],\"choropleth\":[{\"type\":\"choropleth\",\"colorbar\":{\"outlinewidth\":0,\"ticks\":\"\"}}],\"histogram2d\":[{\"type\":\"histogram2d\",\"colorbar\":{\"outlinewidth\":0,\"ticks\":\"\"},\"colorscale\":[[0.0,\"#0d0887\"],[0.1111111111111111,\"#46039f\"],[0.2222222222222222,\"#7201a8\"],[0.3333333333333333,\"#9c179e\"],[0.4444444444444444,\"#bd3786\"],[0.5555555555555556,\"#d8576b\"],[0.6666666666666666,\"#ed7953\"],[0.7777777777777778,\"#fb9f3a\"],[0.8888888888888888,\"#fdca26\"],[1.0,\"#f0f921\"]]}],\"heatmap\":[{\"type\":\"heatmap\",\"colorbar\":{\"outlinewidth\":0,\"ticks\":\"\"},\"colorscale\":[[0.0,\"#0d0887\"],[0.1111111111111111,\"#46039f\"],[0.2222222222222222,\"#7201a8\"],[0.3333333333333333,\"#9c179e\"],[0.4444444444444444,\"#bd3786\"],[0.5555555555555556,\"#d8576b\"],[0.6666666666666666,\"#ed7953\"],[0.7777777777777778,\"#fb9f3a\"],[0.8888888888888888,\"#fdca26\"],[1.0,\"#f0f921\"]]}],\"heatmapgl\":[{\"type\":\"heatmapgl\",\"colorbar\":{\"outlinewidth\":0,\"ticks\":\"\"},\"colorscale\":[[0.0,\"#0d0887\"],[0.1111111111111111,\"#46039f\"],[0.2222222222222222,\"#7201a8\"],[0.3333333333333333,\"#9c179e\"],[0.4444444444444444,\"#bd3786\"],[0.5555555555555556,\"#d8576b\"],[0.6666666666666666,\"#ed7953\"],[0.7777777777777778,\"#fb9f3a\"],[0.8888888888888888,\"#fdca26\"],[1.0,\"#f0f921\"]]}],\"contourcarpet\":[{\"type\":\"contourcarpet\",\"colorbar\":{\"outlinewidth\":0,\"ticks\":\"\"}}],\"contour\":[{\"type\":\"contour\",\"colorbar\":{\"outlinewidth\":0,\"ticks\":\"\"},\"colorscale\":[[0.0,\"#0d0887\"],[0.1111111111111111,\"#46039f\"],[0.2222222222222222,\"#7201a8\"],[0.3333333333333333,\"#9c179e\"],[0.4444444444444444,\"#bd3786\"],[0.5555555555555556,\"#d8576b\"],[0.6666666666666666,\"#ed7953\"],[0.7777777777777778,\"#fb9f3a\"],[0.8888888888888888,\"#fdca26\"],[1.0,\"#f0f921\"]]}],\"surface\":[{\"type\":\"surface\",\"colorbar\":{\"outlinewidth\":0,\"ticks\":\"\"},\"colorscale\":[[0.0,\"#0d0887\"],[0.1111111111111111,\"#46039f\"],[0.2222222222222222,\"#7201a8\"],[0.3333333333333333,\"#9c179e\"],[0.4444444444444444,\"#bd3786\"],[0.5555555555555556,\"#d8576b\"],[0.6666666666666666,\"#ed7953\"],[0.7777777777777778,\"#fb9f3a\"],[0.8888888888888888,\"#fdca26\"],[1.0,\"#f0f921\"]]}],\"mesh3d\":[{\"type\":\"mesh3d\",\"colorbar\":{\"outlinewidth\":0,\"ticks\":\"\"}}],\"scatter\":[{\"fillpattern\":{\"fillmode\":\"overlay\",\"size\":10,\"solidity\":0.2},\"type\":\"scatter\"}],\"parcoords\":[{\"type\":\"parcoords\",\"line\":{\"colorbar\":{\"outlinewidth\":0,\"ticks\":\"\"}}}],\"scatterpolargl\":[{\"type\":\"scatterpolargl\",\"marker\":{\"colorbar\":{\"outlinewidth\":0,\"ticks\":\"\"}}}],\"bar\":[{\"error_x\":{\"color\":\"#2a3f5f\"},\"error_y\":{\"color\":\"#2a3f5f\"},\"marker\":{\"line\":{\"color\":\"#E5ECF6\",\"width\":0.5},\"pattern\":{\"fillmode\":\"overlay\",\"size\":10,\"solidity\":0.2}},\"type\":\"bar\"}],\"scattergeo\":[{\"type\":\"scattergeo\",\"marker\":{\"colorbar\":{\"outlinewidth\":0,\"ticks\":\"\"}}}],\"scatterpolar\":[{\"type\":\"scatterpolar\",\"marker\":{\"colorbar\":{\"outlinewidth\":0,\"ticks\":\"\"}}}],\"histogram\":[{\"marker\":{\"pattern\":{\"fillmode\":\"overlay\",\"size\":10,\"solidity\":0.2}},\"type\":\"histogram\"}],\"scattergl\":[{\"type\":\"scattergl\",\"marker\":{\"colorbar\":{\"outlinewidth\":0,\"ticks\":\"\"}}}],\"scatter3d\":[{\"type\":\"scatter3d\",\"line\":{\"colorbar\":{\"outlinewidth\":0,\"ticks\":\"\"}},\"marker\":{\"colorbar\":{\"outlinewidth\":0,\"ticks\":\"\"}}}],\"scattermapbox\":[{\"type\":\"scattermapbox\",\"marker\":{\"colorbar\":{\"outlinewidth\":0,\"ticks\":\"\"}}}],\"scatterternary\":[{\"type\":\"scatterternary\",\"marker\":{\"colorbar\":{\"outlinewidth\":0,\"ticks\":\"\"}}}],\"scattercarpet\":[{\"type\":\"scattercarpet\",\"marker\":{\"colorbar\":{\"outlinewidth\":0,\"ticks\":\"\"}}}],\"carpet\":[{\"aaxis\":{\"endlinecolor\":\"#2a3f5f\",\"gridcolor\":\"white\",\"linecolor\":\"white\",\"minorgridcolor\":\"white\",\"startlinecolor\":\"#2a3f5f\"},\"baxis\":{\"endlinecolor\":\"#2a3f5f\",\"gridcolor\":\"white\",\"linecolor\":\"white\",\"minorgridcolor\":\"white\",\"startlinecolor\":\"#2a3f5f\"},\"type\":\"carpet\"}],\"table\":[{\"cells\":{\"fill\":{\"color\":\"#EBF0F8\"},\"line\":{\"color\":\"white\"}},\"header\":{\"fill\":{\"color\":\"#C8D4E3\"},\"line\":{\"color\":\"white\"}},\"type\":\"table\"}],\"barpolar\":[{\"marker\":{\"line\":{\"color\":\"#E5ECF6\",\"width\":0.5},\"pattern\":{\"fillmode\":\"overlay\",\"size\":10,\"solidity\":0.2}},\"type\":\"barpolar\"}],\"pie\":[{\"automargin\":true,\"type\":\"pie\"}]},\"layout\":{\"autotypenumbers\":\"strict\",\"colorway\":[\"#636efa\",\"#EF553B\",\"#00cc96\",\"#ab63fa\",\"#FFA15A\",\"#19d3f3\",\"#FF6692\",\"#B6E880\",\"#FF97FF\",\"#FECB52\"],\"font\":{\"color\":\"#2a3f5f\"},\"hovermode\":\"closest\",\"hoverlabel\":{\"align\":\"left\"},\"paper_bgcolor\":\"white\",\"plot_bgcolor\":\"#E5ECF6\",\"polar\":{\"bgcolor\":\"#E5ECF6\",\"angularaxis\":{\"gridcolor\":\"white\",\"linecolor\":\"white\",\"ticks\":\"\"},\"radialaxis\":{\"gridcolor\":\"white\",\"linecolor\":\"white\",\"ticks\":\"\"}},\"ternary\":{\"bgcolor\":\"#E5ECF6\",\"aaxis\":{\"gridcolor\":\"white\",\"linecolor\":\"white\",\"ticks\":\"\"},\"baxis\":{\"gridcolor\":\"white\",\"linecolor\":\"white\",\"ticks\":\"\"},\"caxis\":{\"gridcolor\":\"white\",\"linecolor\":\"white\",\"ticks\":\"\"}},\"coloraxis\":{\"colorbar\":{\"outlinewidth\":0,\"ticks\":\"\"}},\"colorscale\":{\"sequential\":[[0.0,\"#0d0887\"],[0.1111111111111111,\"#46039f\"],[0.2222222222222222,\"#7201a8\"],[0.3333333333333333,\"#9c179e\"],[0.4444444444444444,\"#bd3786\"],[0.5555555555555556,\"#d8576b\"],[0.6666666666666666,\"#ed7953\"],[0.7777777777777778,\"#fb9f3a\"],[0.8888888888888888,\"#fdca26\"],[1.0,\"#f0f921\"]],\"sequentialminus\":[[0.0,\"#0d0887\"],[0.1111111111111111,\"#46039f\"],[0.2222222222222222,\"#7201a8\"],[0.3333333333333333,\"#9c179e\"],[0.4444444444444444,\"#bd3786\"],[0.5555555555555556,\"#d8576b\"],[0.6666666666666666,\"#ed7953\"],[0.7777777777777778,\"#fb9f3a\"],[0.8888888888888888,\"#fdca26\"],[1.0,\"#f0f921\"]],\"diverging\":[[0,\"#8e0152\"],[0.1,\"#c51b7d\"],[0.2,\"#de77ae\"],[0.3,\"#f1b6da\"],[0.4,\"#fde0ef\"],[0.5,\"#f7f7f7\"],[0.6,\"#e6f5d0\"],[0.7,\"#b8e186\"],[0.8,\"#7fbc41\"],[0.9,\"#4d9221\"],[1,\"#276419\"]]},\"xaxis\":{\"gridcolor\":\"white\",\"linecolor\":\"white\",\"ticks\":\"\",\"title\":{\"standoff\":15},\"zerolinecolor\":\"white\",\"automargin\":true,\"zerolinewidth\":2},\"yaxis\":{\"gridcolor\":\"white\",\"linecolor\":\"white\",\"ticks\":\"\",\"title\":{\"standoff\":15},\"zerolinecolor\":\"white\",\"automargin\":true,\"zerolinewidth\":2},\"scene\":{\"xaxis\":{\"backgroundcolor\":\"#E5ECF6\",\"gridcolor\":\"white\",\"linecolor\":\"white\",\"showbackground\":true,\"ticks\":\"\",\"zerolinecolor\":\"white\",\"gridwidth\":2},\"yaxis\":{\"backgroundcolor\":\"#E5ECF6\",\"gridcolor\":\"white\",\"linecolor\":\"white\",\"showbackground\":true,\"ticks\":\"\",\"zerolinecolor\":\"white\",\"gridwidth\":2},\"zaxis\":{\"backgroundcolor\":\"#E5ECF6\",\"gridcolor\":\"white\",\"linecolor\":\"white\",\"showbackground\":true,\"ticks\":\"\",\"zerolinecolor\":\"white\",\"gridwidth\":2}},\"shapedefaults\":{\"line\":{\"color\":\"#2a3f5f\"}},\"annotationdefaults\":{\"arrowcolor\":\"#2a3f5f\",\"arrowhead\":0,\"arrowwidth\":1},\"geo\":{\"bgcolor\":\"white\",\"landcolor\":\"#E5ECF6\",\"subunitcolor\":\"white\",\"showland\":true,\"showlakes\":true,\"lakecolor\":\"white\"},\"title\":{\"x\":0.05},\"mapbox\":{\"style\":\"light\"}}}},                        {\"responsive\": true}                    ).then(function(){\n",
              "                            \n",
              "var gd = document.getElementById('67bfe2f4-c979-41d4-9f9b-f03abbf3f36f');\n",
              "var x = new MutationObserver(function (mutations, observer) {{\n",
              "        var display = window.getComputedStyle(gd).display;\n",
              "        if (!display || display === 'none') {{\n",
              "            console.log([gd, 'removed!']);\n",
              "            Plotly.purge(gd);\n",
              "            observer.disconnect();\n",
              "        }}\n",
              "}});\n",
              "\n",
              "// Listen for the removal of the full notebook cells\n",
              "var notebookContainer = gd.closest('#notebook-container');\n",
              "if (notebookContainer) {{\n",
              "    x.observe(notebookContainer, {childList: true});\n",
              "}}\n",
              "\n",
              "// Listen for the clearing of the current output cell\n",
              "var outputEl = gd.closest('.output');\n",
              "if (outputEl) {{\n",
              "    x.observe(outputEl, {childList: true});\n",
              "}}\n",
              "\n",
              "                        })                };                            </script>        </div>\n",
              "</body>\n",
              "</html>"
            ]
          },
          "metadata": {}
        }
      ],
      "source": [
        "trace_not_booked = go.Bar(y = not_booked['checkIn_date_month'].value_counts().sort_index()/len(not_booked) , name='Not Booked') #TODO\n",
        "trace_is_booked = go.Bar(y = is_booked['checkIn_date_month'].value_counts().sort_index()/len(is_booked) , name='Booked') #TODO\n",
        "\n",
        "# در ادامه‌ی این قسمت از کد تغییری ایجاد نکنید زیرا نمودار شما توسط سیستم داوری بررسی می‌شود و تغییر در این قسمت ممکن است باعث عدم داوری صحیح شود\n",
        "\n",
        "data = [trace_is_booked, trace_not_booked]\n",
        "\n",
        "ticktext = ['Jan', 'Feb', 'Mar', 'Apr', 'May', 'Jun', 'Jul', 'Aug', 'Sep', 'Oct', 'Nov', 'Dec']\n",
        "\n",
        "layout = go.Layout(\n",
        "    xaxis=dict(title='Month', tickangle=45, automargin=True,\n",
        "             ticktext = ticktext ,tickvals = np.arange(0,12)),\n",
        "    yaxis=dict(title='Frequency')\n",
        ")\n",
        "\n",
        "fig = go.Figure(data=data, layout=layout)\n",
        "fig.show()\n",
        "fig.write_json('./checkIn_date_month.json')"
      ]
    },
    {
      "cell_type": "markdown",
      "id": "50a26b1b-448f-4a35-a324-5433de5b1ff4",
      "metadata": {
        "id": "50a26b1b-448f-4a35-a324-5433de5b1ff4"
      },
      "source": [
        "\n",
        "<p dir=rtl style=\"direction: rtl; text-align: justify; line-height:200%; font-family:vazir; font-size:medium\">\n",
        "<font face=\"vazir\">\n",
        "در صورت علاقه می‌توانید ماه‌های سال را به فصل نیز تبدیل کنید (مانند پیشنهادی که برای ساعت جست‌وجو داده شد).\n",
        "</p>\n"
      ]
    },
    {
      "cell_type": "code",
      "execution_count": 39,
      "id": "0849a7af-96f4-4dee-9146-1da28ef40a1a",
      "metadata": {
        "id": "0849a7af-96f4-4dee-9146-1da28ef40a1a"
      },
      "outputs": [],
      "source": [
        "# TODO (Optional): Make season column for checkIn_date_month or search_date_month\n",
        "seasons_dict = {1: 'Winter', 2: 'Winter', 3: 'Spring', 4: 'Spring', 5: 'Spring', 6: 'Summer', 7: 'Summer', 8: 'Summer', 9: 'Fall', 10: 'Fall', 11: 'Fall', 12: 'Winter'}\n",
        "\n",
        "train['checkIn_of_year'] = train['checkIn_date_month'].map(seasons_dict)\n",
        "test['checkIn_of_year'] = test['checkIn_date_month'].map(seasons_dict)\n"
      ]
    },
    {
      "cell_type": "markdown",
      "id": "6a161fe9-a00a-40de-ad19-36cb14899c5f",
      "metadata": {
        "id": "6a161fe9-a00a-40de-ad19-36cb14899c5f"
      },
      "source": [
        "<h3 align=right style=\"line-height:200%;font-family:vazir;color:#0099cc\">\n",
        "<font face=\"vazir\" color=\"#0099cc\">\n",
        "مصورسازی ۴\n",
        "</font>\n",
        "</h3>\n",
        "\n",
        "<p dir=rtl style=\"direction: rtl; text-align: justify; line-height:200%; font-family:vazir; font-size:medium\">\n",
        "<font face=\"vazir\">\n",
        "نمودار خطی برای فاصله‌ی زمانی بین جست‌وجو و ورود را نیز رسم کنید.\n",
        "</font>\n",
        "</p>\n",
        "\n",
        "<p dir=rtl style=\"direction: rtl; text-align: justify; line-height:200%; font-family:vazir; font-size:medium\">\n",
        "<font face=\"vazir\">\n",
        "خروجی نمودار شما باید به صورت زیر باشد.\n",
        "</font>\n",
        "</p>\n",
        "<center>\n",
        "<img src = 'https://quera.org/qbox/view/mEwuo0YTeE/days_between.png'>\n",
        "</center>"
      ]
    },
    {
      "cell_type": "code",
      "execution_count": 40,
      "id": "a1cce9df-abe3-45ab-afa4-5ca3fb68a0c7",
      "metadata": {
        "colab": {
          "base_uri": "https://localhost:8080/",
          "height": 542
        },
        "id": "a1cce9df-abe3-45ab-afa4-5ca3fb68a0c7",
        "outputId": "b6f92042-1ccb-4bdd-b681-330b9125f4d5"
      },
      "outputs": [
        {
          "output_type": "display_data",
          "data": {
            "text/html": [
              "<html>\n",
              "<head><meta charset=\"utf-8\" /></head>\n",
              "<body>\n",
              "    <div>            <script src=\"https://cdnjs.cloudflare.com/ajax/libs/mathjax/2.7.5/MathJax.js?config=TeX-AMS-MML_SVG\"></script><script type=\"text/javascript\">if (window.MathJax && window.MathJax.Hub && window.MathJax.Hub.Config) {window.MathJax.Hub.Config({SVG: {font: \"STIX-Web\"}});}</script>                <script type=\"text/javascript\">window.PlotlyConfig = {MathJaxConfig: 'local'};</script>\n",
              "        <script charset=\"utf-8\" src=\"https://cdn.plot.ly/plotly-2.24.1.min.js\"></script>                <div id=\"7aae2aba-ec22-43e8-9f76-7393105519bf\" class=\"plotly-graph-div\" style=\"height:525px; width:100%;\"></div>            <script type=\"text/javascript\">                                    window.PLOTLYENV=window.PLOTLYENV || {};                                    if (document.getElementById(\"7aae2aba-ec22-43e8-9f76-7393105519bf\")) {                    Plotly.newPlot(                        \"7aae2aba-ec22-43e8-9f76-7393105519bf\",                        [{\"name\":\"Booked\",\"y\":[0.00020699022613304485,0.06565971713350265,0.07598052176645761,0.048325418853032404,0.040802759466781094,0.036138680429754017,0.03336017659136956,0.03054843344659879,0.02727587264510846,0.02297591510076798,0.020789675267085382,0.019422331072556875,0.018221183409960005,0.017500494812401887,0.016905209052574005,0.016163368169133677,0.014702349565698245,0.013785246884948185,0.013389396963438273,0.012871165959324153,0.012482870425629318,0.01244963111924299,0.01154159370387102,0.010668306472448392,0.0106184475128689,0.010039781406234183,0.00978444309808466,0.0095759419943886,0.009669616403295526,0.008755535477671496,0.008483577516328809,0.0083914139849849,0.008213130432549138,0.008013694594231168,0.007737204000199436,0.007289984241547018,0.007108678933985227,0.006552675990795734,0.006341153131973644,0.006398566479368211,0.005987607782228152,0.005892422495758211,0.005715649820885465,0.0055328336357606585,0.005345484817946808,0.005084102999545226,0.005177777408452151,0.004933015243243733,0.004958700161814987,0.004688253078035315,0.0046142200774475835,0.004467664953835136,0.004148869788038987,0.004327153340474748,0.004058217134258091,0.00407634766501427,0.0039025967452675538,0.0035989103551015535,0.003715247927453703,0.0035566057833371356,0.0035354534974549267,0.0034357355782959416,0.0033964527616575538,0.003340550291826001,0.003283136944431434,0.0031275165554408967,0.003023266003592867,0.003065570575357285,0.0029129719414927773,0.0029280807171229266,0.0028495150838461505,0.0027724603281323893,0.0026183508167048667,0.002535252550739046,0.0024793500809074933,0.002427980243764986,0.0025186328975458816,0.00244762165208418,0.0023509254880512247,0.002222500895194956,0.0021862398336825978,0.0021409135067921503,0.0020291085671290455,0.002100119812590747,0.0021182503433469263,0.0020668805062044188,0.0019958692607427173,0.0019868039953646276,0.0019218362601549858,0.0020502608530112544,0.0019263688928440306,0.0017722593814165082,0.001755639728223344,0.001737509197467165,0.0017208895442740006,0.0017631941160384185,0.001592464951417732,0.001630236890493105,0.0015682909104094932,0.0015954867065437618,0.0014912361546957319,0.0013537462964613738,0.0014308010521751349,0.0014595077258724185,0.0014353336848641797,0.0013371266432682094,0.0014187140316710154,0.001287267683688717,0.0012721589080585676,0.0012102129279749558,0.0012540283773023885,0.0012177673157900302,0.0011104950088159705,0.0012253217036051049,0.0010893427229337616,0.0011316472946981794,0.0010289076204131645,0.001121071151757075,0.0010289076204131645,0.0010107770896569854,0.0010379728857912542,0.0009986900691528662,0.0009684725178925675,0.0008868851294897615,0.0009745160281446273,0.000895950394867851,0.0009548746198254333,0.0009065265378089556,0.0008083194962129854,0.0007388191283142988,0.0008173847615910749,0.0008340044147842391,0.0007947215981458511,0.0008340044147842391,0.0007781019449526869,0.0007252212302471645,0.0007584605366334928,0.0007418408834403286,0.0007433517610033436,0.000735797373188269,0.0007781019449526869,0.00071464508730606,0.0007297538629362092,0.0006678078828525973,0.0006647861277265674,0.0006965145565498809,0.0006028401476429555,0.0006073727803320002,0.0005967966373908957,0.0006088836578950151,0.0006753622706676719,0.0005816878617607465,0.0005937748822648659,0.0005650682085675823,0.0005046331060469853,0.0005937748822648659,0.0005454268002483883,0.0005771552290717017,0.0005227636368031644,0.0005454268002483883,0.0004955678406688958,0.0005257853919291943,0.000530318024618239,0.0005393832899963285,0.0004623285342825673,0.0004880134528538211,0.00047592643234970166,0.0004426871259633733,0.0005121874938620599,0.00046837204453462707,0.0004910352079798509,0.0004185130849551345,0.00039736079907292553,0.0004351327381482987,0.00047290467722367185,0.0004094478195770449,0.00042908922789623895,0.00037016500293865685,0.00039131728882086585,0.0003716758805016718,0.0003550562273085076,0.00038678465613182106,0.00039131728882086585,0.0003731867580646867,0.00037620851319071654,0.0003535453497454927,0.00038678465613182106,0.0003429692068043882,0.0003520344721824777,0.00030519726772901506,0.00034145832924137326,0.00034145832924137326,0.0003278604311742389,0.0002976428799139404,0.0003021755126029852,0.00030670814529202997,0.0003218169209221792,0.00030972990041805984,0.00028253410428379116,0.0003021755126029852,0.0002613818184015822,0.00028102322672077625,0.00028404498184680607,0.00028253410428379116,0.0002160554915111344,0.00028404498184680607,0.00022512075688922397,0.00024325128764540307,0.0002326751447042986,0.00028102322672077625,0.00022209900176319413,0.0002553383081495225,0.00022512075688922397,0.00021907724663716425,0.00024174041008238816,0.00021303373638510456,0.00023720777739334338,0.000244762165208418,0.00021907724663716425,0.00018734881781385082,0.00022965338957826875,0.0001918814505028956,0.0001979249607549553,0.0001752617973097314,0.0001858379402508359,0.0001918814505028956,0.00020094671588098516,0.00016015302167958216,0.00018281618512480603,0.00017072916462068663,0.00016770740949465678,0.0001918814505028956,0.00017375091974671647,0.0001797944299987762,0.00014655512361244781,0.0001752617973097314,0.00015410951142752244,0.0001571312665535523,0.00012691371529325378,0.00014806600117546275,0.00013144634798229856,0.00013295722554531347,0.00014202249092340303,0.0001390007357973732,0.00013748985823435825,0.00014957687873847766,0.0001344681031083284,0.00010727230697405974,0.00011180493966310452,0.00011331581722611945,0.00011482669478913438,0.00011784844991516422,0.00011935932747817916,0.000122381082604209,0.00010425055184802989,0.00010576142941104481,9.518528646994033e-05,0.00010727230697405974,0.00014202249092340303,0.0001102940621000896,9.820704159597019e-05,8.76308986548657e-05,9.669616403295527e-05,0.00010878318453707467,0.0001102940621000896,0.00010122879672200003,9.367440890692541e-05,9.820704159597019e-05,8.612002109185078e-05,0.00010122879672200003,9.518528646994033e-05,7.252212302471644e-05,6.95003678986866e-05,0.00010727230697405974,9.065265378089556e-05,7.403300058773138e-05,7.252212302471644e-05,0.00010425055184802989,6.496773520964181e-05,8.76308986548657e-05,9.065265378089556e-05,8.612002109185078e-05,7.55438781507463e-05,6.043510252059704e-05,4.532632689044778e-05,6.496773520964181e-05,9.518528646994033e-05,7.101124546170152e-05,7.252212302471644e-05,6.798949033567167e-05,6.496773520964181e-05,6.496773520964181e-05,5.4391592268537336e-05,5.1369837142507485e-05,5.741334739456719e-05,5.1369837142507485e-05,6.345685764662689e-05,7.101124546170152e-05,7.856563327677616e-05,6.496773520964181e-05,5.4391592268537336e-05,6.194598008361197e-05,4.834808201647763e-05,6.95003678986866e-05,4.0793694201403e-05,5.4391592268537336e-05,5.892422495758211e-05,4.0793694201403e-05,4.834808201647763e-05,4.532632689044778e-05,3.928281663838808e-05,5.4391592268537336e-05,5.1369837142507485e-05,4.834808201647763e-05,5.1369837142507485e-05,4.381544932743285e-05,4.834808201647763e-05,6.043510252059704e-05,5.288071470552241e-05,4.0793694201403e-05,3.777193907537315e-05,2.8706673697283594e-05,3.626106151235822e-05,5.892422495758211e-05,5.741334739456719e-05,4.381544932743285e-05,3.626106151235822e-05,2.8706673697283594e-05,1.6619653193164184e-05,2.5684918571253742e-05,3.1728428823313446e-05,2.5684918571253742e-05,2.4174041008238817e-05,2.1152285882208965e-05,1.2087020504119408e-05,1.510877563014926e-05,1.510877563014926e-05,1.0576142941104482e-05,1.510877563014926e-05,2.1152285882208965e-05,1.6619653193164184e-05,1.0576142941104482e-05,1.2087020504119408e-05,9.065265378089555e-06,1.813053075617911e-05,1.813053075617911e-05,1.0576142941104482e-05,1.2087020504119408e-05,1.510877563014926e-06,1.6619653193164184e-05,1.3597898067134334e-05,1.0576142941104482e-05,1.0576142941104482e-05,9.065265378089555e-06,1.510877563014926e-05,1.2087020504119408e-05,4.5326326890447775e-06,6.043510252059704e-06,6.043510252059704e-06,6.043510252059704e-06,1.510877563014926e-05,6.043510252059704e-06,1.510877563014926e-05,1.2087020504119408e-05,9.065265378089555e-06,6.043510252059704e-06,1.6619653193164184e-05,4.5326326890447775e-06,3.021755126029852e-06,6.043510252059704e-06,9.065265378089555e-06,1.510877563014926e-06,1.510877563014926e-06,7.55438781507463e-06,7.55438781507463e-06,3.021755126029852e-06,9.065265378089555e-06,1.510877563014926e-06,1.510877563014926e-06,3.021755126029852e-06,3.021755126029852e-06,4.5326326890447775e-06,4.5326326890447775e-06,1.510877563014926e-06,3.021755126029852e-06,1.510877563014926e-06,1.510877563014926e-06,1.510877563014926e-06,3.021755126029852e-06,1.510877563014926e-06,1.510877563014926e-06,3.021755126029852e-06,1.510877563014926e-06,1.510877563014926e-06,3.021755126029852e-06,1.510877563014926e-06,1.510877563014926e-06,1.510877563014926e-06,3.021755126029852e-06,4.5326326890447775e-06,3.021755126029852e-06,1.510877563014926e-06,4.5326326890447775e-06,1.510877563014926e-06,1.510877563014926e-06,3.021755126029852e-06,1.510877563014926e-06,1.510877563014926e-06,1.510877563014926e-06,1.510877563014926e-06,3.021755126029852e-06,4.5326326890447775e-06,3.021755126029852e-06,1.510877563014926e-06,3.021755126029852e-06,1.510877563014926e-06,1.510877563014926e-06,1.510877563014926e-06,1.510877563014926e-06,1.510877563014926e-06,1.510877563014926e-06,3.021755126029852e-06,4.5326326890447775e-06,3.021755126029852e-06,1.510877563014926e-06,1.510877563014926e-06,1.510877563014926e-06,1.510877563014926e-06,3.021755126029852e-06,1.510877563014926e-06,1.510877563014926e-06,1.510877563014926e-06,1.510877563014926e-06,3.021755126029852e-06,1.510877563014926e-06,1.510877563014926e-06,1.510877563014926e-06,1.510877563014926e-06,1.510877563014926e-06,1.510877563014926e-06,1.510877563014926e-06],\"type\":\"scatter\"},{\"name\":\"Not Booked\",\"opacity\":0.5,\"y\":[1.4395032216801853e-07,1.4395032216801853e-07,1.4395032216801853e-07,1.4395032216801853e-07,2.8790064433603707e-07,1.4395032216801853e-07,1.4395032216801853e-07,1.4395032216801853e-07,1.4395032216801853e-07,1.4395032216801853e-07,2.8790064433603707e-07,1.4395032216801853e-07,2.8790064433603707e-07,4.318509665040556e-07,2.8790064433603707e-07,1.4395032216801853e-07,1.4395032216801853e-07,2.8790064433603707e-07,1.4395032216801853e-07,5.758012886720741e-07,1.4395032216801853e-07,1.4395032216801853e-07,4.318509665040556e-07,1.4395032216801853e-07,1.4395032216801853e-07,1.4395032216801853e-07,2.8790064433603707e-07,2.8790064433603707e-07,2.8790064433603707e-07,1.4395032216801853e-07,1.4395032216801853e-07,1.4395032216801853e-07,2.8790064433603707e-07,1.4395032216801853e-07,4.318509665040556e-07,1.4395032216801853e-07,1.4395032216801853e-07,1.4395032216801853e-07,2.8790064433603707e-07,1.4395032216801853e-07,2.8790064433603707e-07,1.4395032216801853e-07,2.8790064433603707e-07,2.8790064433603707e-07,5.758012886720741e-07,2.8790064433603707e-07,1.4395032216801853e-07,1.4395032216801853e-07,4.318509665040556e-07,1.4395032216801853e-07,1.4395032216801853e-07,2.8790064433603707e-07,1.4395032216801853e-07,1.4395032216801853e-07,2.8790064433603707e-07,1.4395032216801853e-07,1.4395032216801853e-07,1.4395032216801853e-07,4.318509665040556e-07,1.4395032216801853e-07,2.8790064433603707e-07,4.318509665040556e-07,1.4395032216801853e-07,4.318509665040556e-07,1.4395032216801853e-07,1.4395032216801853e-07,1.4395032216801853e-07,1.4395032216801853e-07,1.4395032216801853e-07,1.4395032216801853e-07,1.4395032216801853e-07,1.4395032216801853e-07,1.4395032216801853e-07,1.4395032216801853e-07,2.8790064433603707e-07,2.8790064433603707e-07,2.8790064433603707e-07,4.318509665040556e-07,1.4395032216801853e-07,1.4395032216801853e-07,1.4395032216801853e-07,5.758012886720741e-07,5.758012886720741e-07,1.4395032216801853e-07,2.8790064433603707e-07,4.318509665040556e-07,4.318509665040556e-07,2.8790064433603707e-07,2.8790064433603707e-07,1.4395032216801853e-07,1.4395032216801853e-07,1.4395032216801853e-07,5.758012886720741e-07,2.8790064433603707e-07,1.4395032216801853e-07,2.8790064433603707e-07,1.4395032216801853e-07,1.4395032216801853e-07,8.637019330081112e-07,2.8790064433603707e-07,1.4395032216801853e-07,4.318509665040556e-07,5.758012886720741e-07,1.4395032216801853e-07,1.4395032216801853e-07,1.4395032216801853e-07,2.8790064433603707e-07,2.8790064433603707e-07,4.318509665040556e-07,2.8790064433603707e-07,2.8790064433603707e-07,2.8790064433603707e-07,2.8790064433603707e-07,4.318509665040556e-07,1.4395032216801853e-07,1.4395032216801853e-07,2.8790064433603707e-07,1.4395032216801853e-07,1.4395032216801853e-07,4.318509665040556e-07,1.4395032216801853e-07,4.318509665040556e-07,1.4395032216801853e-07,1.4395032216801853e-07,2.8790064433603707e-07,1.4395032216801853e-07,2.8790064433603707e-07,1.4395032216801853e-07,1.4395032216801853e-07,4.318509665040556e-07,2.8790064433603707e-07,2.8790064433603707e-07,1.4395032216801853e-07,2.8790064433603707e-07,1.4395032216801853e-07,4.318509665040556e-07,1.4395032216801853e-07,4.318509665040556e-07,1.4395032216801853e-07,2.8790064433603707e-07,1.4395032216801853e-07,1.4395032216801853e-07,2.8790064433603707e-07,1.4395032216801853e-07,4.318509665040556e-07,2.8790064433603707e-07,2.8790064433603707e-07,2.8790064433603707e-07,4.318509665040556e-07,2.8790064433603707e-07,1.4395032216801853e-07,4.318509665040556e-07,8.637019330081112e-07,1.4395032216801853e-07,7.197516108400927e-07,8.637019330081112e-07,4.318509665040556e-07,1.4395032216801853e-07,5.758012886720741e-07,2.8790064433603707e-07,4.318509665040556e-07,2.8790064433603707e-07,4.318509665040556e-07,1.4395032216801853e-07,1.4395032216801853e-07,2.8790064433603707e-07,7.197516108400927e-07,1.4395032216801853e-07,1.4395032216801853e-07,2.8790064433603707e-07,7.197516108400927e-07,4.318509665040556e-07,5.758012886720741e-07,7.197516108400927e-07,1.4395032216801853e-07,4.318509665040556e-07,8.637019330081112e-07,2.8790064433603707e-07,4.318509665040556e-07,7.197516108400927e-07,1.4395032216801853e-07,7.197516108400927e-07,4.318509665040556e-07,4.318509665040556e-07,8.637019330081112e-07,5.758012886720741e-07,5.758012886720741e-07,2.8790064433603707e-07,8.637019330081112e-07,1.2955528995121668e-06,8.637019330081112e-07,1.0076522551761297e-06,1.1516025773441483e-06,1.871354188184241e-06,1.871354188184241e-06,1.5834535438482039e-06,1.871354188184241e-06,3.1669070876964077e-06,4.89431095371263e-06,0.0001328661473610811,0.028224771518449897,0.04199808229380808,0.030732674031261117,0.026606194095992696,0.02448379054594743,0.022867660278967087,0.021244620396522678,0.020250211570986006,0.018106647323582043,0.016912147550231824,0.01625357482631314,0.015767166687707404,0.015125580101804547,0.01490591191017615,0.014955574771324117,0.013516503400610436,0.013152740936491852,0.013025057000728821,0.012696562365541402,0.012480061081000702,0.01217287109349415,0.011901092885240931,0.011455566638130915,0.011113252772015367,0.011076257539218185,0.010759422880126377,0.010685864265498519,0.010746323400809088,0.010433519350737983,0.010058240860845958,0.010097539298797828,0.009870961491705367,0.00948272747281822,0.009266801989566193,0.008917146657020076,0.008415191883620195,0.008232662875111148,0.008053300773689797,0.007897546525104,0.007573370399581622,0.007470014068264985,0.00742466971678206,0.0071066834551129065,0.006874923436422397,0.00674464839486034,0.006617828161030316,0.006501948151685061,0.0063032967070931955,0.0062205252718465845,0.0060857877702973195,0.005836177911657975,0.005745201308047787,0.0056748096005076265,0.005609312203921178,0.0055677105608146205,0.005390219813581454,0.005169543969697881,0.005135427743344061,0.00506647553902558,0.005017676379810622,0.004874157908609108,0.004806933108156643,0.0047038646774843415,0.0045076603883693325,0.004373066837142235,0.004346148126896815,0.004278491475477847,0.004173119839650857,0.004107622443064409,0.004070915110911564,0.003938048963550483,0.0038037433129677217,0.0037788399072326544,0.003798417151047505,0.0036782186320372095,0.0036485648656705977,0.003638056492152332,0.003466179807483718,0.003340799076875374,0.003286817706062367,0.0032519817280977064,0.003241617304901609,0.003162732528353535,0.0030962274795119107,0.0030911892182360298,0.0030159031997421563,0.0029231991922659523,0.002859141298901184,0.0028382685021868213,0.002819842860949315,0.0028309270357562526,0.0026940302793744667,0.0026101072415505118,0.002586499388714957,0.0025710967042429787,0.0025205701411620046,0.002453633241353876,0.0024907724244732244,0.002392742255076804,0.00234509469843919,0.0023404882881298134,0.002259588207071387,0.0022502314361304656,0.0022823323579739337,0.002204599184003204,0.002107576666861959,0.0020570501037809846,0.002042942972208519,0.002019191169050796,0.0019767258240112303,0.001982915687864455,0.0019876660484959997,0.0019308056712396325,0.0017815291871513973,0.0018231308302579547,0.0017753393232981724,0.0017423746995216963,0.0017452537059650566,0.001747556911119745,0.0017095540260673881,0.0016493827914011562,0.0015990001786423498,0.0015473220129840312,0.0015743846735516186,0.0015087433266430022,0.001562292846489505,0.0015317753781898852,0.0014914692879828399,0.0014199259778653348,0.0013917117147204032,0.0014356165629816487,0.001376021129604089,0.0014337452087934644,0.0013604744948099432,0.001282741320839213,0.0013017427633653916,0.0012559665609159618,0.0012566863125268017,0.0012591334680036581,0.0012756877550529802,0.0012381167209671274,0.0011664294605274541,0.0011540497328210045,0.0011231004135548806,0.001119213754856344,0.0010771802607832826,0.0010905676407449083,0.001095461951698621,0.001033563313166373,0.0010348588660658853,0.0009961362294026881,0.00102435049254762,0.0009994470868125527,0.0009833246507297345,0.0009499281759867543,0.0009574135927394912,0.0009447459643887056,0.0009447459643887056,0.0009034322219264843,0.0009336617895817681,0.0009220018134861586,0.0009186909560762942,0.0008421093846829084,0.0008573681188327184,0.0008206607866798737,0.0008408138317833962,0.0008418214840385723,0.0008094326615507682,0.0008028109467310393,0.0008015153938315272,0.0007413441591652954,0.0007599137507249698,0.0007666794158668667,0.0007758922364856199,0.0007630806578126662,0.0007162968031080601,0.0007109706411878435,0.0006978711618705538,0.0006955679567158655,0.0007114024921543475,0.0006895220431848087,0.0007026215225020984,0.0006866430367414483,0.0006715282529138064,0.0006459050955678991,0.0006176908324229675,0.0006182666337116396,0.0006198500872554878,0.0006332374672171136,0.0005775286925380904,0.0006045913531056779,0.000590196320888876,0.0005687477228858412,0.0005756573383499061,0.0005786802951154345,0.0005758012886720741,0.0005382302545862212,0.0005313206391221564,0.0005265702784906117,0.0005010910714668725,0.0005139026501398262,0.000496772561801832,0.0005215320172147312,0.0004989318166343522,0.0004927419527811274,0.0004800743244303418,0.0004754679141209652,0.0004532995645070903,0.0004721570567111008,0.0004366013271356002,0.00045747412384996287,0.00044178353873364885,0.0004311312148932155,0.0004557467199839467,0.0004488371045198818,0.0004406319361563047,0.00041299347430004516,0.0004063717594803163,0.00038348365825560134,0.0003916888266191784,0.00036261086154123866,0.0003608834576752225,0.0003892416711423221,0.0003830518072890973,0.0003751345395698563,0.0003446170712702364,0.00033238129388595477,0.0003568528486545179,0.00033281314485245886,0.00033756350548400343,0.00033194944291945074,0.0003223047713341935,0.00032043341714600926,0.00032216082101202545,0.0003050307326740313,0.0003200015661795052,0.0003207213177903453,0.00030718998750655155,0.00028343818434882847,0.00027768017146210773,0.00028790064433603706,0.0002867490417586929,0.00026386094053397794,0.00028444583660400464,0.00028790064433603706,0.0002629972386009699,0.0002658762450443302,0.00024500344832996754,0.00025220096443836847,0.00027839992307294786,0.0002570952753920811,0.0002569513250699131,0.0002447155476856315,0.00022744150902546928,0.00022326694968259674,0.0002306084161131657,0.00023435112448953415,0.000240828888987095,0.0002307523664353337,0.0002369422302885585,0.00021966819162839627,0.00021247067551999536,0.00022398670129343684,0.00020426550715641828,0.00022182744646091657,0.00020728846392194667,0.0001996590968470417,0.00021621338389636382,0.00019663614008151332,0.00018152135625387137,0.00020153045103522594,0.0001802258033543592,0.00021391017874167553,0.00020714451359977865,0.00018440036269723174,0.00017461174078980648,0.00019145392848346463,0.00017446779046763846,0.0001779225981996709,0.00018684751817408805,0.00015820140406265235,0.0001772028465888308,0.00015287524214243568,0.00017000533048042987,0.0001701492808025979,0.00016323966533853302,0.0001662626221040614,0.0001592090563178285,0.0001499962356990753,0.00015863325502915641,0.0001453898253896987,0.00015014018602124333,0.0001544586956862839,0.00016021670857300463,0.00016050460921734067,0.0001772028465888308,0.00015834535438482037,0.00015489054665278793,0.00014956438473257125,0.00014150316669116222,0.00014323057055717843,0.00013934391185864192,0.000147549080222219,0.00014006366346948202,0.0001383362596034658,0.00013876811056996987,0.00014222291830200232,0.00016122436082818074,0.00015575424858579604,0.00013848020992563383,0.0001389120608921379,0.00015561029826362802,0.00015057203698774739,0.00015014018602124333,0.0001653989201710533,0.000186559617529752,0.00014942043441040323,0.00016640657242622943,0.00016338361566070104,0.0001671263240370695,0.00016381546662720507,0.0001715887840242781,0.00015719375180747624,0.00011458445644574275,8.262748492444264e-05,7.399046559436153e-05,6.175468821007995e-05,5.326161920216685e-05,5.311766887999884e-05,4.879915921495828e-05,4.102584181788528e-05,3.929843795186906e-05,3.166907087696408e-05,3.210092184346813e-05,3.238882248780417e-05,2.7206610889755502e-05,3.238882248780417e-05,3.238882248780417e-05,2.9653766366611815e-05,2.346390251338702e-05,2.461550509073117e-05,2.5767107668075318e-05,2.461550509073117e-05,3.080536894395597e-05,2.735056121192352e-05,2.9221915400107763e-05,2.5767107668075318e-05,2.6630809601083426e-05,3.2532772809972184e-05,2.2888101224714945e-05,2.1016747036530705e-05,1.9145392848346464e-05,2.7926362500595595e-05,2.5767107668075318e-05,2.6630809601083426e-05,2.0872796714362685e-05,2.2312299936042873e-05,1.7274038660162224e-05,1.8281690915338352e-05,1.8137740593170336e-05,2.0296995425690613e-05,1.5258734149809964e-05,1.6986138015826188e-05,9.356770940921204e-06,1.0940224484769408e-05,1.4251081894633833e-05,1.1803926417777519e-05,1.0364423196097334e-05,1.1803926417777519e-05,7.629367074904982e-06,1.1803926417777519e-05,1.0076522551761296e-05,1.079627416260139e-05,7.773317397073e-06,5.614062564552722e-06,7.485416752736964e-06,8.78096965224913e-06,6.1898638532247965e-06,7.341466430568945e-06,7.629367074904982e-06,6.9096154640648896e-06,7.91726771924102e-06,8.205168363577056e-06,4.606410309376593e-06,7.773317397073e-06,7.053565786232908e-06,8.205168363577056e-06,7.773317397073e-06,5.758012886720741e-06,4.606410309376593e-06,3.4548077320324448e-06,4.750360631544611e-06,5.038261275880648e-06,5.614062564552722e-06,8.349118685745074e-06,4.174559342872537e-06,6.045913531056778e-06,3.742708376368482e-06,4.174559342872537e-06,4.462459987208574e-06,5.182211598048667e-06,4.318509665040556e-06,4.030609020704519e-06,3.8866586985365e-06,4.606410309376593e-06,4.030609020704519e-06,4.750360631544611e-06,4.750360631544611e-06,5.614062564552722e-06,3.4548077320324448e-06,2.3032051546882965e-06,2.735056121192352e-06,2.3032051546882965e-06,2.447155476856315e-06,3.3108574098644263e-06,3.742708376368482e-06,3.742708376368482e-06,3.742708376368482e-06,2.159254832520278e-06,2.5911057990243336e-06,2.5911057990243336e-06,3.3108574098644263e-06,1.1516025773441483e-06,2.3032051546882965e-06,2.447155476856315e-06,2.3032051546882965e-06,2.5911057990243336e-06,1.7274038660162224e-06,3.1669070876964077e-06,1.7274038660162224e-06,2.0153045103522595e-06,1.2955528995121668e-06,1.4395032216801853e-06,2.159254832520278e-06,2.8790064433603707e-06,2.447155476856315e-06,1.871354188184241e-06,2.5911057990243336e-06,1.7274038660162224e-06,2.3032051546882965e-06,1.5834535438482039e-06,2.735056121192352e-06,1.4395032216801853e-06,1.7274038660162224e-06,1.5834535438482039e-06,5.758012886720741e-07,2.0153045103522595e-06,1.2955528995121668e-06,1.5834535438482039e-06,1.2955528995121668e-06,1.2955528995121668e-06,4.318509665040556e-07,1.0076522551761297e-06,1.2955528995121668e-06,8.637019330081112e-07,2.159254832520278e-06,1.7274038660162224e-06,8.637019330081112e-07,1.2955528995121668e-06,8.637019330081112e-07,4.318509665040556e-07,1.2955528995121668e-06,2.0153045103522595e-06,2.3032051546882965e-06,1.2955528995121668e-06,3.1669070876964077e-06,1.2955528995121668e-06,1.871354188184241e-06,4.318509665040556e-07,4.318509665040556e-07,1.871354188184241e-06,1.4395032216801853e-06,7.197516108400927e-07,1.2955528995121668e-06,1.1516025773441483e-06,7.197516108400927e-07,1.1516025773441483e-06,5.758012886720741e-07,1.0076522551761297e-06,5.758012886720741e-07,1.0076522551761297e-06,5.758012886720741e-07,5.758012886720741e-07,1.0076522551761297e-06,8.637019330081112e-07,2.8790064433603707e-07,1.1516025773441483e-06,7.197516108400927e-07,7.197516108400927e-07,8.637019330081112e-07,1.2955528995121668e-06,1.0076522551761297e-06,5.758012886720741e-07,1.4395032216801853e-06,1.4395032216801853e-06,1.0076522551761297e-06,1.871354188184241e-06,2.0153045103522595e-06,5.758012886720741e-07,1.4395032216801853e-07,1.4395032216801853e-07,1.4395032216801853e-07],\"type\":\"scatter\"}],                        {\"xaxis\":{\"automargin\":true,\"tickangle\":45,\"title\":{\"text\":\"Days between search and checking time\"}},\"yaxis\":{\"title\":{\"text\":\"Frequency\"}},\"template\":{\"data\":{\"histogram2dcontour\":[{\"type\":\"histogram2dcontour\",\"colorbar\":{\"outlinewidth\":0,\"ticks\":\"\"},\"colorscale\":[[0.0,\"#0d0887\"],[0.1111111111111111,\"#46039f\"],[0.2222222222222222,\"#7201a8\"],[0.3333333333333333,\"#9c179e\"],[0.4444444444444444,\"#bd3786\"],[0.5555555555555556,\"#d8576b\"],[0.6666666666666666,\"#ed7953\"],[0.7777777777777778,\"#fb9f3a\"],[0.8888888888888888,\"#fdca26\"],[1.0,\"#f0f921\"]]}],\"choropleth\":[{\"type\":\"choropleth\",\"colorbar\":{\"outlinewidth\":0,\"ticks\":\"\"}}],\"histogram2d\":[{\"type\":\"histogram2d\",\"colorbar\":{\"outlinewidth\":0,\"ticks\":\"\"},\"colorscale\":[[0.0,\"#0d0887\"],[0.1111111111111111,\"#46039f\"],[0.2222222222222222,\"#7201a8\"],[0.3333333333333333,\"#9c179e\"],[0.4444444444444444,\"#bd3786\"],[0.5555555555555556,\"#d8576b\"],[0.6666666666666666,\"#ed7953\"],[0.7777777777777778,\"#fb9f3a\"],[0.8888888888888888,\"#fdca26\"],[1.0,\"#f0f921\"]]}],\"heatmap\":[{\"type\":\"heatmap\",\"colorbar\":{\"outlinewidth\":0,\"ticks\":\"\"},\"colorscale\":[[0.0,\"#0d0887\"],[0.1111111111111111,\"#46039f\"],[0.2222222222222222,\"#7201a8\"],[0.3333333333333333,\"#9c179e\"],[0.4444444444444444,\"#bd3786\"],[0.5555555555555556,\"#d8576b\"],[0.6666666666666666,\"#ed7953\"],[0.7777777777777778,\"#fb9f3a\"],[0.8888888888888888,\"#fdca26\"],[1.0,\"#f0f921\"]]}],\"heatmapgl\":[{\"type\":\"heatmapgl\",\"colorbar\":{\"outlinewidth\":0,\"ticks\":\"\"},\"colorscale\":[[0.0,\"#0d0887\"],[0.1111111111111111,\"#46039f\"],[0.2222222222222222,\"#7201a8\"],[0.3333333333333333,\"#9c179e\"],[0.4444444444444444,\"#bd3786\"],[0.5555555555555556,\"#d8576b\"],[0.6666666666666666,\"#ed7953\"],[0.7777777777777778,\"#fb9f3a\"],[0.8888888888888888,\"#fdca26\"],[1.0,\"#f0f921\"]]}],\"contourcarpet\":[{\"type\":\"contourcarpet\",\"colorbar\":{\"outlinewidth\":0,\"ticks\":\"\"}}],\"contour\":[{\"type\":\"contour\",\"colorbar\":{\"outlinewidth\":0,\"ticks\":\"\"},\"colorscale\":[[0.0,\"#0d0887\"],[0.1111111111111111,\"#46039f\"],[0.2222222222222222,\"#7201a8\"],[0.3333333333333333,\"#9c179e\"],[0.4444444444444444,\"#bd3786\"],[0.5555555555555556,\"#d8576b\"],[0.6666666666666666,\"#ed7953\"],[0.7777777777777778,\"#fb9f3a\"],[0.8888888888888888,\"#fdca26\"],[1.0,\"#f0f921\"]]}],\"surface\":[{\"type\":\"surface\",\"colorbar\":{\"outlinewidth\":0,\"ticks\":\"\"},\"colorscale\":[[0.0,\"#0d0887\"],[0.1111111111111111,\"#46039f\"],[0.2222222222222222,\"#7201a8\"],[0.3333333333333333,\"#9c179e\"],[0.4444444444444444,\"#bd3786\"],[0.5555555555555556,\"#d8576b\"],[0.6666666666666666,\"#ed7953\"],[0.7777777777777778,\"#fb9f3a\"],[0.8888888888888888,\"#fdca26\"],[1.0,\"#f0f921\"]]}],\"mesh3d\":[{\"type\":\"mesh3d\",\"colorbar\":{\"outlinewidth\":0,\"ticks\":\"\"}}],\"scatter\":[{\"fillpattern\":{\"fillmode\":\"overlay\",\"size\":10,\"solidity\":0.2},\"type\":\"scatter\"}],\"parcoords\":[{\"type\":\"parcoords\",\"line\":{\"colorbar\":{\"outlinewidth\":0,\"ticks\":\"\"}}}],\"scatterpolargl\":[{\"type\":\"scatterpolargl\",\"marker\":{\"colorbar\":{\"outlinewidth\":0,\"ticks\":\"\"}}}],\"bar\":[{\"error_x\":{\"color\":\"#2a3f5f\"},\"error_y\":{\"color\":\"#2a3f5f\"},\"marker\":{\"line\":{\"color\":\"#E5ECF6\",\"width\":0.5},\"pattern\":{\"fillmode\":\"overlay\",\"size\":10,\"solidity\":0.2}},\"type\":\"bar\"}],\"scattergeo\":[{\"type\":\"scattergeo\",\"marker\":{\"colorbar\":{\"outlinewidth\":0,\"ticks\":\"\"}}}],\"scatterpolar\":[{\"type\":\"scatterpolar\",\"marker\":{\"colorbar\":{\"outlinewidth\":0,\"ticks\":\"\"}}}],\"histogram\":[{\"marker\":{\"pattern\":{\"fillmode\":\"overlay\",\"size\":10,\"solidity\":0.2}},\"type\":\"histogram\"}],\"scattergl\":[{\"type\":\"scattergl\",\"marker\":{\"colorbar\":{\"outlinewidth\":0,\"ticks\":\"\"}}}],\"scatter3d\":[{\"type\":\"scatter3d\",\"line\":{\"colorbar\":{\"outlinewidth\":0,\"ticks\":\"\"}},\"marker\":{\"colorbar\":{\"outlinewidth\":0,\"ticks\":\"\"}}}],\"scattermapbox\":[{\"type\":\"scattermapbox\",\"marker\":{\"colorbar\":{\"outlinewidth\":0,\"ticks\":\"\"}}}],\"scatterternary\":[{\"type\":\"scatterternary\",\"marker\":{\"colorbar\":{\"outlinewidth\":0,\"ticks\":\"\"}}}],\"scattercarpet\":[{\"type\":\"scattercarpet\",\"marker\":{\"colorbar\":{\"outlinewidth\":0,\"ticks\":\"\"}}}],\"carpet\":[{\"aaxis\":{\"endlinecolor\":\"#2a3f5f\",\"gridcolor\":\"white\",\"linecolor\":\"white\",\"minorgridcolor\":\"white\",\"startlinecolor\":\"#2a3f5f\"},\"baxis\":{\"endlinecolor\":\"#2a3f5f\",\"gridcolor\":\"white\",\"linecolor\":\"white\",\"minorgridcolor\":\"white\",\"startlinecolor\":\"#2a3f5f\"},\"type\":\"carpet\"}],\"table\":[{\"cells\":{\"fill\":{\"color\":\"#EBF0F8\"},\"line\":{\"color\":\"white\"}},\"header\":{\"fill\":{\"color\":\"#C8D4E3\"},\"line\":{\"color\":\"white\"}},\"type\":\"table\"}],\"barpolar\":[{\"marker\":{\"line\":{\"color\":\"#E5ECF6\",\"width\":0.5},\"pattern\":{\"fillmode\":\"overlay\",\"size\":10,\"solidity\":0.2}},\"type\":\"barpolar\"}],\"pie\":[{\"automargin\":true,\"type\":\"pie\"}]},\"layout\":{\"autotypenumbers\":\"strict\",\"colorway\":[\"#636efa\",\"#EF553B\",\"#00cc96\",\"#ab63fa\",\"#FFA15A\",\"#19d3f3\",\"#FF6692\",\"#B6E880\",\"#FF97FF\",\"#FECB52\"],\"font\":{\"color\":\"#2a3f5f\"},\"hovermode\":\"closest\",\"hoverlabel\":{\"align\":\"left\"},\"paper_bgcolor\":\"white\",\"plot_bgcolor\":\"#E5ECF6\",\"polar\":{\"bgcolor\":\"#E5ECF6\",\"angularaxis\":{\"gridcolor\":\"white\",\"linecolor\":\"white\",\"ticks\":\"\"},\"radialaxis\":{\"gridcolor\":\"white\",\"linecolor\":\"white\",\"ticks\":\"\"}},\"ternary\":{\"bgcolor\":\"#E5ECF6\",\"aaxis\":{\"gridcolor\":\"white\",\"linecolor\":\"white\",\"ticks\":\"\"},\"baxis\":{\"gridcolor\":\"white\",\"linecolor\":\"white\",\"ticks\":\"\"},\"caxis\":{\"gridcolor\":\"white\",\"linecolor\":\"white\",\"ticks\":\"\"}},\"coloraxis\":{\"colorbar\":{\"outlinewidth\":0,\"ticks\":\"\"}},\"colorscale\":{\"sequential\":[[0.0,\"#0d0887\"],[0.1111111111111111,\"#46039f\"],[0.2222222222222222,\"#7201a8\"],[0.3333333333333333,\"#9c179e\"],[0.4444444444444444,\"#bd3786\"],[0.5555555555555556,\"#d8576b\"],[0.6666666666666666,\"#ed7953\"],[0.7777777777777778,\"#fb9f3a\"],[0.8888888888888888,\"#fdca26\"],[1.0,\"#f0f921\"]],\"sequentialminus\":[[0.0,\"#0d0887\"],[0.1111111111111111,\"#46039f\"],[0.2222222222222222,\"#7201a8\"],[0.3333333333333333,\"#9c179e\"],[0.4444444444444444,\"#bd3786\"],[0.5555555555555556,\"#d8576b\"],[0.6666666666666666,\"#ed7953\"],[0.7777777777777778,\"#fb9f3a\"],[0.8888888888888888,\"#fdca26\"],[1.0,\"#f0f921\"]],\"diverging\":[[0,\"#8e0152\"],[0.1,\"#c51b7d\"],[0.2,\"#de77ae\"],[0.3,\"#f1b6da\"],[0.4,\"#fde0ef\"],[0.5,\"#f7f7f7\"],[0.6,\"#e6f5d0\"],[0.7,\"#b8e186\"],[0.8,\"#7fbc41\"],[0.9,\"#4d9221\"],[1,\"#276419\"]]},\"xaxis\":{\"gridcolor\":\"white\",\"linecolor\":\"white\",\"ticks\":\"\",\"title\":{\"standoff\":15},\"zerolinecolor\":\"white\",\"automargin\":true,\"zerolinewidth\":2},\"yaxis\":{\"gridcolor\":\"white\",\"linecolor\":\"white\",\"ticks\":\"\",\"title\":{\"standoff\":15},\"zerolinecolor\":\"white\",\"automargin\":true,\"zerolinewidth\":2},\"scene\":{\"xaxis\":{\"backgroundcolor\":\"#E5ECF6\",\"gridcolor\":\"white\",\"linecolor\":\"white\",\"showbackground\":true,\"ticks\":\"\",\"zerolinecolor\":\"white\",\"gridwidth\":2},\"yaxis\":{\"backgroundcolor\":\"#E5ECF6\",\"gridcolor\":\"white\",\"linecolor\":\"white\",\"showbackground\":true,\"ticks\":\"\",\"zerolinecolor\":\"white\",\"gridwidth\":2},\"zaxis\":{\"backgroundcolor\":\"#E5ECF6\",\"gridcolor\":\"white\",\"linecolor\":\"white\",\"showbackground\":true,\"ticks\":\"\",\"zerolinecolor\":\"white\",\"gridwidth\":2}},\"shapedefaults\":{\"line\":{\"color\":\"#2a3f5f\"}},\"annotationdefaults\":{\"arrowcolor\":\"#2a3f5f\",\"arrowhead\":0,\"arrowwidth\":1},\"geo\":{\"bgcolor\":\"white\",\"landcolor\":\"#E5ECF6\",\"subunitcolor\":\"white\",\"showland\":true,\"showlakes\":true,\"lakecolor\":\"white\"},\"title\":{\"x\":0.05},\"mapbox\":{\"style\":\"light\"}}}},                        {\"responsive\": true}                    ).then(function(){\n",
              "                            \n",
              "var gd = document.getElementById('7aae2aba-ec22-43e8-9f76-7393105519bf');\n",
              "var x = new MutationObserver(function (mutations, observer) {{\n",
              "        var display = window.getComputedStyle(gd).display;\n",
              "        if (!display || display === 'none') {{\n",
              "            console.log([gd, 'removed!']);\n",
              "            Plotly.purge(gd);\n",
              "            observer.disconnect();\n",
              "        }}\n",
              "}});\n",
              "\n",
              "// Listen for the removal of the full notebook cells\n",
              "var notebookContainer = gd.closest('#notebook-container');\n",
              "if (notebookContainer) {{\n",
              "    x.observe(notebookContainer, {childList: true});\n",
              "}}\n",
              "\n",
              "// Listen for the clearing of the current output cell\n",
              "var outputEl = gd.closest('.output');\n",
              "if (outputEl) {{\n",
              "    x.observe(outputEl, {childList: true});\n",
              "}}\n",
              "\n",
              "                        })                };                            </script>        </div>\n",
              "</body>\n",
              "</html>"
            ]
          },
          "metadata": {}
        }
      ],
      "source": [
        "trace_not_booked = go.Scatter(y = not_booked['days_between'].value_counts().sort_index()/len(not_booked) , name='Not Booked', opacity= 0.5) #TODO\n",
        "trace_is_booked = go.Scatter(y = is_booked['days_between'].value_counts().sort_index()/len(is_booked) , name='Booked') #TODO\n",
        "\n",
        "# در ادامه‌ی این قسمت از کد تغییری ایجاد نکنید زیرا نمودار شما توسط سیستم داوری بررسی می‌شود و تغییر در این قسمت ممکن است باعث عدم داوری صحیح شود\n",
        "\n",
        "data = [trace_is_booked, trace_not_booked]\n",
        "\n",
        "layout = go.Layout(\n",
        "    xaxis=dict(title='Days between search and checking time', tickangle=45, automargin=True),\n",
        "    yaxis=dict(title='Frequency')\n",
        ")\n",
        "\n",
        "fig = go.Figure(data=data, layout=layout)\n",
        "fig.show()\n",
        "fig.write_json('./days_between.json')"
      ]
    },
    {
      "cell_type": "markdown",
      "id": "22a296d0-690e-466a-9a8f-dc22d8a8fac1",
      "metadata": {
        "id": "22a296d0-690e-466a-9a8f-dc22d8a8fac1"
      },
      "source": [
        "<h3 align=right style=\"line-height:200%;font-family:vazir;color:#0099cc\">\n",
        "<font face=\"vazir\" color=\"#0099cc\">\n",
        "مصورسازی ۵\n",
        "</font>\n",
        "</h3>\n",
        "\n",
        "<p dir=rtl style=\"direction: rtl; text-align: justify; line-height:200%; font-family:vazir; font-size:medium\">\n",
        "<font face=\"vazir\">\n",
        "همچون نمودار بالا یک نمودار برای مدت اقامت نیز رسم کنید.\n",
        "</font>\n",
        "</p>\n",
        "\n",
        "<p dir=rtl style=\"direction: rtl; text-align: justify; line-height:200%; font-family:vazir; font-size:medium\">\n",
        "<font face=\"vazir\">\n",
        "خروجی نمودار شما باید به‌صورت زیر باشد.\n",
        "</font>\n",
        "</p>\n",
        "\n",
        "<center>\n",
        "<img src = 'https://quera.org/qbox/view/iOh4Yzgkf6/los.png'>\n",
        "</center>"
      ]
    },
    {
      "cell_type": "code",
      "execution_count": 41,
      "id": "3e655326-17f0-4f40-9f67-8c425cc73ffe",
      "metadata": {
        "colab": {
          "base_uri": "https://localhost:8080/",
          "height": 542
        },
        "id": "3e655326-17f0-4f40-9f67-8c425cc73ffe",
        "outputId": "ffee4f5f-dc70-4062-de5d-1cdf3b8cd103"
      },
      "outputs": [
        {
          "output_type": "display_data",
          "data": {
            "text/html": [
              "<html>\n",
              "<head><meta charset=\"utf-8\" /></head>\n",
              "<body>\n",
              "    <div>            <script src=\"https://cdnjs.cloudflare.com/ajax/libs/mathjax/2.7.5/MathJax.js?config=TeX-AMS-MML_SVG\"></script><script type=\"text/javascript\">if (window.MathJax && window.MathJax.Hub && window.MathJax.Hub.Config) {window.MathJax.Hub.Config({SVG: {font: \"STIX-Web\"}});}</script>                <script type=\"text/javascript\">window.PlotlyConfig = {MathJaxConfig: 'local'};</script>\n",
              "        <script charset=\"utf-8\" src=\"https://cdn.plot.ly/plotly-2.24.1.min.js\"></script>                <div id=\"ecb85af2-654f-41a6-9432-a559a7d7630a\" class=\"plotly-graph-div\" style=\"height:525px; width:100%;\"></div>            <script type=\"text/javascript\">                                    window.PLOTLYENV=window.PLOTLYENV || {};                                    if (document.getElementById(\"ecb85af2-654f-41a6-9432-a559a7d7630a\")) {                    Plotly.newPlot(                        \"ecb85af2-654f-41a6-9432-a559a7d7630a\",                        [{\"name\":\"Booked\",\"y\":[0.43093098764555415,0.22446050339418644,0.14472696176119976,0.08568337747613947,0.044226408024572915,0.023844669699501563,0.023492635227319085,0.007432006732470421,0.004302979299466509,0.003382854863590419,0.0017390200750301797,0.0012721589080585676,0.0010470381511693437,0.0015562038899053737,0.0004532632689044778,0.0002719579613426867,0.0002160554915111344,0.00014655512361244781,0.00012691371529325378,0.00014806600117546275,0.0001797944299987762,4.834808201647763e-05,3.021755126029852e-05,4.9858959579492555e-05,4.834808201647763e-05,3.626106151235822e-05,4.0793694201403e-05,0.00010273967428501497,1.510877563014926e-06,1.510877563014926e-06],\"type\":\"scatter\"},{\"name\":\"Not Booked\",\"opacity\":0.5,\"y\":[0.004578771847520333,0.25929829112254044,0.20371691247863596,0.1759753821917041,0.12360150462634743,0.07102163414996832,0.04835420876913694,0.056060589266401804,0.017280228524015447,0.010560771435534511,0.008098501174850555,0.003975188146669832,0.0027703239501235166,0.0031355259174637795,0.004954194287734526,0.0012952649988678306,0.0007819381500166766,0.0005249868249467635,0.00038132440342308107,0.0003876582175984739,0.00046395188834752373,0.0005808395499479548,0.00021160697358698724,0.00015244339117593162,0.0001561860995523001,0.000194188984604657,0.00019562848782633718,0.00013776045831479373,0.000342025965471212,8.23395842801066e-05,0.00010738694033734182,0.00010076522551761297,8.766574620032329e-05,6.765665141896871e-05,4.89431095371263e-05,4.635200373810196e-05,2.9221915400107763e-05,1.7130088337994204e-05,1.3387379961625723e-05,1.2091827062113557e-05,9.356770940921204e-06,7.485416752736964e-06,1.0940224484769408e-05,6.9096154640648896e-06,7.91726771924102e-06,5.758012886720741e-06,4.462459987208574e-06,3.8866586985365e-06,5.326161920216685e-06,5.038261275880648e-06,5.038261275880648e-06,4.89431095371263e-06,3.8866586985365e-06,3.5987580542004633e-06,2.5911057990243336e-06,3.4548077320324448e-06,5.758012886720741e-06,3.742708376368482e-06,4.030609020704519e-06,8.205168363577056e-06,2.274415090254693e-05,1.065232384043337e-05,2.8790064433603707e-06,1.871354188184241e-06,1.2955528995121668e-06,7.197516108400927e-07,4.318509665040556e-07,4.318509665040556e-07,1.4395032216801853e-07,2.8790064433603707e-07,4.318509665040556e-07,5.758012886720741e-07,1.4395032216801853e-07,1.4395032216801853e-07,2.8790064433603707e-07,1.4395032216801853e-07,2.8790064433603707e-07,7.197516108400927e-07,2.8790064433603707e-07,2.8790064433603707e-07,1.4395032216801853e-07,2.8790064433603707e-07,1.4395032216801853e-07,1.4395032216801853e-07,4.318509665040556e-07,4.318509665040556e-07,1.7274038660162224e-06,1.1516025773441483e-06,2.447155476856315e-06,6.3338141753928154e-06,7.197516108400927e-07,1.4395032216801853e-06,5.758012886720741e-07,1.4395032216801853e-07,1.4395032216801853e-07,4.318509665040556e-07,4.318509665040556e-07,1.4395032216801853e-07,1.4395032216801853e-07,1.4395032216801853e-07,2.8790064433603707e-07,1.4395032216801853e-07,1.4395032216801853e-07,4.318509665040556e-07,2.8790064433603707e-07,1.4395032216801853e-07,1.1516025773441483e-06,1.4395032216801853e-07,2.8790064433603707e-06,1.0076522551761297e-06,2.8790064433603707e-07,1.4395032216801853e-07,1.4395032216801853e-07,4.318509665040556e-07,1.4395032216801853e-07,2.8790064433603707e-07,1.4395032216801853e-07,1.4395032216801853e-07,1.4395032216801853e-07,2.8790064433603707e-07,1.4395032216801853e-07,4.318509665040556e-07,4.318509665040556e-07,1.4395032216801853e-07,2.3032051546882965e-06,8.637019330081112e-07,1.4395032216801853e-07,1.4395032216801853e-07,2.8790064433603707e-07,4.318509665040556e-07,2.8790064433603707e-07,1.4395032216801853e-07,1.4395032216801853e-07,1.4395032216801853e-07,1.4395032216801853e-07,1.4395032216801853e-07,1.4395032216801853e-07,8.637019330081112e-07,1.4395032216801853e-07,1.4395032216801853e-07,1.4395032216801853e-07,1.4395032216801853e-07,2.8790064433603707e-07,1.4395032216801853e-07,1.4395032216801853e-07,2.8790064433603707e-07,2.8790064433603707e-07,1.4395032216801853e-07,1.4395032216801853e-07,1.4395032216801853e-07,5.758012886720741e-07,1.1516025773441483e-06,1.4395032216801853e-07,1.4395032216801853e-07,1.4395032216801853e-07,1.4395032216801853e-07,1.4395032216801853e-07,2.8790064433603707e-07,4.318509665040556e-07,2.8790064433603707e-07,1.4395032216801853e-07,1.4395032216801853e-07,1.4395032216801853e-07,4.318509665040556e-07,1.4395032216801853e-07,1.4395032216801853e-07,1.4395032216801853e-07,1.4395032216801853e-07,1.0076522551761297e-06,1.4395032216801853e-07,1.4395032216801853e-07,1.4395032216801853e-07],\"type\":\"scatter\"}],                        {\"xaxis\":{\"automargin\":true,\"tickangle\":45,\"title\":{\"text\":\"Length of Stay\"}},\"yaxis\":{\"title\":{\"text\":\"Frequency\"}},\"template\":{\"data\":{\"histogram2dcontour\":[{\"type\":\"histogram2dcontour\",\"colorbar\":{\"outlinewidth\":0,\"ticks\":\"\"},\"colorscale\":[[0.0,\"#0d0887\"],[0.1111111111111111,\"#46039f\"],[0.2222222222222222,\"#7201a8\"],[0.3333333333333333,\"#9c179e\"],[0.4444444444444444,\"#bd3786\"],[0.5555555555555556,\"#d8576b\"],[0.6666666666666666,\"#ed7953\"],[0.7777777777777778,\"#fb9f3a\"],[0.8888888888888888,\"#fdca26\"],[1.0,\"#f0f921\"]]}],\"choropleth\":[{\"type\":\"choropleth\",\"colorbar\":{\"outlinewidth\":0,\"ticks\":\"\"}}],\"histogram2d\":[{\"type\":\"histogram2d\",\"colorbar\":{\"outlinewidth\":0,\"ticks\":\"\"},\"colorscale\":[[0.0,\"#0d0887\"],[0.1111111111111111,\"#46039f\"],[0.2222222222222222,\"#7201a8\"],[0.3333333333333333,\"#9c179e\"],[0.4444444444444444,\"#bd3786\"],[0.5555555555555556,\"#d8576b\"],[0.6666666666666666,\"#ed7953\"],[0.7777777777777778,\"#fb9f3a\"],[0.8888888888888888,\"#fdca26\"],[1.0,\"#f0f921\"]]}],\"heatmap\":[{\"type\":\"heatmap\",\"colorbar\":{\"outlinewidth\":0,\"ticks\":\"\"},\"colorscale\":[[0.0,\"#0d0887\"],[0.1111111111111111,\"#46039f\"],[0.2222222222222222,\"#7201a8\"],[0.3333333333333333,\"#9c179e\"],[0.4444444444444444,\"#bd3786\"],[0.5555555555555556,\"#d8576b\"],[0.6666666666666666,\"#ed7953\"],[0.7777777777777778,\"#fb9f3a\"],[0.8888888888888888,\"#fdca26\"],[1.0,\"#f0f921\"]]}],\"heatmapgl\":[{\"type\":\"heatmapgl\",\"colorbar\":{\"outlinewidth\":0,\"ticks\":\"\"},\"colorscale\":[[0.0,\"#0d0887\"],[0.1111111111111111,\"#46039f\"],[0.2222222222222222,\"#7201a8\"],[0.3333333333333333,\"#9c179e\"],[0.4444444444444444,\"#bd3786\"],[0.5555555555555556,\"#d8576b\"],[0.6666666666666666,\"#ed7953\"],[0.7777777777777778,\"#fb9f3a\"],[0.8888888888888888,\"#fdca26\"],[1.0,\"#f0f921\"]]}],\"contourcarpet\":[{\"type\":\"contourcarpet\",\"colorbar\":{\"outlinewidth\":0,\"ticks\":\"\"}}],\"contour\":[{\"type\":\"contour\",\"colorbar\":{\"outlinewidth\":0,\"ticks\":\"\"},\"colorscale\":[[0.0,\"#0d0887\"],[0.1111111111111111,\"#46039f\"],[0.2222222222222222,\"#7201a8\"],[0.3333333333333333,\"#9c179e\"],[0.4444444444444444,\"#bd3786\"],[0.5555555555555556,\"#d8576b\"],[0.6666666666666666,\"#ed7953\"],[0.7777777777777778,\"#fb9f3a\"],[0.8888888888888888,\"#fdca26\"],[1.0,\"#f0f921\"]]}],\"surface\":[{\"type\":\"surface\",\"colorbar\":{\"outlinewidth\":0,\"ticks\":\"\"},\"colorscale\":[[0.0,\"#0d0887\"],[0.1111111111111111,\"#46039f\"],[0.2222222222222222,\"#7201a8\"],[0.3333333333333333,\"#9c179e\"],[0.4444444444444444,\"#bd3786\"],[0.5555555555555556,\"#d8576b\"],[0.6666666666666666,\"#ed7953\"],[0.7777777777777778,\"#fb9f3a\"],[0.8888888888888888,\"#fdca26\"],[1.0,\"#f0f921\"]]}],\"mesh3d\":[{\"type\":\"mesh3d\",\"colorbar\":{\"outlinewidth\":0,\"ticks\":\"\"}}],\"scatter\":[{\"fillpattern\":{\"fillmode\":\"overlay\",\"size\":10,\"solidity\":0.2},\"type\":\"scatter\"}],\"parcoords\":[{\"type\":\"parcoords\",\"line\":{\"colorbar\":{\"outlinewidth\":0,\"ticks\":\"\"}}}],\"scatterpolargl\":[{\"type\":\"scatterpolargl\",\"marker\":{\"colorbar\":{\"outlinewidth\":0,\"ticks\":\"\"}}}],\"bar\":[{\"error_x\":{\"color\":\"#2a3f5f\"},\"error_y\":{\"color\":\"#2a3f5f\"},\"marker\":{\"line\":{\"color\":\"#E5ECF6\",\"width\":0.5},\"pattern\":{\"fillmode\":\"overlay\",\"size\":10,\"solidity\":0.2}},\"type\":\"bar\"}],\"scattergeo\":[{\"type\":\"scattergeo\",\"marker\":{\"colorbar\":{\"outlinewidth\":0,\"ticks\":\"\"}}}],\"scatterpolar\":[{\"type\":\"scatterpolar\",\"marker\":{\"colorbar\":{\"outlinewidth\":0,\"ticks\":\"\"}}}],\"histogram\":[{\"marker\":{\"pattern\":{\"fillmode\":\"overlay\",\"size\":10,\"solidity\":0.2}},\"type\":\"histogram\"}],\"scattergl\":[{\"type\":\"scattergl\",\"marker\":{\"colorbar\":{\"outlinewidth\":0,\"ticks\":\"\"}}}],\"scatter3d\":[{\"type\":\"scatter3d\",\"line\":{\"colorbar\":{\"outlinewidth\":0,\"ticks\":\"\"}},\"marker\":{\"colorbar\":{\"outlinewidth\":0,\"ticks\":\"\"}}}],\"scattermapbox\":[{\"type\":\"scattermapbox\",\"marker\":{\"colorbar\":{\"outlinewidth\":0,\"ticks\":\"\"}}}],\"scatterternary\":[{\"type\":\"scatterternary\",\"marker\":{\"colorbar\":{\"outlinewidth\":0,\"ticks\":\"\"}}}],\"scattercarpet\":[{\"type\":\"scattercarpet\",\"marker\":{\"colorbar\":{\"outlinewidth\":0,\"ticks\":\"\"}}}],\"carpet\":[{\"aaxis\":{\"endlinecolor\":\"#2a3f5f\",\"gridcolor\":\"white\",\"linecolor\":\"white\",\"minorgridcolor\":\"white\",\"startlinecolor\":\"#2a3f5f\"},\"baxis\":{\"endlinecolor\":\"#2a3f5f\",\"gridcolor\":\"white\",\"linecolor\":\"white\",\"minorgridcolor\":\"white\",\"startlinecolor\":\"#2a3f5f\"},\"type\":\"carpet\"}],\"table\":[{\"cells\":{\"fill\":{\"color\":\"#EBF0F8\"},\"line\":{\"color\":\"white\"}},\"header\":{\"fill\":{\"color\":\"#C8D4E3\"},\"line\":{\"color\":\"white\"}},\"type\":\"table\"}],\"barpolar\":[{\"marker\":{\"line\":{\"color\":\"#E5ECF6\",\"width\":0.5},\"pattern\":{\"fillmode\":\"overlay\",\"size\":10,\"solidity\":0.2}},\"type\":\"barpolar\"}],\"pie\":[{\"automargin\":true,\"type\":\"pie\"}]},\"layout\":{\"autotypenumbers\":\"strict\",\"colorway\":[\"#636efa\",\"#EF553B\",\"#00cc96\",\"#ab63fa\",\"#FFA15A\",\"#19d3f3\",\"#FF6692\",\"#B6E880\",\"#FF97FF\",\"#FECB52\"],\"font\":{\"color\":\"#2a3f5f\"},\"hovermode\":\"closest\",\"hoverlabel\":{\"align\":\"left\"},\"paper_bgcolor\":\"white\",\"plot_bgcolor\":\"#E5ECF6\",\"polar\":{\"bgcolor\":\"#E5ECF6\",\"angularaxis\":{\"gridcolor\":\"white\",\"linecolor\":\"white\",\"ticks\":\"\"},\"radialaxis\":{\"gridcolor\":\"white\",\"linecolor\":\"white\",\"ticks\":\"\"}},\"ternary\":{\"bgcolor\":\"#E5ECF6\",\"aaxis\":{\"gridcolor\":\"white\",\"linecolor\":\"white\",\"ticks\":\"\"},\"baxis\":{\"gridcolor\":\"white\",\"linecolor\":\"white\",\"ticks\":\"\"},\"caxis\":{\"gridcolor\":\"white\",\"linecolor\":\"white\",\"ticks\":\"\"}},\"coloraxis\":{\"colorbar\":{\"outlinewidth\":0,\"ticks\":\"\"}},\"colorscale\":{\"sequential\":[[0.0,\"#0d0887\"],[0.1111111111111111,\"#46039f\"],[0.2222222222222222,\"#7201a8\"],[0.3333333333333333,\"#9c179e\"],[0.4444444444444444,\"#bd3786\"],[0.5555555555555556,\"#d8576b\"],[0.6666666666666666,\"#ed7953\"],[0.7777777777777778,\"#fb9f3a\"],[0.8888888888888888,\"#fdca26\"],[1.0,\"#f0f921\"]],\"sequentialminus\":[[0.0,\"#0d0887\"],[0.1111111111111111,\"#46039f\"],[0.2222222222222222,\"#7201a8\"],[0.3333333333333333,\"#9c179e\"],[0.4444444444444444,\"#bd3786\"],[0.5555555555555556,\"#d8576b\"],[0.6666666666666666,\"#ed7953\"],[0.7777777777777778,\"#fb9f3a\"],[0.8888888888888888,\"#fdca26\"],[1.0,\"#f0f921\"]],\"diverging\":[[0,\"#8e0152\"],[0.1,\"#c51b7d\"],[0.2,\"#de77ae\"],[0.3,\"#f1b6da\"],[0.4,\"#fde0ef\"],[0.5,\"#f7f7f7\"],[0.6,\"#e6f5d0\"],[0.7,\"#b8e186\"],[0.8,\"#7fbc41\"],[0.9,\"#4d9221\"],[1,\"#276419\"]]},\"xaxis\":{\"gridcolor\":\"white\",\"linecolor\":\"white\",\"ticks\":\"\",\"title\":{\"standoff\":15},\"zerolinecolor\":\"white\",\"automargin\":true,\"zerolinewidth\":2},\"yaxis\":{\"gridcolor\":\"white\",\"linecolor\":\"white\",\"ticks\":\"\",\"title\":{\"standoff\":15},\"zerolinecolor\":\"white\",\"automargin\":true,\"zerolinewidth\":2},\"scene\":{\"xaxis\":{\"backgroundcolor\":\"#E5ECF6\",\"gridcolor\":\"white\",\"linecolor\":\"white\",\"showbackground\":true,\"ticks\":\"\",\"zerolinecolor\":\"white\",\"gridwidth\":2},\"yaxis\":{\"backgroundcolor\":\"#E5ECF6\",\"gridcolor\":\"white\",\"linecolor\":\"white\",\"showbackground\":true,\"ticks\":\"\",\"zerolinecolor\":\"white\",\"gridwidth\":2},\"zaxis\":{\"backgroundcolor\":\"#E5ECF6\",\"gridcolor\":\"white\",\"linecolor\":\"white\",\"showbackground\":true,\"ticks\":\"\",\"zerolinecolor\":\"white\",\"gridwidth\":2}},\"shapedefaults\":{\"line\":{\"color\":\"#2a3f5f\"}},\"annotationdefaults\":{\"arrowcolor\":\"#2a3f5f\",\"arrowhead\":0,\"arrowwidth\":1},\"geo\":{\"bgcolor\":\"white\",\"landcolor\":\"#E5ECF6\",\"subunitcolor\":\"white\",\"showland\":true,\"showlakes\":true,\"lakecolor\":\"white\"},\"title\":{\"x\":0.05},\"mapbox\":{\"style\":\"light\"}}}},                        {\"responsive\": true}                    ).then(function(){\n",
              "                            \n",
              "var gd = document.getElementById('ecb85af2-654f-41a6-9432-a559a7d7630a');\n",
              "var x = new MutationObserver(function (mutations, observer) {{\n",
              "        var display = window.getComputedStyle(gd).display;\n",
              "        if (!display || display === 'none') {{\n",
              "            console.log([gd, 'removed!']);\n",
              "            Plotly.purge(gd);\n",
              "            observer.disconnect();\n",
              "        }}\n",
              "}});\n",
              "\n",
              "// Listen for the removal of the full notebook cells\n",
              "var notebookContainer = gd.closest('#notebook-container');\n",
              "if (notebookContainer) {{\n",
              "    x.observe(notebookContainer, {childList: true});\n",
              "}}\n",
              "\n",
              "// Listen for the clearing of the current output cell\n",
              "var outputEl = gd.closest('.output');\n",
              "if (outputEl) {{\n",
              "    x.observe(outputEl, {childList: true});\n",
              "}}\n",
              "\n",
              "                        })                };                            </script>        </div>\n",
              "</body>\n",
              "</html>"
            ]
          },
          "metadata": {}
        }
      ],
      "source": [
        "trace_not_booked = go.Scatter(y = not_booked['duration'].value_counts().sort_index()/len(not_booked) , name='Not Booked', opacity= 0.5) #TODO\n",
        "trace_is_booked = go.Scatter(y = is_booked['duration'].value_counts().sort_index()/len(is_booked) , name='Booked') #TODO\n",
        "\n",
        "# در ادامه‌ی این قسمت از کد تغییری ایجاد نکنید زیرا نمودار شما توسط سیستم داوری بررسی می‌شود و تغییر در این قسمت ممکن است باعث عدم داوری صحیح شود\n",
        "\n",
        "data = [trace_is_booked, trace_not_booked]\n",
        "\n",
        "layout = go.Layout(\n",
        "    xaxis=dict(title='Length of Stay', tickangle=45, automargin=True),\n",
        "    yaxis=dict(title='Frequency')\n",
        ")\n",
        "\n",
        "fig = go.Figure(data=data, layout=layout)\n",
        "fig.show()\n",
        "fig.write_json('./los.json')"
      ]
    },
    {
      "cell_type": "code",
      "execution_count": 42,
      "id": "bc9e48f4",
      "metadata": {
        "id": "bc9e48f4"
      },
      "outputs": [],
      "source": [
        "del trace_not_booked, trace_is_booked, is_booked, not_booked, data"
      ]
    },
    {
      "cell_type": "markdown",
      "id": "5ab0c8e4-408a-4af0-8a3d-6099075f885a",
      "metadata": {
        "id": "5ab0c8e4-408a-4af0-8a3d-6099075f885a"
      },
      "source": [
        "<h3 align=right style=\"line-height:200%;font-family:vazir;color:#0099cc\">\n",
        "<font face=\"vazir\" color=\"#0099cc\">\n",
        "خارجی یا داخلی\n",
        "</font>\n",
        "</h3>\n",
        "\n",
        "<p dir=rtl style=\"direction: rtl; text-align: justify; line-height:200%; font-family:vazir; font-size:medium\">\n",
        "<font face=\"vazir\" size=3>\n",
        "تا اینجا داده‌های زمانی را مورد بررسی قرار دادیم و سعی کردیم کمی در آن‌‌ها اکتشاف کنیم.\n",
        "حال با توجه به داده‌های دیگر می‌توانیم اکتشافات دیگری انجام دهیم. <br>ستونی با نام <code>is_abroad</code> ایجاد کنید و در آن جست‌وجو‌ها برای هتل‌های خارج از کشور کاربر را مشخص کنید.\n",
        "به‌طور مثال اگر کاربر در کشوری با شناسه‌ی <code>x</code> است و در جست‌وجوی خود هتلی در کشوری غیر از <code>x</code> را جست‌وجو ستون <code>is_abroad</code> را برای این نمونه برابر <code>1</code> قرار دهید.\n",
        "</font>\n",
        "</p>\n"
      ]
    },
    {
      "cell_type": "code",
      "execution_count": 43,
      "id": "a5416cb7-8b90-4d1d-8ecb-8bdf142dcc5c",
      "metadata": {
        "id": "a5416cb7-8b90-4d1d-8ecb-8bdf142dcc5c"
      },
      "outputs": [],
      "source": [
        "# TODO: Add is_abroad column\n",
        "\n",
        "train['is_abroad'] = 0\n",
        "train.loc[train['user_location_country'] == train['hotel_country'], 'is_abroad'] = 1\n",
        "\n",
        "test['is_abroad'] = 0\n",
        "test.loc[test['user_location_country'] == test['hotel_country'], 'is_abroad'] = 1"
      ]
    },
    {
      "cell_type": "markdown",
      "id": "b8590bb9-2d0a-4c0d-80fa-ea2c2433e6f0",
      "metadata": {
        "id": "b8590bb9-2d0a-4c0d-80fa-ea2c2433e6f0"
      },
      "source": [
        "<h3 align=right style=\"line-height:200%;font-family:vazir;color:#0099cc\">\n",
        "<font face=\"vazir\" color=\"#0099cc\">\n",
        "🤓 بیشتر\n",
        "</font>\n",
        "</h3>\n",
        "\n",
        "\n",
        "<p dir=rtl style=\"direction: rtl; text-align: justify; line-height:200%; font-family:vazir; font-size:medium\">\n",
        "<font face=\"vazir\" size=3>\n",
        "از آن‌جا که این مجموعه‌داده شامل ویژگی‌های متعدد و متنوعی است، می‌توانید به غیر از موارد خواسته‌شده، از جنبه‌های مختلفی به تحلیل داده‌ها بپردازید. برای مثال می‌توانید توزیع‌های سایر ویژگی‌ها را بررسی کنید، ارتباط ویژگی‌ها با هم و با متغیر هدف را بررسی کنید. همچنین با توجه به بینش‌هایی که از داده‌ها به‌دست می‌آورید، می‌توانید به پیش‌پردازش داده‌ها بپردازید تا ورودی‌های باکیفیت‌تری را برای مدل خود آماده کنید. این بخش به‌صورت جداگانه مورد داوری قرار نمی‌گیرد و دست شما باز است تا از هر تکنیکی که برای بهبود عملکرد مدل خود لازم می‌دانید استفاده کنید.\n",
        "در انجام مراحل پیش‌پردازش و مهندسی ویژگی، می‌توانید موارد زیر را انجام دهید. همچنین توجه داشته باشید در نهایت مجموعه‌داده آموزش و آزمون باید ساختاری مشابه یکدیگر داشته باشند.\n",
        "\n",
        "<ul dir=rtl>\n",
        "<li dir=rtl>\n",
        " مدیریت ویژگی‌های دسته‌ای ترتیبی و اسمی (توجه داشته باشید با این‌که داده‌های مجموعه‌داده‌ی اولیه از نوع عدد هستند اما الزاماً اعداد آن‌ها بار معنایی از نظر ریاضی ندارند و با برخی از آن‌ها باید همچون ویژگی‌های دسته‌ای برخورد کنید و شاید برای بهبود مدل نیاز به مدیریت این داده‌ها داشته باشید.)\n",
        "    </li>\n",
        "    <li dir=rtl>\n",
        "        در بعضی موارد حذف بعضی ستون‌ها به بهبود مدل کمک می‌کند، به‌طور مثال در مرحله‌ی قبل ستونی برای خارجی بودن هتل ایجاد کردیم، حال ممکن است دیگر نیازی به کشور کاربر و یا هتل با توجه به ستون جدید نداشته باشیم.\n",
        "    </li>\n",
        "       <li dir=rtl>\n",
        "           با بررسی توزیع مجموعه‌داده متوجه می‌شوید که این مجموعه‌داده متوازن نیست، بنابراین نحوه‌ی مدیریت این چالش نیز می‌تواند در مدل شما تاثیر بگذارد.\n",
        "    </li>\n",
        "</ul>\n",
        "</font>\n",
        "</p>\n",
        "\n",
        "<p dir=rtl style=\"direction: rtl; text-align: justify; line-height:200%; font-family:vazir; font-size:medium\">\n",
        "<font face=\"vazir\" size=3>\n",
        "توجه داشته باشید که کدنویسی سلول‌های زیر کاملاً اختیاری است.\n",
        "</font>\n",
        "</p>"
      ]
    },
    {
      "cell_type": "code",
      "execution_count": 44,
      "id": "06a6e679-bc0e-49d4-acf5-d9085d2df66c",
      "metadata": {
        "id": "06a6e679-bc0e-49d4-acf5-d9085d2df66c"
      },
      "outputs": [],
      "source": [
        "# TODO: Preprocessing (Drop Unnecessary Columns) (Optional)\n",
        "\n",
        "train = train.drop(columns = ['search_date','checkIn_date','checkOut_date'])\n",
        "test = test.drop(columns = ['search_date','checkIn_date','checkOut_date'])"
      ]
    },
    {
      "cell_type": "code",
      "execution_count": 45,
      "id": "3e8987ac-64cf-4fac-b8ea-6673382a6dcf",
      "metadata": {
        "id": "3e8987ac-64cf-4fac-b8ea-6673382a6dcf"
      },
      "outputs": [],
      "source": [
        "# TODO: Preprocessing (Make One-hotted Columns) (Optional)\n",
        "dummy_columns = ['channel'] #TODO\n",
        "\n",
        "train = pd.get_dummies(train, columns = dummy_columns)\n",
        "test = pd.get_dummies(test, columns = dummy_columns)\n",
        "\n",
        "test['channel_10'] = 0 #در داده‌های تست مقدار کانال ۱۰ وجود ندارد بنابراین دستی به مجموعه‌داده اضافه می‌کنیم"
      ]
    },
    {
      "cell_type": "code",
      "execution_count": 46,
      "id": "5e3fd748-321b-40c5-a660-6a5460624df1",
      "metadata": {
        "id": "5e3fd748-321b-40c5-a660-6a5460624df1"
      },
      "outputs": [],
      "source": [
        "# TODO: Preprocessing (Encode Categorical Columns) (Optional)\n",
        "\n",
        "from sklearn.preprocessing import LabelEncoder\n",
        "le = LabelEncoder()\n",
        "\n",
        "columns_to_encode = ['search_time_of_day','checkIn_of_year']\n",
        "\n",
        "for column in columns_to_encode:\n",
        "    train.loc[:, column] = le.fit_transform(train[column])\n",
        "    test.loc[:, column] = le.transform(test[column])"
      ]
    },
    {
      "cell_type": "code",
      "execution_count": 47,
      "id": "f31f968b",
      "metadata": {
        "id": "f31f968b"
      },
      "outputs": [],
      "source": [
        "#To make sure orders are correct,\n",
        "#Also If I want to drop any other column I can change this part of code\n",
        "\n",
        "drop_columns = ['user_location_country','hotel_country','destination']\n",
        "train_columns = train.drop(columns = drop_columns).columns\n",
        "train_columns.drop('is_booking')\n",
        "\n",
        "train = train[train_columns]\n",
        "test = test[train_columns.drop('is_booking')]"
      ]
    },
    {
      "cell_type": "code",
      "execution_count": 48,
      "id": "ab769139",
      "metadata": {
        "id": "ab769139"
      },
      "outputs": [],
      "source": [
        "# Make Data Set Balance (We Also could set class_weights for our model)\n",
        "train = train.drop(index = train[train['is_booking'] == False].sample(frac =.905).index)\n",
        "train = train.astype(np.float32)\n",
        "test = test.astype(np.float32)"
      ]
    },
    {
      "cell_type": "code",
      "execution_count": 49,
      "id": "600b8882-3d22-4fa6-814b-2d4cd2401bb0",
      "metadata": {
        "id": "600b8882-3d22-4fa6-814b-2d4cd2401bb0"
      },
      "outputs": [],
      "source": [
        "# TODO: Make Validation Set (Optional)\n",
        "\n",
        "from sklearn.model_selection import train_test_split\n",
        "\n",
        "X_train, X_valid, y_train, y_valid = train_test_split(train.drop(columns = ['is_booking'])\n",
        "                                                      ,train['is_booking'], test_size = 0.05)"
      ]
    },
    {
      "cell_type": "markdown",
      "id": "0ff3526f-badc-4c9e-8b10-f83b7831a668",
      "metadata": {
        "id": "0ff3526f-badc-4c9e-8b10-f83b7831a668"
      },
      "source": [
        "<h2 dir=rtl align=right style=\"line-height:200%;font-family:vazir;color:#0099cc\">\n",
        "<font face=\"vazir\" color=\"#0099cc\">\n",
        "مدل‌سازی\n",
        "</font>\n",
        "</h2>\n",
        "\n",
        "\n",
        "<p dir=rtl style=\"direction: rtl; text-align: justify; line-height:200%; font-family:vazir; font-size:medium\">\n",
        "<font face=\"vazir\" size=3>\n",
        "پس از آماده‌سازی داده‌ها نوبت به ساخت شبکه‌ی عصبی می‌رسد. باز هم دست‌تان باز است تا معماری موردنظر خود را طراحی کنید و از هر تکنیکی که لازم می‌دانید جهت بهتر کردن فرآیند آموزش مدل استفاده کنید. پیشنهاد می‌کنیم تکنیک‌های مختلفی که تا اینجای دوره آموخته‌اید را آزمایش کرده و به تفسیر نتایج بپردازید.\n",
        "دقت داشته باشید در خروجی مدل باید احتمال رزرو شدن هتل را پیش‌بینی کنید. به عبارت بهتر احتمال <code>1</code>\n",
        " شدن ستون <code>is_booking</code>\n",
        " را تخمین بزنید.\n",
        "همچنین توجه داشته باشید که برای ارزیابی مدل شما از معیار <code>AUC</code> یعنی سطح زیر منحنی نمودار <code>ROC</code> استفاده می‌شود. برای مطالعه بیشتر در مورد این نمودار می‌توانید <a href = 'https://en.wikipedia.org/wiki/Receiver_operating_characteristic'> ویکی‌پدیا </a>\n",
        "    یا <a href = 'https://stanford.edu/~shervine/l/fa/teaching/cs-229/cheatsheet-machine-learning-tips-and-tricks'> راهنمای کوتاه نکات و ترفندهای یادگیری ماشین </a>\n",
        " را مطالعه کنید.\n",
        "</font>\n",
        "</p>"
      ]
    },
    {
      "cell_type": "code",
      "execution_count": 50,
      "id": "dafaffd9-0dad-4bec-aedc-ea0178c8567b",
      "metadata": {
        "id": "dafaffd9-0dad-4bec-aedc-ea0178c8567b"
      },
      "outputs": [],
      "source": [
        "# TODO : Design Model\n",
        "model = keras.models.Sequential()\n",
        "model.add(keras.layers.Input(shape=(X_train.shape[1],)))\n",
        "model.add(keras.layers.BatchNormalization()) # Also Can be done in preparation phase\n",
        "model.add(keras.layers.Dense(100, activation='relu'))\n",
        "model.add(keras.layers.Dropout(0.1))\n",
        "model.add(keras.layers.BatchNormalization())\n",
        "model.add(keras.layers.Dense(50, activation='relu'))\n",
        "model.add(keras.layers.BatchNormalization())\n",
        "model.add(keras.layers.Dense(1, activation='sigmoid'))"
      ]
    },
    {
      "cell_type": "code",
      "execution_count": 51,
      "id": "d478d2ef-4d53-41bf-9ca5-7aa3a6fd8f0f",
      "metadata": {
        "id": "d478d2ef-4d53-41bf-9ca5-7aa3a6fd8f0f"
      },
      "outputs": [],
      "source": [
        "# TODO : Complie the Model\n",
        "model.compile(optimizer = keras.optimizers.Adam(),\n",
        "              loss = keras.losses.BinaryCrossentropy(),\n",
        "              metrics = ['auc'])"
      ]
    },
    {
      "cell_type": "code",
      "execution_count": 52,
      "id": "482919f9-6af7-4884-a4e4-01ef25c73206",
      "metadata": {
        "colab": {
          "base_uri": "https://localhost:8080/"
        },
        "id": "482919f9-6af7-4884-a4e4-01ef25c73206",
        "outputId": "08fe10a4-aabe-4693-c0e3-6cf97bb81a85"
      },
      "outputs": [
        {
          "output_type": "stream",
          "name": "stdout",
          "text": [
            "Epoch 1/100\n",
            "\u001b[1m307/307\u001b[0m \u001b[32m━━━━━━━━━━━━━━━━━━━━\u001b[0m\u001b[37m\u001b[0m \u001b[1m12s\u001b[0m 20ms/step - auc: 0.7001 - loss: 0.6257 - val_auc: 0.7586 - val_loss: 0.5644\n",
            "Epoch 2/100\n",
            "\u001b[1m307/307\u001b[0m \u001b[32m━━━━━━━━━━━━━━━━━━━━\u001b[0m\u001b[37m\u001b[0m \u001b[1m2s\u001b[0m 5ms/step - auc: 0.7530 - loss: 0.5676 - val_auc: 0.7632 - val_loss: 0.5594\n",
            "Epoch 3/100\n",
            "\u001b[1m307/307\u001b[0m \u001b[32m━━━━━━━━━━━━━━━━━━━━\u001b[0m\u001b[37m\u001b[0m \u001b[1m2s\u001b[0m 5ms/step - auc: 0.7580 - loss: 0.5629 - val_auc: 0.7651 - val_loss: 0.5577\n",
            "Epoch 4/100\n",
            "\u001b[1m307/307\u001b[0m \u001b[32m━━━━━━━━━━━━━━━━━━━━\u001b[0m\u001b[37m\u001b[0m \u001b[1m2s\u001b[0m 3ms/step - auc: 0.7618 - loss: 0.5598 - val_auc: 0.7657 - val_loss: 0.5567\n",
            "Epoch 5/100\n",
            "\u001b[1m307/307\u001b[0m \u001b[32m━━━━━━━━━━━━━━━━━━━━\u001b[0m\u001b[37m\u001b[0m \u001b[1m1s\u001b[0m 3ms/step - auc: 0.7629 - loss: 0.5587 - val_auc: 0.7661 - val_loss: 0.5560\n",
            "Epoch 6/100\n",
            "\u001b[1m307/307\u001b[0m \u001b[32m━━━━━━━━━━━━━━━━━━━━\u001b[0m\u001b[37m\u001b[0m \u001b[1m1s\u001b[0m 3ms/step - auc: 0.7634 - loss: 0.5581 - val_auc: 0.7663 - val_loss: 0.5558\n",
            "Epoch 7/100\n",
            "\u001b[1m307/307\u001b[0m \u001b[32m━━━━━━━━━━━━━━━━━━━━\u001b[0m\u001b[37m\u001b[0m \u001b[1m1s\u001b[0m 3ms/step - auc: 0.7645 - loss: 0.5574 - val_auc: 0.7670 - val_loss: 0.5552\n",
            "Epoch 8/100\n",
            "\u001b[1m307/307\u001b[0m \u001b[32m━━━━━━━━━━━━━━━━━━━━\u001b[0m\u001b[37m\u001b[0m \u001b[1m1s\u001b[0m 3ms/step - auc: 0.7643 - loss: 0.5575 - val_auc: 0.7672 - val_loss: 0.5547\n",
            "Epoch 9/100\n",
            "\u001b[1m307/307\u001b[0m \u001b[32m━━━━━━━━━━━━━━━━━━━━\u001b[0m\u001b[37m\u001b[0m \u001b[1m1s\u001b[0m 3ms/step - auc: 0.7655 - loss: 0.5561 - val_auc: 0.7681 - val_loss: 0.5541\n",
            "Epoch 10/100\n",
            "\u001b[1m307/307\u001b[0m \u001b[32m━━━━━━━━━━━━━━━━━━━━\u001b[0m\u001b[37m\u001b[0m \u001b[1m1s\u001b[0m 3ms/step - auc: 0.7660 - loss: 0.5560 - val_auc: 0.7684 - val_loss: 0.5538\n",
            "Epoch 11/100\n",
            "\u001b[1m307/307\u001b[0m \u001b[32m━━━━━━━━━━━━━━━━━━━━\u001b[0m\u001b[37m\u001b[0m \u001b[1m1s\u001b[0m 3ms/step - auc: 0.7659 - loss: 0.5561 - val_auc: 0.7687 - val_loss: 0.5532\n",
            "Epoch 12/100\n",
            "\u001b[1m307/307\u001b[0m \u001b[32m━━━━━━━━━━━━━━━━━━━━\u001b[0m\u001b[37m\u001b[0m \u001b[1m2s\u001b[0m 4ms/step - auc: 0.7665 - loss: 0.5552 - val_auc: 0.7691 - val_loss: 0.5530\n",
            "Epoch 13/100\n",
            "\u001b[1m307/307\u001b[0m \u001b[32m━━━━━━━━━━━━━━━━━━━━\u001b[0m\u001b[37m\u001b[0m \u001b[1m2s\u001b[0m 5ms/step - auc: 0.7678 - loss: 0.5544 - val_auc: 0.7695 - val_loss: 0.5526\n",
            "Epoch 14/100\n",
            "\u001b[1m307/307\u001b[0m \u001b[32m━━━━━━━━━━━━━━━━━━━━\u001b[0m\u001b[37m\u001b[0m \u001b[1m3s\u001b[0m 5ms/step - auc: 0.7668 - loss: 0.5548 - val_auc: 0.7693 - val_loss: 0.5526\n",
            "Epoch 15/100\n",
            "\u001b[1m307/307\u001b[0m \u001b[32m━━━━━━━━━━━━━━━━━━━━\u001b[0m\u001b[37m\u001b[0m \u001b[1m2s\u001b[0m 5ms/step - auc: 0.7685 - loss: 0.5539 - val_auc: 0.7696 - val_loss: 0.5525\n",
            "Epoch 16/100\n",
            "\u001b[1m307/307\u001b[0m \u001b[32m━━━━━━━━━━━━━━━━━━━━\u001b[0m\u001b[37m\u001b[0m \u001b[1m2s\u001b[0m 3ms/step - auc: 0.7682 - loss: 0.5537 - val_auc: 0.7700 - val_loss: 0.5521\n",
            "Epoch 17/100\n",
            "\u001b[1m307/307\u001b[0m \u001b[32m━━━━━━━━━━━━━━━━━━━━\u001b[0m\u001b[37m\u001b[0m \u001b[1m1s\u001b[0m 3ms/step - auc: 0.7679 - loss: 0.5539 - val_auc: 0.7701 - val_loss: 0.5520\n",
            "Epoch 18/100\n",
            "\u001b[1m307/307\u001b[0m \u001b[32m━━━━━━━━━━━━━━━━━━━━\u001b[0m\u001b[37m\u001b[0m \u001b[1m1s\u001b[0m 3ms/step - auc: 0.7688 - loss: 0.5533 - val_auc: 0.7701 - val_loss: 0.5521\n",
            "Epoch 19/100\n",
            "\u001b[1m307/307\u001b[0m \u001b[32m━━━━━━━━━━━━━━━━━━━━\u001b[0m\u001b[37m\u001b[0m \u001b[1m1s\u001b[0m 3ms/step - auc: 0.7684 - loss: 0.5538 - val_auc: 0.7703 - val_loss: 0.5517\n",
            "Epoch 20/100\n",
            "\u001b[1m307/307\u001b[0m \u001b[32m━━━━━━━━━━━━━━━━━━━━\u001b[0m\u001b[37m\u001b[0m \u001b[1m1s\u001b[0m 3ms/step - auc: 0.7693 - loss: 0.5526 - val_auc: 0.7703 - val_loss: 0.5518\n",
            "Epoch 21/100\n",
            "\u001b[1m307/307\u001b[0m \u001b[32m━━━━━━━━━━━━━━━━━━━━\u001b[0m\u001b[37m\u001b[0m \u001b[1m1s\u001b[0m 3ms/step - auc: 0.7691 - loss: 0.5533 - val_auc: 0.7705 - val_loss: 0.5517\n",
            "Epoch 22/100\n",
            "\u001b[1m307/307\u001b[0m \u001b[32m━━━━━━━━━━━━━━━━━━━━\u001b[0m\u001b[37m\u001b[0m \u001b[1m1s\u001b[0m 3ms/step - auc: 0.7688 - loss: 0.5531 - val_auc: 0.7706 - val_loss: 0.5514\n",
            "Epoch 23/100\n",
            "\u001b[1m307/307\u001b[0m \u001b[32m━━━━━━━━━━━━━━━━━━━━\u001b[0m\u001b[37m\u001b[0m \u001b[1m1s\u001b[0m 3ms/step - auc: 0.7688 - loss: 0.5532 - val_auc: 0.7709 - val_loss: 0.5514\n",
            "Epoch 24/100\n",
            "\u001b[1m307/307\u001b[0m \u001b[32m━━━━━━━━━━━━━━━━━━━━\u001b[0m\u001b[37m\u001b[0m \u001b[1m1s\u001b[0m 4ms/step - auc: 0.7690 - loss: 0.5531 - val_auc: 0.7710 - val_loss: 0.5513\n",
            "Epoch 25/100\n",
            "\u001b[1m307/307\u001b[0m \u001b[32m━━━━━━━━━━━━━━━━━━━━\u001b[0m\u001b[37m\u001b[0m \u001b[1m3s\u001b[0m 5ms/step - auc: 0.7690 - loss: 0.5532 - val_auc: 0.7710 - val_loss: 0.5512\n",
            "Epoch 26/100\n",
            "\u001b[1m307/307\u001b[0m \u001b[32m━━━━━━━━━━━━━━━━━━━━\u001b[0m\u001b[37m\u001b[0m \u001b[1m2s\u001b[0m 5ms/step - auc: 0.7707 - loss: 0.5515 - val_auc: 0.7707 - val_loss: 0.5515\n",
            "Epoch 27/100\n",
            "\u001b[1m307/307\u001b[0m \u001b[32m━━━━━━━━━━━━━━━━━━━━\u001b[0m\u001b[37m\u001b[0m \u001b[1m1s\u001b[0m 4ms/step - auc: 0.7694 - loss: 0.5526 - val_auc: 0.7712 - val_loss: 0.5510\n",
            "Epoch 28/100\n",
            "\u001b[1m307/307\u001b[0m \u001b[32m━━━━━━━━━━━━━━━━━━━━\u001b[0m\u001b[37m\u001b[0m \u001b[1m2s\u001b[0m 3ms/step - auc: 0.7697 - loss: 0.5524 - val_auc: 0.7710 - val_loss: 0.5512\n",
            "Epoch 29/100\n",
            "\u001b[1m307/307\u001b[0m \u001b[32m━━━━━━━━━━━━━━━━━━━━\u001b[0m\u001b[37m\u001b[0m \u001b[1m1s\u001b[0m 3ms/step - auc: 0.7697 - loss: 0.5522 - val_auc: 0.7714 - val_loss: 0.5512\n",
            "Epoch 30/100\n",
            "\u001b[1m307/307\u001b[0m \u001b[32m━━━━━━━━━━━━━━━━━━━━\u001b[0m\u001b[37m\u001b[0m \u001b[1m1s\u001b[0m 3ms/step - auc: 0.7695 - loss: 0.5527 - val_auc: 0.7712 - val_loss: 0.5511\n",
            "Epoch 31/100\n",
            "\u001b[1m307/307\u001b[0m \u001b[32m━━━━━━━━━━━━━━━━━━━━\u001b[0m\u001b[37m\u001b[0m \u001b[1m1s\u001b[0m 3ms/step - auc: 0.7700 - loss: 0.5524 - val_auc: 0.7714 - val_loss: 0.5508\n",
            "Epoch 32/100\n",
            "\u001b[1m307/307\u001b[0m \u001b[32m━━━━━━━━━━━━━━━━━━━━\u001b[0m\u001b[37m\u001b[0m \u001b[1m1s\u001b[0m 3ms/step - auc: 0.7704 - loss: 0.5520 - val_auc: 0.7714 - val_loss: 0.5509\n",
            "Epoch 33/100\n",
            "\u001b[1m307/307\u001b[0m \u001b[32m━━━━━━━━━━━━━━━━━━━━\u001b[0m\u001b[37m\u001b[0m \u001b[1m1s\u001b[0m 3ms/step - auc: 0.7694 - loss: 0.5527 - val_auc: 0.7715 - val_loss: 0.5507\n",
            "Epoch 34/100\n",
            "\u001b[1m307/307\u001b[0m \u001b[32m━━━━━━━━━━━━━━━━━━━━\u001b[0m\u001b[37m\u001b[0m \u001b[1m1s\u001b[0m 3ms/step - auc: 0.7703 - loss: 0.5521 - val_auc: 0.7714 - val_loss: 0.5509\n",
            "Epoch 35/100\n",
            "\u001b[1m307/307\u001b[0m \u001b[32m━━━━━━━━━━━━━━━━━━━━\u001b[0m\u001b[37m\u001b[0m \u001b[1m2s\u001b[0m 4ms/step - auc: 0.7711 - loss: 0.5514 - val_auc: 0.7713 - val_loss: 0.5510\n",
            "Epoch 36/100\n",
            "\u001b[1m307/307\u001b[0m \u001b[32m━━━━━━━━━━━━━━━━━━━━\u001b[0m\u001b[37m\u001b[0m \u001b[1m2s\u001b[0m 5ms/step - auc: 0.7704 - loss: 0.5517 - val_auc: 0.7715 - val_loss: 0.5506\n",
            "Epoch 37/100\n",
            "\u001b[1m307/307\u001b[0m \u001b[32m━━━━━━━━━━━━━━━━━━━━\u001b[0m\u001b[37m\u001b[0m \u001b[1m2s\u001b[0m 6ms/step - auc: 0.7698 - loss: 0.5523 - val_auc: 0.7716 - val_loss: 0.5506\n",
            "Epoch 38/100\n",
            "\u001b[1m307/307\u001b[0m \u001b[32m━━━━━━━━━━━━━━━━━━━━\u001b[0m\u001b[37m\u001b[0m \u001b[1m2s\u001b[0m 5ms/step - auc: 0.7705 - loss: 0.5517 - val_auc: 0.7715 - val_loss: 0.5508\n",
            "Epoch 39/100\n",
            "\u001b[1m307/307\u001b[0m \u001b[32m━━━━━━━━━━━━━━━━━━━━\u001b[0m\u001b[37m\u001b[0m \u001b[1m2s\u001b[0m 4ms/step - auc: 0.7706 - loss: 0.5515 - val_auc: 0.7714 - val_loss: 0.5507\n",
            "Epoch 40/100\n",
            "\u001b[1m307/307\u001b[0m \u001b[32m━━━━━━━━━━━━━━━━━━━━\u001b[0m\u001b[37m\u001b[0m \u001b[1m1s\u001b[0m 3ms/step - auc: 0.7713 - loss: 0.5512 - val_auc: 0.7719 - val_loss: 0.5504\n",
            "Epoch 41/100\n",
            "\u001b[1m307/307\u001b[0m \u001b[32m━━━━━━━━━━━━━━━━━━━━\u001b[0m\u001b[37m\u001b[0m \u001b[1m1s\u001b[0m 3ms/step - auc: 0.7701 - loss: 0.5523 - val_auc: 0.7716 - val_loss: 0.5506\n",
            "Epoch 42/100\n",
            "\u001b[1m307/307\u001b[0m \u001b[32m━━━━━━━━━━━━━━━━━━━━\u001b[0m\u001b[37m\u001b[0m \u001b[1m1s\u001b[0m 3ms/step - auc: 0.7710 - loss: 0.5513 - val_auc: 0.7717 - val_loss: 0.5504\n",
            "Epoch 43/100\n",
            "\u001b[1m307/307\u001b[0m \u001b[32m━━━━━━━━━━━━━━━━━━━━\u001b[0m\u001b[37m\u001b[0m \u001b[1m1s\u001b[0m 3ms/step - auc: 0.7720 - loss: 0.5502 - val_auc: 0.7715 - val_loss: 0.5507\n",
            "Epoch 44/100\n",
            "\u001b[1m307/307\u001b[0m \u001b[32m━━━━━━━━━━━━━━━━━━━━\u001b[0m\u001b[37m\u001b[0m \u001b[1m1s\u001b[0m 3ms/step - auc: 0.7718 - loss: 0.5508 - val_auc: 0.7718 - val_loss: 0.5506\n",
            "Epoch 45/100\n",
            "\u001b[1m307/307\u001b[0m \u001b[32m━━━━━━━━━━━━━━━━━━━━\u001b[0m\u001b[37m\u001b[0m \u001b[1m1s\u001b[0m 3ms/step - auc: 0.7713 - loss: 0.5512 - val_auc: 0.7714 - val_loss: 0.5509\n",
            "Epoch 46/100\n",
            "\u001b[1m307/307\u001b[0m \u001b[32m━━━━━━━━━━━━━━━━━━━━\u001b[0m\u001b[37m\u001b[0m \u001b[1m1s\u001b[0m 3ms/step - auc: 0.7722 - loss: 0.5503 - val_auc: 0.7717 - val_loss: 0.5505\n",
            "Epoch 47/100\n",
            "\u001b[1m307/307\u001b[0m \u001b[32m━━━━━━━━━━━━━━━━━━━━\u001b[0m\u001b[37m\u001b[0m \u001b[1m1s\u001b[0m 4ms/step - auc: 0.7712 - loss: 0.5510 - val_auc: 0.7717 - val_loss: 0.5505\n",
            "Epoch 48/100\n",
            "\u001b[1m307/307\u001b[0m \u001b[32m━━━━━━━━━━━━━━━━━━━━\u001b[0m\u001b[37m\u001b[0m \u001b[1m1s\u001b[0m 4ms/step - auc: 0.7712 - loss: 0.5512 - val_auc: 0.7719 - val_loss: 0.5503\n",
            "Epoch 49/100\n",
            "\u001b[1m307/307\u001b[0m \u001b[32m━━━━━━━━━━━━━━━━━━━━\u001b[0m\u001b[37m\u001b[0m \u001b[1m3s\u001b[0m 5ms/step - auc: 0.7712 - loss: 0.5512 - val_auc: 0.7718 - val_loss: 0.5506\n",
            "Epoch 50/100\n",
            "\u001b[1m307/307\u001b[0m \u001b[32m━━━━━━━━━━━━━━━━━━━━\u001b[0m\u001b[37m\u001b[0m \u001b[1m2s\u001b[0m 4ms/step - auc: 0.7706 - loss: 0.5517 - val_auc: 0.7718 - val_loss: 0.5504\n",
            "Epoch 51/100\n",
            "\u001b[1m307/307\u001b[0m \u001b[32m━━━━━━━━━━━━━━━━━━━━\u001b[0m\u001b[37m\u001b[0m \u001b[1m1s\u001b[0m 3ms/step - auc: 0.7714 - loss: 0.5511 - val_auc: 0.7719 - val_loss: 0.5504\n",
            "Epoch 52/100\n",
            "\u001b[1m307/307\u001b[0m \u001b[32m━━━━━━━━━━━━━━━━━━━━\u001b[0m\u001b[37m\u001b[0m \u001b[1m1s\u001b[0m 3ms/step - auc: 0.7712 - loss: 0.5512 - val_auc: 0.7718 - val_loss: 0.5503\n",
            "Epoch 53/100\n",
            "\u001b[1m307/307\u001b[0m \u001b[32m━━━━━━━━━━━━━━━━━━━━\u001b[0m\u001b[37m\u001b[0m \u001b[1m1s\u001b[0m 3ms/step - auc: 0.7709 - loss: 0.5517 - val_auc: 0.7721 - val_loss: 0.5501\n",
            "Epoch 54/100\n",
            "\u001b[1m307/307\u001b[0m \u001b[32m━━━━━━━━━━━━━━━━━━━━\u001b[0m\u001b[37m\u001b[0m \u001b[1m1s\u001b[0m 3ms/step - auc: 0.7710 - loss: 0.5516 - val_auc: 0.7719 - val_loss: 0.5502\n",
            "Epoch 55/100\n",
            "\u001b[1m307/307\u001b[0m \u001b[32m━━━━━━━━━━━━━━━━━━━━\u001b[0m\u001b[37m\u001b[0m \u001b[1m1s\u001b[0m 3ms/step - auc: 0.7719 - loss: 0.5505 - val_auc: 0.7721 - val_loss: 0.5501\n",
            "Epoch 56/100\n",
            "\u001b[1m307/307\u001b[0m \u001b[32m━━━━━━━━━━━━━━━━━━━━\u001b[0m\u001b[37m\u001b[0m \u001b[1m1s\u001b[0m 3ms/step - auc: 0.7718 - loss: 0.5506 - val_auc: 0.7719 - val_loss: 0.5501\n",
            "Epoch 57/100\n",
            "\u001b[1m307/307\u001b[0m \u001b[32m━━━━━━━━━━━━━━━━━━━━\u001b[0m\u001b[37m\u001b[0m \u001b[1m1s\u001b[0m 3ms/step - auc: 0.7722 - loss: 0.5502 - val_auc: 0.7719 - val_loss: 0.5503\n",
            "Epoch 58/100\n",
            "\u001b[1m307/307\u001b[0m \u001b[32m━━━━━━━━━━━━━━━━━━━━\u001b[0m\u001b[37m\u001b[0m \u001b[1m1s\u001b[0m 3ms/step - auc: 0.7724 - loss: 0.5503 - val_auc: 0.7721 - val_loss: 0.5502\n",
            "Epoch 59/100\n",
            "\u001b[1m307/307\u001b[0m \u001b[32m━━━━━━━━━━━━━━━━━━━━\u001b[0m\u001b[37m\u001b[0m \u001b[1m2s\u001b[0m 4ms/step - auc: 0.7718 - loss: 0.5510 - val_auc: 0.7716 - val_loss: 0.5505\n",
            "Epoch 60/100\n",
            "\u001b[1m307/307\u001b[0m \u001b[32m━━━━━━━━━━━━━━━━━━━━\u001b[0m\u001b[37m\u001b[0m \u001b[1m3s\u001b[0m 5ms/step - auc: 0.7727 - loss: 0.5500 - val_auc: 0.7719 - val_loss: 0.5503\n",
            "Epoch 61/100\n",
            "\u001b[1m307/307\u001b[0m \u001b[32m━━━━━━━━━━━━━━━━━━━━\u001b[0m\u001b[37m\u001b[0m \u001b[1m3s\u001b[0m 5ms/step - auc: 0.7720 - loss: 0.5504 - val_auc: 0.7722 - val_loss: 0.5500\n",
            "Epoch 62/100\n",
            "\u001b[1m307/307\u001b[0m \u001b[32m━━━━━━━━━━━━━━━━━━━━\u001b[0m\u001b[37m\u001b[0m \u001b[1m2s\u001b[0m 3ms/step - auc: 0.7725 - loss: 0.5503 - val_auc: 0.7721 - val_loss: 0.5501\n",
            "Epoch 63/100\n",
            "\u001b[1m307/307\u001b[0m \u001b[32m━━━━━━━━━━━━━━━━━━━━\u001b[0m\u001b[37m\u001b[0m \u001b[1m1s\u001b[0m 3ms/step - auc: 0.7719 - loss: 0.5506 - val_auc: 0.7723 - val_loss: 0.5499\n",
            "Epoch 64/100\n",
            "\u001b[1m307/307\u001b[0m \u001b[32m━━━━━━━━━━━━━━━━━━━━\u001b[0m\u001b[37m\u001b[0m \u001b[1m1s\u001b[0m 3ms/step - auc: 0.7720 - loss: 0.5507 - val_auc: 0.7721 - val_loss: 0.5501\n",
            "Epoch 65/100\n",
            "\u001b[1m307/307\u001b[0m \u001b[32m━━━━━━━━━━━━━━━━━━━━\u001b[0m\u001b[37m\u001b[0m \u001b[1m1s\u001b[0m 3ms/step - auc: 0.7721 - loss: 0.5507 - val_auc: 0.7719 - val_loss: 0.5502\n",
            "Epoch 66/100\n",
            "\u001b[1m307/307\u001b[0m \u001b[32m━━━━━━━━━━━━━━━━━━━━\u001b[0m\u001b[37m\u001b[0m \u001b[1m1s\u001b[0m 3ms/step - auc: 0.7725 - loss: 0.5501 - val_auc: 0.7724 - val_loss: 0.5499\n",
            "Epoch 67/100\n",
            "\u001b[1m307/307\u001b[0m \u001b[32m━━━━━━━━━━━━━━━━━━━━\u001b[0m\u001b[37m\u001b[0m \u001b[1m1s\u001b[0m 3ms/step - auc: 0.7721 - loss: 0.5503 - val_auc: 0.7720 - val_loss: 0.5501\n",
            "Epoch 68/100\n",
            "\u001b[1m307/307\u001b[0m \u001b[32m━━━━━━━━━━━━━━━━━━━━\u001b[0m\u001b[37m\u001b[0m \u001b[1m1s\u001b[0m 3ms/step - auc: 0.7721 - loss: 0.5505 - val_auc: 0.7722 - val_loss: 0.5501\n",
            "Epoch 69/100\n",
            "\u001b[1m307/307\u001b[0m \u001b[32m━━━━━━━━━━━━━━━━━━━━\u001b[0m\u001b[37m\u001b[0m \u001b[1m1s\u001b[0m 3ms/step - auc: 0.7720 - loss: 0.5504 - val_auc: 0.7720 - val_loss: 0.5503\n",
            "Epoch 70/100\n",
            "\u001b[1m307/307\u001b[0m \u001b[32m━━━━━━━━━━━━━━━━━━━━\u001b[0m\u001b[37m\u001b[0m \u001b[1m1s\u001b[0m 4ms/step - auc: 0.7727 - loss: 0.5498 - val_auc: 0.7720 - val_loss: 0.5501\n",
            "Epoch 71/100\n",
            "\u001b[1m307/307\u001b[0m \u001b[32m━━━━━━━━━━━━━━━━━━━━\u001b[0m\u001b[37m\u001b[0m \u001b[1m2s\u001b[0m 5ms/step - auc: 0.7726 - loss: 0.5500 - val_auc: 0.7725 - val_loss: 0.5497\n",
            "Epoch 72/100\n",
            "\u001b[1m307/307\u001b[0m \u001b[32m━━━━━━━━━━━━━━━━━━━━\u001b[0m\u001b[37m\u001b[0m \u001b[1m3s\u001b[0m 5ms/step - auc: 0.7717 - loss: 0.5509 - val_auc: 0.7722 - val_loss: 0.5500\n",
            "Epoch 73/100\n",
            "\u001b[1m307/307\u001b[0m \u001b[32m━━━━━━━━━━━━━━━━━━━━\u001b[0m\u001b[37m\u001b[0m \u001b[1m2s\u001b[0m 4ms/step - auc: 0.7725 - loss: 0.5503 - val_auc: 0.7720 - val_loss: 0.5501\n",
            "Epoch 74/100\n",
            "\u001b[1m307/307\u001b[0m \u001b[32m━━━━━━━━━━━━━━━━━━━━\u001b[0m\u001b[37m\u001b[0m \u001b[1m1s\u001b[0m 3ms/step - auc: 0.7714 - loss: 0.5509 - val_auc: 0.7721 - val_loss: 0.5500\n",
            "Epoch 75/100\n",
            "\u001b[1m307/307\u001b[0m \u001b[32m━━━━━━━━━━━━━━━━━━━━\u001b[0m\u001b[37m\u001b[0m \u001b[1m1s\u001b[0m 3ms/step - auc: 0.7728 - loss: 0.5500 - val_auc: 0.7721 - val_loss: 0.5500\n",
            "Epoch 76/100\n",
            "\u001b[1m307/307\u001b[0m \u001b[32m━━━━━━━━━━━━━━━━━━━━\u001b[0m\u001b[37m\u001b[0m \u001b[1m1s\u001b[0m 3ms/step - auc: 0.7728 - loss: 0.5498 - val_auc: 0.7723 - val_loss: 0.5499\n",
            "Epoch 77/100\n",
            "\u001b[1m307/307\u001b[0m \u001b[32m━━━━━━━━━━━━━━━━━━━━\u001b[0m\u001b[37m\u001b[0m \u001b[1m1s\u001b[0m 3ms/step - auc: 0.7725 - loss: 0.5499 - val_auc: 0.7723 - val_loss: 0.5499\n",
            "Epoch 78/100\n",
            "\u001b[1m307/307\u001b[0m \u001b[32m━━━━━━━━━━━━━━━━━━━━\u001b[0m\u001b[37m\u001b[0m \u001b[1m1s\u001b[0m 3ms/step - auc: 0.7717 - loss: 0.5506 - val_auc: 0.7722 - val_loss: 0.5499\n",
            "Epoch 79/100\n",
            "\u001b[1m307/307\u001b[0m \u001b[32m━━━━━━━━━━━━━━━━━━━━\u001b[0m\u001b[37m\u001b[0m \u001b[1m1s\u001b[0m 3ms/step - auc: 0.7728 - loss: 0.5495 - val_auc: 0.7723 - val_loss: 0.5499\n",
            "Epoch 80/100\n",
            "\u001b[1m307/307\u001b[0m \u001b[32m━━━━━━━━━━━━━━━━━━━━\u001b[0m\u001b[37m\u001b[0m \u001b[1m1s\u001b[0m 3ms/step - auc: 0.7722 - loss: 0.5500 - val_auc: 0.7719 - val_loss: 0.5501\n",
            "Epoch 81/100\n",
            "\u001b[1m307/307\u001b[0m \u001b[32m━━━━━━━━━━━━━━━━━━━━\u001b[0m\u001b[37m\u001b[0m \u001b[1m1s\u001b[0m 3ms/step - auc: 0.7728 - loss: 0.5499 - val_auc: 0.7724 - val_loss: 0.5497\n",
            "Epoch 82/100\n",
            "\u001b[1m307/307\u001b[0m \u001b[32m━━━━━━━━━━━━━━━━━━━━\u001b[0m\u001b[37m\u001b[0m \u001b[1m2s\u001b[0m 5ms/step - auc: 0.7724 - loss: 0.5501 - val_auc: 0.7724 - val_loss: 0.5499\n",
            "Epoch 83/100\n",
            "\u001b[1m307/307\u001b[0m \u001b[32m━━━━━━━━━━━━━━━━━━━━\u001b[0m\u001b[37m\u001b[0m \u001b[1m3s\u001b[0m 5ms/step - auc: 0.7729 - loss: 0.5497 - val_auc: 0.7724 - val_loss: 0.5497\n",
            "Epoch 84/100\n",
            "\u001b[1m307/307\u001b[0m \u001b[32m━━━━━━━━━━━━━━━━━━━━\u001b[0m\u001b[37m\u001b[0m \u001b[1m3s\u001b[0m 5ms/step - auc: 0.7728 - loss: 0.5497 - val_auc: 0.7721 - val_loss: 0.5501\n",
            "Epoch 85/100\n",
            "\u001b[1m307/307\u001b[0m \u001b[32m━━━━━━━━━━━━━━━━━━━━\u001b[0m\u001b[37m\u001b[0m \u001b[1m1s\u001b[0m 3ms/step - auc: 0.7731 - loss: 0.5494 - val_auc: 0.7721 - val_loss: 0.5499\n",
            "Epoch 86/100\n",
            "\u001b[1m307/307\u001b[0m \u001b[32m━━━━━━━━━━━━━━━━━━━━\u001b[0m\u001b[37m\u001b[0m \u001b[1m1s\u001b[0m 3ms/step - auc: 0.7726 - loss: 0.5500 - val_auc: 0.7722 - val_loss: 0.5501\n",
            "Epoch 87/100\n",
            "\u001b[1m307/307\u001b[0m \u001b[32m━━━━━━━━━━━━━━━━━━━━\u001b[0m\u001b[37m\u001b[0m \u001b[1m1s\u001b[0m 3ms/step - auc: 0.7719 - loss: 0.5506 - val_auc: 0.7722 - val_loss: 0.5499\n",
            "Epoch 88/100\n",
            "\u001b[1m307/307\u001b[0m \u001b[32m━━━━━━━━━━━━━━━━━━━━\u001b[0m\u001b[37m\u001b[0m \u001b[1m1s\u001b[0m 3ms/step - auc: 0.7729 - loss: 0.5497 - val_auc: 0.7722 - val_loss: 0.5498\n",
            "Epoch 89/100\n",
            "\u001b[1m307/307\u001b[0m \u001b[32m━━━━━━━━━━━━━━━━━━━━\u001b[0m\u001b[37m\u001b[0m \u001b[1m1s\u001b[0m 3ms/step - auc: 0.7723 - loss: 0.5502 - val_auc: 0.7722 - val_loss: 0.5499\n",
            "Epoch 90/100\n",
            "\u001b[1m307/307\u001b[0m \u001b[32m━━━━━━━━━━━━━━━━━━━━\u001b[0m\u001b[37m\u001b[0m \u001b[1m1s\u001b[0m 3ms/step - auc: 0.7727 - loss: 0.5499 - val_auc: 0.7724 - val_loss: 0.5497\n",
            "Epoch 91/100\n",
            "\u001b[1m307/307\u001b[0m \u001b[32m━━━━━━━━━━━━━━━━━━━━\u001b[0m\u001b[37m\u001b[0m \u001b[1m1s\u001b[0m 3ms/step - auc: 0.7731 - loss: 0.5493 - val_auc: 0.7725 - val_loss: 0.5499\n",
            "Epoch 92/100\n",
            "\u001b[1m307/307\u001b[0m \u001b[32m━━━━━━━━━━━━━━━━━━━━\u001b[0m\u001b[37m\u001b[0m \u001b[1m1s\u001b[0m 3ms/step - auc: 0.7727 - loss: 0.5499 - val_auc: 0.7724 - val_loss: 0.5497\n",
            "Epoch 93/100\n",
            "\u001b[1m307/307\u001b[0m \u001b[32m━━━━━━━━━━━━━━━━━━━━\u001b[0m\u001b[37m\u001b[0m \u001b[1m1s\u001b[0m 4ms/step - auc: 0.7731 - loss: 0.5493 - val_auc: 0.7723 - val_loss: 0.5498\n",
            "Epoch 94/100\n",
            "\u001b[1m307/307\u001b[0m \u001b[32m━━━━━━━━━━━━━━━━━━━━\u001b[0m\u001b[37m\u001b[0m \u001b[1m2s\u001b[0m 5ms/step - auc: 0.7725 - loss: 0.5497 - val_auc: 0.7721 - val_loss: 0.5501\n",
            "Epoch 95/100\n",
            "\u001b[1m307/307\u001b[0m \u001b[32m━━━━━━━━━━━━━━━━━━━━\u001b[0m\u001b[37m\u001b[0m \u001b[1m2s\u001b[0m 5ms/step - auc: 0.7732 - loss: 0.5496 - val_auc: 0.7722 - val_loss: 0.5498\n",
            "Epoch 96/100\n",
            "\u001b[1m307/307\u001b[0m \u001b[32m━━━━━━━━━━━━━━━━━━━━\u001b[0m\u001b[37m\u001b[0m \u001b[1m2s\u001b[0m 5ms/step - auc: 0.7733 - loss: 0.5495 - val_auc: 0.7726 - val_loss: 0.5497\n",
            "Epoch 97/100\n",
            "\u001b[1m307/307\u001b[0m \u001b[32m━━━━━━━━━━━━━━━━━━━━\u001b[0m\u001b[37m\u001b[0m \u001b[1m2s\u001b[0m 3ms/step - auc: 0.7730 - loss: 0.5497 - val_auc: 0.7724 - val_loss: 0.5497\n",
            "Epoch 98/100\n",
            "\u001b[1m307/307\u001b[0m \u001b[32m━━━━━━━━━━━━━━━━━━━━\u001b[0m\u001b[37m\u001b[0m \u001b[1m1s\u001b[0m 3ms/step - auc: 0.7732 - loss: 0.5494 - val_auc: 0.7723 - val_loss: 0.5498\n",
            "Epoch 99/100\n",
            "\u001b[1m307/307\u001b[0m \u001b[32m━━━━━━━━━━━━━━━━━━━━\u001b[0m\u001b[37m\u001b[0m \u001b[1m1s\u001b[0m 3ms/step - auc: 0.7733 - loss: 0.5493 - val_auc: 0.7723 - val_loss: 0.5498\n",
            "Epoch 100/100\n",
            "\u001b[1m307/307\u001b[0m \u001b[32m━━━━━━━━━━━━━━━━━━━━\u001b[0m\u001b[37m\u001b[0m \u001b[1m1s\u001b[0m 3ms/step - auc: 0.7728 - loss: 0.5498 - val_auc: 0.7722 - val_loss: 0.5499\n"
          ]
        }
      ],
      "source": [
        "# TODO : Train your Model\n",
        "\n",
        "# تعداد ایپاک‌ها و یا بچ‌ها می‌تواند زیاد یا کم شود\n",
        "epochs = 100\n",
        "BATCH_SIZE = 4096\n",
        "\n",
        "history = model.fit(X_train, y_train,\n",
        "                    batch_size = BATCH_SIZE,\n",
        "                    epochs = epochs,\n",
        "                    validation_data = (X_valid, y_valid))"
      ]
    },
    {
      "cell_type": "markdown",
      "id": "8e88c0c8-ff7f-4ad6-885a-c25e94f19a36",
      "metadata": {
        "id": "8e88c0c8-ff7f-4ad6-885a-c25e94f19a36"
      },
      "source": [
        "<h2 dir=rtl align=right style=\"line-height:200%;font-family:vazir;color:#0099cc\">\n",
        "<font face=\"vazir\" color=\"#0099cc\">\n",
        "پیش‌بینی\n",
        "</font>\n",
        "</h2>\n",
        "\n",
        "<p dir=rtl style=\"direction: rtl; text-align: justify; line-height:200%; font-family:vazir; font-size:medium\">\n",
        "<font face=\"vazir\" size=3>\n",
        "در فایل <code>test.csv</code> لیستی از نمونه‌های آزمون در اختیار شما قرار گرفته و نیاز است به‌ازای هر کدام از آن‌ها احتمال رزرو هتل را پیش‌بینی کنید. پیشنهاد می‌کنیم برای اطمینان از عملکرد مدل خود و بهبود آن، ابتدا آن را بر روی یک مجموعه‌ی اعتبارسنجی آزمایش کنید.\n",
        "</font>\n",
        "</p>\n",
        "\n",
        "\n",
        "<h3 dir=rtl align=right style=\"line-height:200%;font-family:vazir;color:#0099cc\">\n",
        "<font face=\"vazir\" color=\"#0099cc\">\n",
        "معیار ارزیابی\n",
        "</font>\n",
        "</h3>\n",
        "\n",
        "<p dir=rtl style=\"direction: rtl; text-align: justify; line-height:200%; font-family:vazir; font-size:medium\">\n",
        "<font face=\"vazir\" size=3>\n",
        "برای ارزیابی عملکرد مدل شما بر روی نمونه‌های آزمون از معیار <code>AUC</code> نمودار <code>ROC</code> استفاده می‌کنیم.\n",
        "</font>\n",
        "</p>\n",
        "\n",
        "\n",
        "<p dir=rtl style=\"direction: rtl; text-align: justify; line-height:200%; font-family:vazir; font-size:medium\">\n",
        "<font color=\"red\"><b color='red'>توجه:</b></font>\n",
        "<font face=\"vazir\" size=3>\n",
        " جهت کسب امتیاز کامل نیاز است تا پاسخ شما حداقل امتیاز <code>76.5</code> را با توجه به معیار معرفی‌شده کسب نماید.\n",
        "</font>\n",
        "</p>"
      ]
    },
    {
      "cell_type": "code",
      "execution_count": 53,
      "id": "ec07d670-befe-4e3f-8977-fde3dce046a7",
      "metadata": {
        "colab": {
          "base_uri": "https://localhost:8080/"
        },
        "id": "ec07d670-befe-4e3f-8977-fde3dce046a7",
        "outputId": "d63e2325-3a11-4c79-afc0-d7a4ef9218a3"
      },
      "outputs": [
        {
          "output_type": "stream",
          "name": "stdout",
          "text": [
            "\u001b[1m2066/2066\u001b[0m \u001b[32m━━━━━━━━━━━━━━━━━━━━\u001b[0m\u001b[37m\u001b[0m \u001b[1m5s\u001b[0m 2ms/step\n"
          ]
        },
        {
          "output_type": "execute_result",
          "data": {
            "text/plain": [
              "0.7722332929384126"
            ]
          },
          "metadata": {},
          "execution_count": 53
        }
      ],
      "source": [
        "from sklearn.metrics import roc_auc_score\n",
        "\n",
        "# TODO: Evaluate Model\n",
        "roc_auc_score(y_valid, model.predict(X_valid))"
      ]
    },
    {
      "cell_type": "markdown",
      "id": "8fae4c46-b0da-43e0-987e-9694fd2b3f18",
      "metadata": {
        "id": "8fae4c46-b0da-43e0-987e-9694fd2b3f18"
      },
      "source": [
        "<h3 align=right style=\"line-height:200%;font-family:vazir;color:#0099cc\">\n",
        "<font face=\"vazir\" color=\"#0099cc\">\n",
        "ساختار خروجی برای نمونه‌های آزمون\n",
        "</font>\n",
        "</h3>\n",
        "\n",
        "<p dir=rtl style=\"direction: rtl; text-align: justify; line-height:200%; font-family:vazir; font-size:medium\">\n",
        "<font face=\"vazir\" size=3>\n",
        "اکنون نیاز است به‌ازای هر نمونه‌ی آزمون <b style=\"color:#0099cc\">احتمال</b> رزرو هتل را پیش‌بینی کنید.\n",
        " پیش‌بینی مدل خود را برای نمونه‌های آزمون تولید کرده و در ستون <code>prediction</code> دیتافریمی با نام <code>submission</code> ذخیره کنید. توجه داشته باشید که ترتیب مقادیر این ستون باید دقیقاً معادل با ترتیب نمونه‌های آزمون باشد. به این معنی که  ردیف i ام ستون <code>submission</code>، پیش‌بینی شما برای سطر ردیف <code>i</code> ام فایل آزمون باشد (دقت کنید که این ستون باید حتماً دارای <code>header</code> باشد).  همچنین از آنجایی که این ستون بیانگر احتمال است مقادیر این ستون باید مقداری <b>بین</b> <code>0</code> تا <code>1</code> باشد.\n",
        "</font>\n",
        "</p>\n",
        "\n",
        "<p dir=rtl style=\"direction: rtl; text-align: justify; line-height:200%; font-family:vazir; font-size:medium\">\n",
        "<font face=\"vazir\" size=3>\n",
        "یک نمونه‌ی فرضی از دیتافریم <code>submission</code> در جدول زیر نمایش داده شده است.\n",
        " </font>\n",
        "</p>\n",
        "<center>\n",
        "<div dir=rtl style=\"direction: rtl;line-height:200%;font-family:vazir;font-size:medium\">\n",
        "<font face=\"vazir\" size=3>\n",
        "\n",
        "|<code>prediction</code>|\n",
        "|:------:|\n",
        "|0.723|\n",
        "|0.516|\n",
        "|0.281|\n",
        "| ... |\n",
        "\n",
        "    \n",
        "</font>\n",
        "</div>\n",
        "</center>"
      ]
    },
    {
      "cell_type": "code",
      "execution_count": 54,
      "id": "825a11e7-fd44-4ced-b9b1-b21b896fd389",
      "metadata": {
        "colab": {
          "base_uri": "https://localhost:8080/"
        },
        "id": "825a11e7-fd44-4ced-b9b1-b21b896fd389",
        "outputId": "71d04fa6-0d93-46b0-d9ee-55fc8243b3b6"
      },
      "outputs": [
        {
          "output_type": "stream",
          "name": "stdout",
          "text": [
            "\u001b[1m10182/10182\u001b[0m \u001b[32m━━━━━━━━━━━━━━━━━━━━\u001b[0m\u001b[37m\u001b[0m \u001b[1m15s\u001b[0m 1ms/step\n"
          ]
        }
      ],
      "source": [
        "# Preparing Submission Dataframe\n",
        "\n",
        "submission = pd.DataFrame(model.predict(test), columns = ['prediction'])"
      ]
    },
    {
      "cell_type": "markdown",
      "id": "61ebb2aa-2b7a-461b-a6aa-d912671cb8a7",
      "metadata": {
        "id": "61ebb2aa-2b7a-461b-a6aa-d912671cb8a7"
      },
      "source": [
        "<h2 align=right style=\"line-height:200%;font-family:vazir;color:#0099cc\">\n",
        "<font face=\"vazir\" color=\"#0099cc\">\n",
        "<b>سلول جواب‌ساز</b>\n",
        "</font>\n",
        "</h2>\n",
        "\n",
        "<p dir=rtl style=\"direction: rtl; text-align: justify; line-height:200%; font-family:vazir; font-size:medium\">\n",
        "<font face=\"vazir\" size=3>\n",
        "    برای ساخته‌شدن فایل <code>result.zip</code> سلول زیر را اجرا کنید. توجه داشته باشید که پیش از اجرای سلول زیر تغییرات اعمال شده در نت‌بوک را ذخیره کرده باشید (<code>ctrl+s</code>) تا در صورت نیاز به پشتیبانی امکان بررسی کد شما وجود داشته باشد. همچنین اگر از گوگل کولب استفاده می‌کنید، در صورت نیاز به پشتیبانی حتماً آخرین نسخه از نت‌بوک را به‌صورت دستی دانلود کرده و داخل فایل ارسالی قرار دهید یا لینک کولب را با ما به‌اشتراک بگذارید.\n",
        "</font>\n",
        "</p>"
      ]
    },
    {
      "cell_type": "code",
      "execution_count": 55,
      "id": "91766915-4a0f-4246-8273-d661a18927b3",
      "metadata": {
        "colab": {
          "base_uri": "https://localhost:8080/"
        },
        "id": "91766915-4a0f-4246-8273-d661a18927b3",
        "outputId": "b3b8bb94-b175-4f01-b530-905517f6bf91"
      },
      "outputs": [
        {
          "output_type": "stream",
          "name": "stdout",
          "text": [
            "File Paths:\n",
            "['will_not_travel_again.ipynb', 'submission.csv', 'search_hour.json', 'checkIn_date_month.json', 'checkIn_day.json', 'days_between.json', 'los.json']\n"
          ]
        }
      ],
      "source": [
        "import zipfile\n",
        "import joblib\n",
        "import os\n",
        "\n",
        "if not os.path.exists(os.path.join(os.getcwd(), 'will_not_travel_again.ipynb')):\n",
        "    %notebook -e will_not_travel_again.ipynb\n",
        "\n",
        "def compress(file_names):\n",
        "    print(\"File Paths:\")\n",
        "    print(file_names)\n",
        "    compression = zipfile.ZIP_DEFLATED\n",
        "    with zipfile.ZipFile(\"result.zip\", mode=\"w\") as zf:\n",
        "        for file_name in file_names:\n",
        "            zf.write('./' + file_name, file_name, compress_type=compression)\n",
        "\n",
        "submission.to_csv('submission.csv', index=False)\n",
        "file_names = ['will_not_travel_again.ipynb', 'submission.csv',\n",
        "              'search_hour.json', 'checkIn_date_month.json',\n",
        "              'checkIn_day.json', 'days_between.json', 'los.json']\n",
        "compress(file_names)"
      ]
    }
  ],
  "metadata": {
    "kernelspec": {
      "display_name": "Python 3",
      "name": "python3"
    },
    "language_info": {
      "codemirror_mode": {
        "name": "ipython",
        "version": 3
      },
      "file_extension": ".py",
      "mimetype": "text/x-python",
      "name": "python",
      "nbconvert_exporter": "python",
      "pygments_lexer": "ipython3",
      "version": "3.9.6"
    },
    "vscode": {
      "interpreter": {
        "hash": "44e7e1b8fa2096bd5707ed7fd18b1724a2db25f4c565a7673f8b6e7bfc49d25d"
      }
    },
    "colab": {
      "provenance": [],
      "gpuType": "T4"
    },
    "accelerator": "GPU"
  },
  "nbformat": 4,
  "nbformat_minor": 5
}